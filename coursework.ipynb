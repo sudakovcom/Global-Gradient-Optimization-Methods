{
 "cells": [
  {
   "cell_type": "markdown",
   "id": "aa924aaa",
   "metadata": {},
   "source": [
    "# Глобальные градиентные методы оптимизации"
   ]
  },
  {
   "cell_type": "markdown",
   "id": "aa453f63",
   "metadata": {},
   "source": [
    "#### Подключим необходимые библиотеки"
   ]
  },
  {
   "cell_type": "code",
   "execution_count": 1,
   "id": "531b6fe9",
   "metadata": {
    "ExecuteTime": {
     "end_time": "2023-05-14T23:29:08.741992Z",
     "start_time": "2023-05-14T23:29:08.638705Z"
    }
   },
   "outputs": [],
   "source": [
    "import numpy as np\n",
    "from interval import imath\n",
    "from interval import fpu\n",
    "from interval import interval\n",
    "from functions import Functions"
   ]
  },
  {
   "cell_type": "markdown",
   "id": "cab9b68b",
   "metadata": {
    "collapsed": false
   },
   "source": [
    "#### Вспомогательные функции, которые пригодятся далее"
   ]
  },
  {
   "cell_type": "code",
   "execution_count": 2,
   "id": "4a1c4f7f",
   "metadata": {
    "ExecuteTime": {
     "end_time": "2023-05-14T23:29:21.739262Z",
     "start_time": "2023-05-14T23:29:21.736505Z"
    },
    "collapsed": false
   },
   "outputs": [],
   "source": [
    "# возвращает левую границу интервала\n",
    "def left(interval):\n",
    "    return fpu.max(interval)[0]\n",
    "\n",
    "# возвращает правую границу интервала\n",
    "def right(interval):\n",
    "    return fpu.max(interval)[1]\n",
    "\n",
    "# возвращает середину интервала\n",
    "def mid(interval):\n",
    "    return (fpu.max(interval)[0] + fpu.max(interval)[1]) / 2\n",
    "\n",
    "# возвращает евклидово расстояние между 2 векторами\n",
    "def dist(p_1, p_2):\n",
    "    return np.sqrt(np.sum(np.square(np.array(p_1) - np.array(p_2))))"
   ]
  },
  {
   "cell_type": "markdown",
   "id": "ef1bd5e3",
   "metadata": {},
   "source": [
    "#### Напишем алгоритм, который будет находить локальный минимум функции вдоль заданного направления.\n",
    "#### Алгоритм будет основываться на методе \"золотого сечения\", так как является наиболее эффективным среди основных методов одномерной оптимизации."
   ]
  },
  {
   "cell_type": "code",
   "execution_count": 3,
   "id": "d21d3f7e",
   "metadata": {
    "ExecuteTime": {
     "end_time": "2023-05-14T23:29:34.850828Z",
     "start_time": "2023-05-14T23:29:34.827552Z"
    }
   },
   "outputs": [],
   "source": [
    "def GoldenRatio(func_index, index, a, b, p, e_d, e_f):  # f(function), i(index of direction), a(left border), b(right border), p(current point), e_d(error of d), e_f(error of f)\n",
    "    F = Functions[func_index * 2]\n",
    "    phi = (1 + np.sqrt(5)) / 2  # constant of golden ratio\n",
    "    x_1 = b - (b - a) / phi\n",
    "    x_2 = a + (b - a) / phi\n",
    "    p_1 = p.copy()  # current point\n",
    "    p_2 = p.copy()  # current point\n",
    "    p_1[index] = x_1\n",
    "    p_2[index] = x_2\n",
    "    f_1 = F(p_1)  # value in 1-st point\n",
    "    f_2 = F(p_2)  # value in 2-nd point\n",
    "    while (b - a > e_d) | (abs(f_1 - f_2) > e_f):  # termination criteria\n",
    "        if f_1 <= f_2:\n",
    "            b = x_2\n",
    "            x_2 = x_1\n",
    "            x_1 = b - (b - a) / phi\n",
    "            p_1[index] = x_1\n",
    "            p_2[index] = x_2\n",
    "            f_2 = f_1\n",
    "            f_1 = F(p_1)\n",
    "        else:\n",
    "            a = x_1\n",
    "            x_1 = x_2\n",
    "            x_2 = a + (b - a) / phi\n",
    "            p_1[index] = x_1\n",
    "            p_2[index] = x_2\n",
    "            f_1 = f_2\n",
    "            f_2 = F(p_2)\n",
    "\n",
    "    best_point = []\n",
    "    for i in range(len(p)):\n",
    "        best_point.append((p_1[i] + p_2[i]) / 2)\n",
    "\n",
    "    if F(best_point) > F(p):\n",
    "        best_point = p\n",
    "        \n",
    "    return best_point  # point of extremum with error e_d"
   ]
  },
  {
   "cell_type": "markdown",
   "id": "45df757b",
   "metadata": {
    "collapsed": false
   },
   "source": [
    "#### Теперь реализуем алгоритм Moore-Skelboe, который находит глобальный минимум функции вдоль направления коллинеарного главным осям."
   ]
  },
  {
   "cell_type": "code",
   "execution_count": 4,
   "id": "b0adbbe4",
   "metadata": {
    "ExecuteTime": {
     "end_time": "2023-05-14T23:29:54.690368Z",
     "start_time": "2023-05-14T23:29:54.672765Z"
    },
    "collapsed": false
   },
   "outputs": [],
   "source": [
    "def MooreSkelboe(func_index, index, a, b, p, e_d,\n",
    "                 e_f):  # func_index(number of function in list of functions), index(index of direction),\n",
    "    # a(left border), b(right border), p(current point), e_d(error of d), e_f(error of f)\n",
    "    F = Functions[func_index * 2 + 1]\n",
    "    interval_d = []\n",
    "    for i in range(len(p)):\n",
    "        interval_d.append(interval[p[i], p[i]])\n",
    "    interval_d[index] = interval[a, b]\n",
    "\n",
    "    interval_f = F(interval_d)\n",
    "    set_of_intervals = [[interval_d, interval_f]]\n",
    "    U = right(interval_f)\n",
    "    w_f = right(interval_f) - left(interval_f)\n",
    "    w_d = right(interval_d[index]) - left(interval_d[index])\n",
    "    best_interval = set_of_intervals[0]\n",
    "    while (w_d > e_d) | (w_f > e_f):\n",
    "        set_of_intervals.pop(0)\n",
    "        mid_p = mid(best_interval[0][index])\n",
    "        interval_1 = best_interval[0].copy()\n",
    "        interval_2 = best_interval[0].copy()\n",
    "        interval_1[index] = interval[left(best_interval[0][index]), mid_p]\n",
    "        interval_1_f = F(interval_1)\n",
    "        interval_2[index] = interval[mid_p, right(best_interval[0][index])]\n",
    "        interval_2_f = F(interval_2)\n",
    "        U = min(U, right(interval_1_f))\n",
    "        U = min(U, right(interval_2_f))\n",
    "\n",
    "\n",
    "        if (len(set_of_intervals)>0) and (U<left(set_of_intervals[-1][1])):\n",
    "            l = 0\n",
    "            r = len(set_of_intervals) - 1\n",
    "            while l < r:\n",
    "                m = int((l + r) / 2)\n",
    "                if left(set_of_intervals[m][1]) > U:\n",
    "                   r = m\n",
    "                else:\n",
    "                    l = m + 1\n",
    "            set_of_intervals = set_of_intervals[:l]\n",
    "\n",
    "        set_of_intervals.append([interval_1, interval_1_f])\n",
    "        set_of_intervals.append([interval_2, interval_2_f])\n",
    "        set_of_intervals.sort(key=lambda item: left(item[1]))\n",
    "\n",
    "\n",
    "        best_interval = set_of_intervals[0]\n",
    "        w_f = right(best_interval[1]) - left(best_interval[1])\n",
    "        w_d = right(best_interval[0][index]) - left(best_interval[0][index])\n",
    "\n",
    "    best_point = []\n",
    "    for i in range(len(p)):\n",
    "        best_point.append(mid(best_interval[0][i]))\n",
    "\n",
    "    return best_point"
   ]
  },
  {
   "cell_type": "markdown",
   "id": "6cbe0607",
   "metadata": {},
   "source": [
    "#### Функция которая реализует метод координатного спуска: последовательно ищет минимум вдоль направлений коллинеарным главным осям и останавливается, когда улучшение точности становится малым."
   ]
  },
  {
   "cell_type": "code",
   "execution_count": 5,
   "id": "357a84d7",
   "metadata": {
    "ExecuteTime": {
     "end_time": "2023-05-14T23:30:00.436541Z",
     "start_time": "2023-05-14T23:30:00.432714Z"
    }
   },
   "outputs": [],
   "source": [
    "def CoordinateDescent(func_index, D, p, e_d, e_f, method):  # F(function), D(set), p(start point), e(error)\n",
    "    while True:\n",
    "        p_0 = p\n",
    "        for index in range(len(p)):\n",
    "            p = method(func_index, index, D[index][0], D[index][1], p, e_d, e_f)\n",
    "        if (dist(p_0, p) < e_d) & (Functions[func_index * 2](p_0) - Functions[func_index * 2](p) < e_f):\n",
    "            break\n",
    "\n",
    "    best_point = p\n",
    "    best_value = Functions[func_index * 2](p)\n",
    "\n",
    "    return best_point, best_value"
   ]
  },
  {
   "cell_type": "markdown",
   "id": "b7061ad9",
   "metadata": {
    "collapsed": false
   },
   "source": [
    "#### Функция для вывода результата работы алгоритма"
   ]
  },
  {
   "cell_type": "code",
   "execution_count": 6,
   "id": "2ea8c563",
   "metadata": {
    "ExecuteTime": {
     "end_time": "2023-05-14T23:30:02.876900Z",
     "start_time": "2023-05-14T23:30:02.837381Z"
    },
    "collapsed": false
   },
   "outputs": [],
   "source": [
    "def CoordinateResult(func_num, D, p, e_d, e_f):\n",
    "    p_1, v_1 = CoordinateDescent(func_num, D, p, e_d, e_f, GoldenRatio)  # point of minimum\n",
    "    p_2, v_2 = CoordinateDescent(func_num, D, p, e_d, e_f, MooreSkelboe)  # point of minimum\n",
    "    print(\"Результат тестирования:\")\n",
    "    print(\"Golden Ratio:\", v_1)\n",
    "    print(\"Moore-Skelboe:\", v_2)\n"
   ]
  },
  {
   "cell_type": "code",
   "execution_count": 7,
   "id": "b7cd054a",
   "metadata": {
    "ExecuteTime": {
     "end_time": "2023-05-14T23:30:04.878127Z",
     "start_time": "2023-05-14T23:30:04.872530Z"
    },
    "collapsed": false
   },
   "outputs": [],
   "source": [
    "def print_result1(func_num, D, p, e_d, e_f):\n",
    "    p_1, v_1 = CoordinateDescent(func_num, D, p, e_d, e_f, GoldenRatio)  # point of minimum\n",
    "    print(\"Результат тестирования:\")\n",
    "    print(\"Golden Ratio:\", v_1)"
   ]
  },
  {
   "cell_type": "code",
   "execution_count": 8,
   "id": "827b845a",
   "metadata": {
    "ExecuteTime": {
     "end_time": "2023-05-14T23:30:07.607667Z",
     "start_time": "2023-05-14T23:30:07.602140Z"
    },
    "collapsed": false
   },
   "outputs": [],
   "source": [
    "def print_result2(func_num, D, p, e_d, e_f):\n",
    "    p_2, v_2 = CoordinateDescent(func_num, D, p, e_d, e_f, MooreSkelboe)  # point of minimum\n",
    "    print(\"Результат тестирования:\")\n",
    "    print(\"Moore-Skelboe:\", v_2)"
   ]
  },
  {
   "cell_type": "markdown",
   "id": "8b94d8ba",
   "metadata": {
    "collapsed": false
   },
   "source": [
    "#### Продемонстрируем работу методов на известных тестовых функциях глобальной оптимизации, применяя их в координатном спуске"
   ]
  },
  {
   "cell_type": "code",
   "execution_count": 11,
   "id": "322353ce",
   "metadata": {
    "ExecuteTime": {
     "end_time": "2023-05-14T23:30:23.501537Z",
     "start_time": "2023-05-14T23:30:12.379342Z"
    },
    "collapsed": false
   },
   "outputs": [
    {
     "name": "stdout",
     "output_type": "stream",
     "text": [
      "Результат тестирования:\n",
      "Golden Ratio: 99.49642551412171\n"
     ]
    }
   ],
   "source": [
    "# Функция Растригина\n",
    "n = 100\n",
    "l = -10\n",
    "r = 10\n",
    "D = [[l, r]] * n\n",
    "p = [1] * n\n",
    "# CoordinateResult(5, D, p, 0.001, 0.001)\n",
    "print_result1(5, D, p, 0.001, 0.001)"
   ]
  },
  {
   "cell_type": "code",
   "execution_count": 12,
   "id": "a6cb3a85",
   "metadata": {},
   "outputs": [
    {
     "name": "stdout",
     "output_type": "stream",
     "text": [
      "Результат тестирования:\n",
      "Golden Ratio: 3.5744545080266503\n"
     ]
    }
   ],
   "source": [
    "# Функция Экли\n",
    "n = 100\n",
    "l = -10\n",
    "r = 10\n",
    "D = [[l, r]] * n\n",
    "p = [2] * n\n",
    "# CoordinateResult(15, D, p, 0.001, 0.001)\n",
    "\n",
    "print_result1(15, D, p, 0.001, 0.001)\n",
    "# print_result2(15, D, p, 0.001, 0.001)"
   ]
  },
  {
   "cell_type": "markdown",
   "metadata": {
    "collapsed": false
   },
   "source": [
    "### Реализуем теперь градиентные алгоритмы"
   ]
  },
  {
   "cell_type": "code",
   "execution_count": 9,
   "metadata": {
    "collapsed": false
   },
   "outputs": [],
   "source": [
    "def Gradient(D, p, f, step):  # градиент с отражением\n",
    "    gradient = np.array([0.] * len(p))\n",
    "    p_ = p.copy()\n",
    "    for i in range(len(p)):\n",
    "        p_[i] += step\n",
    "        gradient[i] = (f(p_) - f(p)) / step\n",
    "\n",
    "        if (abs(p[i] - D[i][0]) < step) & (gradient[i] < 0):\n",
    "            gradient[i] = 0\n",
    "        if (abs(p[i] - D[i][1]) < step) & (gradient[i] > 0):\n",
    "            gradient[i] = 0\n",
    "        p_[i] -= step\n",
    "    return gradient"
   ]
  },
  {
   "cell_type": "code",
   "execution_count": 10,
   "metadata": {
    "collapsed": false
   },
   "outputs": [],
   "source": [
    "def GradientDescent(func_index, D, p, e_d, e_f,\n",
    "                method):  # F(function), D(set), p(start point), e(error)\n",
    "    F = Functions[func_index * 2]\n",
    "    gradient = Gradient(D, p, F, e_d)\n",
    "    while np.linalg.norm(gradient) > e_f:\n",
    "        p_0 = p\n",
    "        p = method(func_index, gradient, D, p, e_d, e_f)\n",
    "        gradient = Gradient(D, p, F, e_d)\n",
    "        if dist(p, p_0) < e_d or abs(F(p) - F(p_0))<e_f:\n",
    "            break\n",
    "\n",
    "    best_point = p\n",
    "    best_value = Functions[func_index * 2](p)\n",
    "    return best_point, best_value"
   ]
  },
  {
   "cell_type": "code",
   "execution_count": 11,
   "metadata": {
    "collapsed": false
   },
   "outputs": [],
   "source": [
    "def Borders(p, gradient, D):\n",
    "    max_t = np.inf\n",
    "    min_t = -np.inf\n",
    "    dir = gradient / np.linalg.norm(gradient)\n",
    "    for i in range(len(p)):\n",
    "        if dir[i] > 0:\n",
    "            max_t = min((D[i][1] - p[i]) / dir[i], max_t)\n",
    "            min_t = max((D[i][0] - p[i]) / dir[i], min_t)\n",
    "        elif dir[i] < 0:\n",
    "            min_t = max((D[i][1] - p[i]) / dir[i], min_t)\n",
    "            max_t = min((D[i][0] - p[i]) / dir[i], max_t)\n",
    "\n",
    "    borders = [p + dir * min_t, p + dir * max_t]\n",
    "    return borders"
   ]
  },
  {
   "cell_type": "code",
   "execution_count": 12,
   "metadata": {
    "collapsed": false
   },
   "outputs": [],
   "source": [
    "def GradientGoldenRatio(func_index, gradient, D, p, e_d,\n",
    "                 e_f):  # f(function), i(index of direction),\n",
    "    # a(left border), b(right border), p(current point), e_d(error of d), e_f(error of f)\n",
    "    F = Functions[func_index * 2]\n",
    "    phi = (1 + np.sqrt(5)) / 2  # constant of golden ratio\n",
    "    a = Borders(p, gradient, D)[0]\n",
    "    b = Borders(p, gradient, D)[1]\n",
    "    x_1 = b - (b - a) / phi\n",
    "    x_2 = a + (b - a) / phi\n",
    "    p_1 = x_1\n",
    "    p_2 = x_2\n",
    "    f_1 = F(p_1)  # value in 1-st point\n",
    "    f_2 = F(p_2)  # value in 2-nd point\n",
    "    while (dist(b, a) > e_d) | (abs(f_1 - f_2) > e_f):  # termination criteria\n",
    "        if f_1 <= f_2:\n",
    "            b = x_2\n",
    "            x_2 = x_1\n",
    "            x_1 = b - (b - a) / phi\n",
    "\n",
    "            p_1 = x_1\n",
    "            p_2 = x_2\n",
    "\n",
    "            f_2 = f_1\n",
    "            f_1 = F(p_1)\n",
    "        else:\n",
    "            a = x_1\n",
    "            x_1 = x_2\n",
    "            x_2 = a + (b - a) / phi\n",
    "\n",
    "            p_1 = x_1\n",
    "            p_2 = x_2\n",
    "\n",
    "            f_1 = f_2\n",
    "            f_2 = F(p_2)\n",
    "\n",
    "    best_point = []\n",
    "    for i in range(len(p)):\n",
    "        best_point.append((p_1[i] + p_2[i]) / 2)\n",
    "\n",
    "    return best_point  # point of extremum with error e_d"
   ]
  },
  {
   "cell_type": "code",
   "execution_count": 13,
   "id": "b7580111",
   "metadata": {},
   "outputs": [],
   "source": [
    "def GradientMooreSkelboe(func_index, gradient, D, p, e_d,\n",
    "                  e_f):  # p(current point), e_d(error of d), e_f(error of f)\n",
    "    F = Functions[func_index * 2 + 1]\n",
    "    interval_d = [None] * len(p)\n",
    "\n",
    "    a = Borders(p, gradient, D)[0]\n",
    "    b = Borders(p, gradient, D)[1]\n",
    "\n",
    "    for i in range(len(p)):\n",
    "        interval_d[i] = interval[a[i], b[i]]\n",
    "\n",
    "    interval_f = F(interval_d)\n",
    "    set_of_intervals = [[interval_d, interval_f]]\n",
    "    U = right(interval_f)\n",
    "    w_f = right(interval_f) - left(interval_f)\n",
    "    for index in range(len(p)):\n",
    "        w_d = np.square(right(interval_d[index]) - left(interval_d[index]))\n",
    "    w_d = np.sqrt(w_d)\n",
    "    best_interval = set_of_intervals[0]\n",
    "    while (w_d > e_d) | (w_f > e_f):\n",
    "        set_of_intervals.pop(0)\n",
    "        mid_p = [None] * len(p)\n",
    "        for index in range(len(p)):\n",
    "            mid_p[index] = mid(best_interval[0][index])\n",
    "\n",
    "        interval_1 = best_interval[0].copy()\n",
    "        interval_2 = best_interval[0].copy()\n",
    "        for index in range(len(p)):\n",
    "            interval_1[index] = interval[left(best_interval[0][index]), mid_p[index]]\n",
    "            interval_2[index] = interval[mid_p[index], right(best_interval[0][index])]\n",
    "\n",
    "        interval_1_f = F(interval_1)\n",
    "        interval_2_f = F(interval_2)\n",
    "\n",
    "        U = min(U, right(interval_1_f))\n",
    "        U = min(U, right(interval_2_f))\n",
    "\n",
    "        if (len(set_of_intervals)>0) and (U<left(set_of_intervals[-1][1])):\n",
    "            l = 0\n",
    "            r = len(set_of_intervals) - 1\n",
    "            while l < r:\n",
    "                m = int((l + r) / 2)\n",
    "                if left(set_of_intervals[m][1]) > U:\n",
    "                   r = m\n",
    "                else:\n",
    "                    l = m + 1\n",
    "            set_of_intervals = set_of_intervals[:l]\n",
    "\n",
    "\n",
    "        set_of_intervals.append([interval_1, interval_1_f])\n",
    "        set_of_intervals.append([interval_2, interval_2_f])\n",
    "\n",
    "        set_of_intervals.sort(key=lambda item: left(item[1]))\n",
    "        best_interval = set_of_intervals[0]\n",
    "        w_f = right(best_interval[1]) - left(best_interval[1])\n",
    "\n",
    "        for index in range(len(p)):\n",
    "            w_d = np.square(right(best_interval[0][index]) - left(best_interval[0][index]))\n",
    "        w_d = np.sqrt(w_d)\n",
    "        # print(w_f, w_d)\n",
    "    \n",
    "\n",
    "    best_point = []\n",
    "    for i in range(len(p)):\n",
    "        best_point.append(mid(best_interval[0][i]))\n",
    "\n",
    "    return best_point"
   ]
  },
  {
   "cell_type": "markdown",
   "id": "0d47d785",
   "metadata": {},
   "source": [
    "#### А теперь продемонстрируем работу методов на известных тестовых функциях глобальной оптимизации, применяя их в градиентном спуске"
   ]
  },
  {
   "cell_type": "code",
   "execution_count": 14,
   "id": "430d38cc",
   "metadata": {},
   "outputs": [],
   "source": [
    "def GradientResult(func_num, D, p, e_d, e_f):\n",
    "    p_1, v_1 = GradientDescent(func_num, D, p, e_d, e_f, GradientGoldenRatio)  # point of minimum\n",
    "    p_2, v_2 = GradientDescent(func_num, D, p, e_d, e_f, GradientMooreSkelboe)  # point of minimum\n",
    "    print(\"Результат тестирования:\")\n",
    "    print(\"Golden Ratio:\", v_1)\n",
    "    print(\"Moore-Skelboe:\", v_2)\n"
   ]
  },
  {
   "cell_type": "code",
   "execution_count": 24,
   "id": "2bda7dda",
   "metadata": {},
   "outputs": [
    {
     "name": "stdout",
     "output_type": "stream",
     "text": [
      "9.949606847337455\n"
     ]
    }
   ],
   "source": [
    "# Функция Растригина\n",
    "n = 10\n",
    "l = -10\n",
    "r = 10\n",
    "D = [[l, r]] * n\n",
    "p = [1] * n\n",
    "# GradientResult(5, D, p, 0.001, 0.001)\n",
    "\n",
    "# p_1, v_1 = GradientDescent(5, D, p, 0.001, 0.001, GradientGoldenRatio)  # point of minimum\n",
    "# print(v_1)\n",
    "\n",
    "# p_1, v_1 = GradientDescent(5, D, p, 0.001, 0.001, GradientMooreSkelboe)  # point of minimum\n",
    "# print(v_1)"
   ]
  },
  {
   "cell_type": "code",
   "execution_count": 26,
   "id": "828cdef2",
   "metadata": {},
   "outputs": [
    {
     "name": "stdout",
     "output_type": "stream",
     "text": [
      "0.00023862367055516032\n"
     ]
    }
   ],
   "source": [
    "# Функция Экли\n",
    "n = 10\n",
    "l = -10\n",
    "r = 10\n",
    "D = [[l, r]] * n\n",
    "p = [2] * n\n",
    "# GradientResult(15, D, p, 0.001, 0.001)\n",
    "\n",
    "p_1, v_1 = GradientDescent(15, D, p, 0.001, 0.001, GradientGoldenRatio)  # point of minimum\n",
    "print(v_1)\n",
    "\n",
    "# p_1, v_1 = GradientDescent(15, D, p, 0.001, 0.001, GradientMooreSkelboe)  # point of minimum\n",
    "# print(v_1)"
   ]
  },
  {
   "cell_type": "code",
   "execution_count": 15,
   "id": "c010358a",
   "metadata": {},
   "outputs": [],
   "source": [
    "def Multidimensional_Moore_Skelboe(func_index, D, e_d, e_f):\n",
    "    F = Functions[func_index * 2 + 1]\n",
    "    interval_f = F(D)\n",
    "    list_of_intervals = [[D, interval_f]]\n",
    "\n",
    "    U = right(interval_f)\n",
    "    w_f = right(interval_f) - left(interval_f)\n",
    "    best_set = list_of_intervals[0]\n",
    "\n",
    "    w_d = right(best_set[0][0]) - left(best_set[0][0])\n",
    "    for i in range(len(best_set[0])):\n",
    "        if w_d < right(best_set[0][i]) - left(best_set[0][i]):\n",
    "            w_d = right(best_set[0][i]) - left(best_set[0][i])\n",
    "\n",
    "    while (w_d > e_d) | (w_f > e_f):\n",
    "        list_of_intervals.pop(0)\n",
    "        set_1 = best_set[0].copy()\n",
    "        set_2 = best_set[0].copy()\n",
    "        sep_index = 0\n",
    "        w_d = right(best_set[0][0]) - left(best_set[0][0])\n",
    "        for i in range(len(best_set[0])):\n",
    "            if w_d < right(best_set[0][i]) - left(best_set[0][i]):\n",
    "                w_d = right(best_set[0][i]) - left(best_set[0][i])\n",
    "                sep_index = i\n",
    "\n",
    "        mid = (left(best_set[0][sep_index]) + right(\n",
    "            best_set[0][sep_index])) / 2\n",
    "\n",
    "        set_1[sep_index] = interval[left(set_1[sep_index]), mid]\n",
    "        set_2[sep_index] = interval[mid, right(set_2[sep_index])]\n",
    "\n",
    "        interval_1f = F(set_1)\n",
    "        interval_2f = F(set_2)\n",
    "        U = min(U, right(interval_1f))\n",
    "        U = min(U, right(interval_2f))\n",
    "\n",
    "        if (len(list_of_intervals)>0) and (U<left(list_of_intervals[-1][1])):\n",
    "            l = 0\n",
    "            r = len(list_of_intervals) - 1\n",
    "            while l < r:\n",
    "                m = int((l + r) / 2)\n",
    "                if left(list_of_intervals[m][1]) > U:\n",
    "                   r = m\n",
    "                else:\n",
    "                    l = m + 1\n",
    "            list_of_intervals = list_of_intervals[:l]\n",
    "\n",
    "        list_of_intervals.append([set_1, interval_1f])\n",
    "        list_of_intervals.append([set_2, interval_2f])\n",
    "        list_of_intervals.sort(key=lambda item: left(item[1]))\n",
    "        \n",
    "        best_set = list_of_intervals[0]\n",
    "        w_f = right(best_set[1]) - left(best_set[1])\n",
    "\n",
    "    min_value = (right(best_set[1]) + left(best_set[1])) / 2\n",
    "    return min_value"
   ]
  },
  {
   "cell_type": "code",
   "execution_count": 19,
   "id": "5e7ca7bf",
   "metadata": {},
   "outputs": [
    {
     "data": {
      "text/plain": [
       "3.375967821545034e-05"
      ]
     },
     "execution_count": 19,
     "metadata": {},
     "output_type": "execute_result"
    }
   ],
   "source": [
    "n = 1\n",
    "l = -10\n",
    "r = 10\n",
    "D = [interval[l, r]] * n\n",
    "\n",
    "Multidimensional_Moore_Skelboe(23, D, 0.001, 0.001)"
   ]
  }
 ],
 "metadata": {
  "kernelspec": {
   "display_name": "Python 3.10.9 64-bit",
   "language": "python",
   "name": "python3"
  },
  "language_info": {
   "codemirror_mode": {
    "name": "ipython",
    "version": 3
   },
   "file_extension": ".py",
   "mimetype": "text/x-python",
   "name": "python",
   "nbconvert_exporter": "python",
   "pygments_lexer": "ipython3",
   "version": "3.10.9"
  },
  "vscode": {
   "interpreter": {
    "hash": "b0fa6594d8f4cbf19f97940f81e996739fb7646882a419484c72d19e05852a7e"
   }
  }
 },
 "nbformat": 4,
 "nbformat_minor": 5
}
