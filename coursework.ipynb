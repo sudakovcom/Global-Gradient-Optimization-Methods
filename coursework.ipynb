{
 "cells": [
  {
   "cell_type": "markdown",
   "id": "aa924aaa",
   "metadata": {},
   "source": [
    "# Глобальные градиентные методы оптимизации"
   ]
  },
  {
   "cell_type": "markdown",
   "id": "aa453f63",
   "metadata": {},
   "source": [
    "#### Подключим необходимые библиотеки"
   ]
  },
  {
   "cell_type": "code",
   "execution_count": 1,
   "id": "531b6fe9",
   "metadata": {
    "ExecuteTime": {
     "end_time": "2023-05-14T23:29:08.741992Z",
     "start_time": "2023-05-14T23:29:08.638705Z"
    }
   },
   "outputs": [],
   "source": [
    "import numpy as np\n",
    "from interval import imath\n",
    "from interval import fpu\n",
    "from interval import interval\n",
    "from functions import Functions"
   ]
  },
  {
   "cell_type": "markdown",
   "id": "cab9b68b",
   "metadata": {
    "collapsed": false
   },
   "source": [
    "#### Вспомогательные функции, которые пригодятся далее"
   ]
  },
  {
   "cell_type": "code",
   "execution_count": 2,
   "id": "4a1c4f7f",
   "metadata": {
    "ExecuteTime": {
     "end_time": "2023-05-14T23:29:21.739262Z",
     "start_time": "2023-05-14T23:29:21.736505Z"
    },
    "collapsed": false
   },
   "outputs": [],
   "source": [
    "# возвращает левую границу интервала\n",
    "def left(interval):\n",
    "    return fpu.max(interval)[0]\n",
    "\n",
    "# возвращает правую границу интервала\n",
    "def right(interval):\n",
    "    return fpu.max(interval)[1]\n",
    "\n",
    "# возвращает середину интервала\n",
    "def mid(interval):\n",
    "    return (fpu.max(interval)[0] + fpu.max(interval)[1]) / 2\n",
    "\n",
    "# возвращает евклидово расстояние между 2 векторами\n",
    "def dist(p_1, p_2):\n",
    "    return np.sqrt(np.sum(np.square(np.array(p_1) - np.array(p_2))))"
   ]
  },
  {
   "cell_type": "markdown",
   "id": "ef1bd5e3",
   "metadata": {},
   "source": [
    "#### Напишем алгоритм, который будет находить локальный минимум функции вдоль заданного направления.\n",
    "#### Алгоритм будет основываться на методе \"золотого сечения\", так как является наиболее эффективным среди основных методов одномерной оптимизации."
   ]
  },
  {
   "cell_type": "code",
   "execution_count": 3,
   "id": "d21d3f7e",
   "metadata": {
    "ExecuteTime": {
     "end_time": "2023-05-14T23:29:34.850828Z",
     "start_time": "2023-05-14T23:29:34.827552Z"
    }
   },
   "outputs": [],
   "source": [
    "def GoldenRatio(func_index, index, a, b, p, e_d, e_f):  # f(function), i(index of direction), a(left border), b(right border), p(current point), e_d(error of d), e_f(error of f)\n",
    "    F = Functions[func_index * 2]\n",
    "    phi = (1 + np.sqrt(5)) / 2  # constant of golden ratio\n",
    "    x_1 = b - (b - a) / phi\n",
    "    x_2 = a + (b - a) / phi\n",
    "    p_1 = p.copy()  # current point\n",
    "    p_2 = p.copy()  # current point\n",
    "    p_1[index] = x_1\n",
    "    p_2[index] = x_2\n",
    "    f_1 = F(p_1)  # value in 1-st point\n",
    "    f_2 = F(p_2)  # value in 2-nd point\n",
    "    while (b - a > e_d) | (abs(f_1 - f_2) > e_f):  # termination criteria\n",
    "        if f_1 <= f_2:\n",
    "            b = x_2\n",
    "            x_2 = x_1\n",
    "            x_1 = b - (b - a) / phi\n",
    "\n",
    "            p_1[index] = x_1\n",
    "            p_2[index] = x_2\n",
    "\n",
    "            f_2 = f_1\n",
    "            f_1 = F(p_1)\n",
    "        else:\n",
    "            a = x_1\n",
    "            x_1 = x_2\n",
    "            x_2 = a + (b - a) / phi\n",
    "\n",
    "            p_1[index] = x_1\n",
    "            p_2[index] = x_2\n",
    "\n",
    "            f_1 = f_2\n",
    "            f_2 = F(p_2)\n",
    "\n",
    "    best_point = []\n",
    "    for i in range(len(p)):\n",
    "        best_point.append((p_1[i] + p_2[i]) / 2)\n",
    "\n",
    "    return best_point  # point of extremum with error e_d"
   ]
  },
  {
   "cell_type": "markdown",
   "id": "45df757b",
   "metadata": {
    "collapsed": false
   },
   "source": [
    "#### Теперь реализуем алгоритм Moore-Skelboe, который находит глобальный минимум функции вдоль направления коллинеарного главным осям."
   ]
  },
  {
   "cell_type": "code",
   "execution_count": 4,
   "id": "b0adbbe4",
   "metadata": {
    "ExecuteTime": {
     "end_time": "2023-05-14T23:29:54.690368Z",
     "start_time": "2023-05-14T23:29:54.672765Z"
    },
    "collapsed": false
   },
   "outputs": [],
   "source": [
    "def MooreSkelboe(func_index, index, a, b, p, e_d,\n",
    "                 e_f):  # func_index(number of function in list of functions), index(index of direction),\n",
    "    # a(left border), b(right border), p(current point), e_d(error of d), e_f(error of f)\n",
    "    F = Functions[func_index * 2 + 1]\n",
    "    interval_d = []\n",
    "    for i in range(len(p)):\n",
    "        interval_d.append(interval[p[i], p[i]])\n",
    "    interval_d[index] = interval[a, b]\n",
    "\n",
    "    interval_f = F(interval_d)\n",
    "    set_of_intervals = [[interval_d, interval_f]]\n",
    "    U = right(interval_f)\n",
    "    w_f = right(interval_f) - left(interval_f)\n",
    "    w_d = right(interval_d[index]) - left(interval_d[index])\n",
    "    best_interval = set_of_intervals[0]\n",
    "    while (w_d > e_d) | (w_f > e_f):\n",
    "        set_of_intervals.pop(0)\n",
    "        mid_p = mid(best_interval[0][index])\n",
    "        interval_1 = best_interval[0].copy()\n",
    "        interval_2 = best_interval[0].copy()\n",
    "        interval_1[index] = interval[left(best_interval[0][index]), mid_p]\n",
    "        interval_1_f = F(interval_1)\n",
    "        interval_2[index] = interval[mid_p, right(best_interval[0][index])]\n",
    "        interval_2_f = F(interval_2)\n",
    "        U = min(U, right(interval_1_f))\n",
    "        U = min(U, right(interval_2_f))\n",
    "\n",
    "\n",
    "        if (len(set_of_intervals)>0) and (U<left(set_of_intervals[-1][1])):\n",
    "            l = 0\n",
    "            r = len(set_of_intervals) - 1\n",
    "            while l < r:\n",
    "                m = int((l + r) / 2)\n",
    "                if left(set_of_intervals[m][1]) > U:\n",
    "                   r = m\n",
    "                else:\n",
    "                    l = m + 1\n",
    "            set_of_intervals = set_of_intervals[:l]\n",
    "\n",
    "\n",
    "        # for i in range(len(set_of_intervals)):\n",
    "        #     if U < left(set_of_intervals[i][1]):\n",
    "        #         set_of_intervals = set_of_intervals[:i]\n",
    "        #         break\n",
    "\n",
    "        set_of_intervals.append([interval_1, interval_1_f])\n",
    "        set_of_intervals.append([interval_2, interval_2_f])\n",
    "        set_of_intervals.sort(key=lambda item: left(item[1]))\n",
    "\n",
    "        # val_1 = left(interval_1_f)\n",
    "        # val_2 = left(interval_2_f)\n",
    "\n",
    "        # if (len(set_of_intervals) == 0) or (val_1 > left(\n",
    "        #         set_of_intervals[-1][1])):\n",
    "        #     set_of_intervals.append([interval_1, interval_1_f])\n",
    "        # else:\n",
    "        #     l = 0\n",
    "        #     r = len(set_of_intervals) - 1\n",
    "        #     while l < r:\n",
    "        #         m = int((l + r) / 2)\n",
    "        #         if left(set_of_intervals[m][1]) > val_1:\n",
    "        #             r = m\n",
    "        #         else:\n",
    "        #             l = m + 1\n",
    "        #     set_of_intervals.insert(l, [interval_1, interval_1_f])\n",
    "\n",
    "        # if val_2 > left(set_of_intervals[-1][1]):\n",
    "        #     set_of_intervals.append([interval_2, interval_2_f])\n",
    "        # else:\n",
    "        #     l = 0\n",
    "        #     r = len(set_of_intervals) - 1\n",
    "        #     while l < r:\n",
    "        #         m = int((l + r) / 2)\n",
    "        #         if left(set_of_intervals[m][1]) > val_2:\n",
    "        #             r = m\n",
    "        #         else:\n",
    "        #             l = m + 1\n",
    "        #     set_of_intervals.insert(l, [interval_2, interval_2_f])\n",
    "\n",
    "        best_interval = set_of_intervals[0]\n",
    "        w_f = right(best_interval[1]) - left(best_interval[1])\n",
    "        w_d = right(best_interval[0][index]) - left(best_interval[0][index])\n",
    "\n",
    "    best_point = []\n",
    "    for i in range(len(p)):\n",
    "        best_point.append(mid(best_interval[0][i]))\n",
    "\n",
    "    return best_point"
   ]
  },
  {
   "cell_type": "markdown",
   "id": "6cbe0607",
   "metadata": {},
   "source": [
    "#### Функция которая реализует метод координатного спуска: последовательно ищет минимум вдоль направлений коллинеарным главным осям и останавливается, когда улучшение точности становится малым."
   ]
  },
  {
   "cell_type": "code",
   "execution_count": 5,
   "id": "357a84d7",
   "metadata": {
    "ExecuteTime": {
     "end_time": "2023-05-14T23:30:00.436541Z",
     "start_time": "2023-05-14T23:30:00.432714Z"
    }
   },
   "outputs": [],
   "source": [
    "def CoordinateDescent(func_index, D, p, e_d, e_f, method):  # F(function), D(set), p(start point), e(error)\n",
    "    while True:\n",
    "        p_0 = p\n",
    "        for index in range(len(p)):\n",
    "            p = method(func_index, index, D[index][0], D[index][1], p, e_d, e_f)\n",
    "        if (dist(p_0, p) < e_d) & (Functions[func_index * 2](p_0) - Functions[func_index * 2](p) < e_f):\n",
    "            break\n",
    "\n",
    "    best_point = p\n",
    "    best_value = Functions[func_index * 2](p)\n",
    "\n",
    "    return best_point, best_value"
   ]
  },
  {
   "cell_type": "markdown",
   "id": "b7061ad9",
   "metadata": {
    "collapsed": false
   },
   "source": [
    "#### Функция для вывода результата работы алгоритма"
   ]
  },
  {
   "cell_type": "code",
   "execution_count": 6,
   "id": "2ea8c563",
   "metadata": {
    "ExecuteTime": {
     "end_time": "2023-05-14T23:30:02.876900Z",
     "start_time": "2023-05-14T23:30:02.837381Z"
    },
    "collapsed": false
   },
   "outputs": [],
   "source": [
    "def CoordinateResult(func_num, D, p, e_d, e_f):\n",
    "    p_1, v_1 = CoordinateDescent(func_num, D, p, e_d, e_f, GoldenRatio)  # point of minimum\n",
    "    p_2, v_2 = CoordinateDescent(func_num, D, p, e_d, e_f, MooreSkelboe)  # point of minimum\n",
    "    print(\"Результат тестирования:\")\n",
    "    print(\"Golden Ratio:\", v_1)\n",
    "    print(\"Moore-Skelboe:\", v_2)\n"
   ]
  },
  {
   "cell_type": "code",
   "execution_count": 7,
   "id": "b7cd054a",
   "metadata": {
    "ExecuteTime": {
     "end_time": "2023-05-14T23:30:04.878127Z",
     "start_time": "2023-05-14T23:30:04.872530Z"
    },
    "collapsed": false
   },
   "outputs": [],
   "source": [
    "def print_result1(func_num, D, p, e_d, e_f):\n",
    "    p_1, v_1 = CoordinateDescent(func_num, D, p, e_d, e_f, GoldenRatio)  # point of minimum\n",
    "    print(\"Результат тестирования:\")\n",
    "    print(\"Golden Ratio:\", v_1)"
   ]
  },
  {
   "cell_type": "code",
   "execution_count": 8,
   "id": "827b845a",
   "metadata": {
    "ExecuteTime": {
     "end_time": "2023-05-14T23:30:07.607667Z",
     "start_time": "2023-05-14T23:30:07.602140Z"
    },
    "collapsed": false
   },
   "outputs": [],
   "source": [
    "def print_result2(func_num, D, p, e_d, e_f):\n",
    "    p_2, v_2 = CoordinateDescent(func_num, D, p, e_d, e_f, MooreSkelboe)  # point of minimum\n",
    "    print(\"Результат тестирования:\")\n",
    "    print(\"Moore-Skelboe:\", v_2)"
   ]
  },
  {
   "cell_type": "markdown",
   "id": "8b94d8ba",
   "metadata": {
    "collapsed": false
   },
   "source": [
    "#### Продемонстрируем работу методов на известных тестовых функциях глобальной оптимизации, применяя их в координатном спуске"
   ]
  },
  {
   "cell_type": "code",
   "execution_count": 196,
   "id": "322353ce",
   "metadata": {
    "ExecuteTime": {
     "end_time": "2023-05-14T23:30:23.501537Z",
     "start_time": "2023-05-14T23:30:12.379342Z"
    },
    "collapsed": false
   },
   "outputs": [
    {
     "name": "stdout",
     "output_type": "stream",
     "text": [
      "Результат тестирования:\n",
      "Golden Ratio: 39.79857020564907\n",
      "Moore-Skelboe: 0.0007390678956511465\n"
     ]
    }
   ],
   "source": [
    "# Функция Растригина\n",
    "n = 40\n",
    "l = -10\n",
    "r = 10\n",
    "D = [[l, r]] * n\n",
    "p = [1] * n\n",
    "CoordinateResult(5, D, p, 0.001, 0.001)"
   ]
  },
  {
   "cell_type": "code",
   "execution_count": 197,
   "id": "e8bce89f",
   "metadata": {
    "ExecuteTime": {
     "end_time": "2023-05-14T14:09:57.654839Z",
     "start_time": "2023-05-14T14:08:52.054717Z"
    },
    "collapsed": false
   },
   "outputs": [
    {
     "name": "stdout",
     "output_type": "stream",
     "text": [
      "Результат тестирования:\n",
      "Golden Ratio: 0.33244082803407593\n",
      "Moore-Skelboe: 0.14015453688727936\n"
     ]
    }
   ],
   "source": [
    "# Функция Розенброка\n",
    "n = 8\n",
    "l = -10\n",
    "r = 10\n",
    "D = [[l, r]] * n\n",
    "p = [2] * n\n",
    "CoordinateResult(7, D, p, 0.001, 0.001)"
   ]
  },
  {
   "cell_type": "code",
   "execution_count": 200,
   "id": "7c869f7d",
   "metadata": {
    "ExecuteTime": {
     "end_time": "2023-05-14T14:08:42.651449Z",
     "start_time": "2023-05-14T14:08:11.847215Z"
    },
    "collapsed": false
   },
   "outputs": [
    {
     "name": "stdout",
     "output_type": "stream",
     "text": [
      "Результат тестирования:\n",
      "Golden Ratio: -156.6646589598015\n",
      "Moore-Skelboe: -156.66466281009914\n"
     ]
    }
   ],
   "source": [
    "# Функция Стыбинского-Танга\n",
    "n = 4\n",
    "l = -10\n",
    "r = 10\n",
    "D = [[l, r]] * n\n",
    "p = [2] * n\n",
    "CoordinateResult(12, D, p, 0.001, 0.001)"
   ]
  },
  {
   "cell_type": "code",
   "execution_count": 201,
   "id": "ac75ca4c",
   "metadata": {
    "ExecuteTime": {
     "end_time": "2023-05-14T14:10:10.771807Z",
     "start_time": "2023-05-14T14:10:10.012805Z"
    },
    "collapsed": false
   },
   "outputs": [
    {
     "name": "stdout",
     "output_type": "stream",
     "text": [
      "Результат тестирования:\n",
      "Golden Ratio: -4.440892098500626e-16\n",
      "Moore-Skelboe: 0.0012256630393632229\n"
     ]
    }
   ],
   "source": [
    "# Функция Экли\n",
    "n = 5\n",
    "l = -10\n",
    "r = 10\n",
    "D = [[l, r]] * n\n",
    "p = [2] * n\n",
    "CoordinateResult(15, D, p, 0.001, 0.001)"
   ]
  },
  {
   "cell_type": "code",
   "execution_count": 202,
   "metadata": {
    "ExecuteTime": {
     "end_time": "2023-05-14T14:10:16.678005Z",
     "start_time": "2023-05-14T14:10:16.507317Z"
    },
    "collapsed": false
   },
   "outputs": [
    {
     "name": "stdout",
     "output_type": "stream",
     "text": [
      "Результат тестирования:\n",
      "Golden Ratio: 0.009864698515380743\n",
      "Moore-Skelboe: 1.0644240466817223e-07\n"
     ]
    }
   ],
   "source": [
    "# Функция Гриванка\n",
    "n = 5\n",
    "l = -10\n",
    "r = 10\n",
    "D = [[l, r]] * n\n",
    "p = [2] * n\n",
    "CoordinateResult(16, D, p, 0.001, 0.001)"
   ]
  },
  {
   "cell_type": "code",
   "execution_count": 203,
   "metadata": {
    "ExecuteTime": {
     "end_time": "2023-05-14T14:10:20.731786Z",
     "start_time": "2023-05-14T14:10:20.550531Z"
    },
    "collapsed": false
   },
   "outputs": [
    {
     "name": "stdout",
     "output_type": "stream",
     "text": [
      "Результат тестирования:\n",
      "Golden Ratio: 1.542458003137213\n",
      "Moore-Skelboe: 0.0007449817996270092\n"
     ]
    }
   ],
   "source": [
    "# Функция Растригина новгородская\n",
    "n = 5\n",
    "l = -10\n",
    "r = 10\n",
    "D = [[l, r]] * n\n",
    "p = [2] * n\n",
    "CoordinateResult(17, D, p, 0.001, 0.001)"
   ]
  },
  {
   "cell_type": "code",
   "execution_count": 204,
   "metadata": {
    "ExecuteTime": {
     "end_time": "2023-05-14T14:10:33.928740Z",
     "start_time": "2023-05-14T14:10:26.571664Z"
    },
    "collapsed": false
   },
   "outputs": [
    {
     "name": "stdout",
     "output_type": "stream",
     "text": [
      "Результат тестирования:\n",
      "Golden Ratio: 236.8766946858181\n",
      "Moore-Skelboe: 2.5455285594944144e-05\n"
     ]
    }
   ],
   "source": [
    "# Функция Швефеля\n",
    "n = 2\n",
    "l = -500\n",
    "r = 500\n",
    "D = [[l, r]] * n\n",
    "p = [2] * n\n",
    "CoordinateResult(18, D, p, 0.001, 0.001)"
   ]
  },
  {
   "cell_type": "markdown",
   "metadata": {
    "collapsed": false
   },
   "source": [
    "### Реализуем теперь градиентные алгоритмы"
   ]
  },
  {
   "cell_type": "code",
   "execution_count": 9,
   "metadata": {
    "collapsed": false
   },
   "outputs": [],
   "source": [
    "def Gradient(D, p, f, step):  # градиент с отражением\n",
    "    gradient = np.array([0.] * len(p))\n",
    "    p_ = p.copy()\n",
    "    for i in range(len(p)):\n",
    "        p_[i] += step\n",
    "        gradient[i] = (f(p_) - f(p)) / step\n",
    "\n",
    "        if (abs(p[i] - D[i][0]) < step) & (gradient[i] < 0):\n",
    "            gradient[i] = 0\n",
    "        if (abs(p[i] - D[i][1]) < step) & (gradient[i] > 0):\n",
    "            gradient[i] = 0\n",
    "        p_[i] -= step\n",
    "    return gradient"
   ]
  },
  {
   "cell_type": "code",
   "execution_count": 10,
   "metadata": {
    "collapsed": false
   },
   "outputs": [],
   "source": [
    "def GradientDescent(func_index, D, p, e_d, e_f,\n",
    "                method):  # F(function), D(set), p(start point), e(error)\n",
    "    F = Functions[func_index * 2]\n",
    "    gradient = Gradient(D, p, F, e_d)\n",
    "    while np.linalg.norm(gradient) > e_f:\n",
    "        p_0 = p\n",
    "        p = method(func_index, gradient, D, p, e_d, e_f)\n",
    "        gradient = Gradient(D, p, F, e_d)\n",
    "        if dist(p, p_0) < e_d or abs(F(p) - F(p_0))<e_f:\n",
    "            break\n",
    "\n",
    "    best_point = p\n",
    "    best_value = Functions[func_index * 2](p)\n",
    "    return best_point, best_value"
   ]
  },
  {
   "cell_type": "code",
   "execution_count": 11,
   "metadata": {
    "collapsed": false
   },
   "outputs": [],
   "source": [
    "def Borders(p, gradient, D):\n",
    "    max_t = np.inf\n",
    "    min_t = -np.inf\n",
    "    dir = gradient / np.linalg.norm(gradient)\n",
    "    for i in range(len(p)):\n",
    "        if dir[i] > 0:\n",
    "            max_t = min((D[i][1] - p[i]) / dir[i], max_t)\n",
    "            min_t = max((D[i][0] - p[i]) / dir[i], min_t)\n",
    "        elif dir[i] < 0:\n",
    "            min_t = max((D[i][1] - p[i]) / dir[i], min_t)\n",
    "            max_t = min((D[i][0] - p[i]) / dir[i], max_t)\n",
    "\n",
    "    borders = [p + dir * min_t, p + dir * max_t]\n",
    "    return borders"
   ]
  },
  {
   "cell_type": "code",
   "execution_count": 12,
   "metadata": {
    "collapsed": false
   },
   "outputs": [],
   "source": [
    "def GradientGoldenRatio(func_index, gradient, D, p, e_d,\n",
    "                 e_f):  # f(function), i(index of direction),\n",
    "    # a(left border), b(right border), p(current point), e_d(error of d), e_f(error of f)\n",
    "    F = Functions[func_index * 2]\n",
    "    phi = (1 + np.sqrt(5)) / 2  # constant of golden ratio\n",
    "    a = Borders(p, gradient, D)[0]\n",
    "    b = Borders(p, gradient, D)[1]\n",
    "    x_1 = b - (b - a) / phi\n",
    "    x_2 = a + (b - a) / phi\n",
    "    p_1 = x_1\n",
    "    p_2 = x_2\n",
    "    f_1 = F(p_1)  # value in 1-st point\n",
    "    f_2 = F(p_2)  # value in 2-nd point\n",
    "    while (dist(b, a) > e_d) | (abs(f_1 - f_2) > e_f):  # termination criteria\n",
    "        if f_1 <= f_2:\n",
    "            b = x_2\n",
    "            x_2 = x_1\n",
    "            x_1 = b - (b - a) / phi\n",
    "\n",
    "            p_1 = x_1\n",
    "            p_2 = x_2\n",
    "\n",
    "            f_2 = f_1\n",
    "            f_1 = F(p_1)\n",
    "        else:\n",
    "            a = x_1\n",
    "            x_1 = x_2\n",
    "            x_2 = a + (b - a) / phi\n",
    "\n",
    "            p_1 = x_1\n",
    "            p_2 = x_2\n",
    "\n",
    "            f_1 = f_2\n",
    "            f_2 = F(p_2)\n",
    "\n",
    "    best_point = []\n",
    "    for i in range(len(p)):\n",
    "        best_point.append((p_1[i] + p_2[i]) / 2)\n",
    "\n",
    "    return best_point  # point of extremum with error e_d"
   ]
  },
  {
   "cell_type": "code",
   "execution_count": 25,
   "id": "b7580111",
   "metadata": {},
   "outputs": [],
   "source": [
    "def GradientMooreSkelboe(func_index, gradient, D, p, e_d,\n",
    "                  e_f):  # p(current point), e_d(error of d), e_f(error of f)\n",
    "    F = Functions[func_index * 2 + 1]\n",
    "    interval_d = [None] * len(p)\n",
    "\n",
    "    a = Borders(p, gradient, D)[0]\n",
    "    b = Borders(p, gradient, D)[1]\n",
    "\n",
    "    for i in range(len(p)):\n",
    "        interval_d[i] = interval[a[i], b[i]]\n",
    "\n",
    "    interval_f = F(interval_d)\n",
    "    set_of_intervals = [[interval_d, interval_f]]\n",
    "    U = right(interval_f)\n",
    "    w_f = right(interval_f) - left(interval_f)\n",
    "    for index in range(len(p)):\n",
    "        w_d = np.square(right(interval_d[index]) - left(interval_d[index]))\n",
    "    w_d = np.sqrt(w_d)\n",
    "    best_interval = set_of_intervals[0]\n",
    "    while (w_d > e_d) | (w_f > e_f):\n",
    "        set_of_intervals.pop(0)\n",
    "        mid_p = [None] * len(p)\n",
    "        for index in range(len(p)):\n",
    "            mid_p[index] = mid(best_interval[0][index])\n",
    "\n",
    "        interval_1 = best_interval[0].copy()\n",
    "        interval_2 = best_interval[0].copy()\n",
    "        for index in range(len(p)):\n",
    "            interval_1[index] = interval[left(best_interval[0][index]), mid_p[index]]\n",
    "            interval_2[index] = interval[mid_p[index], right(best_interval[0][index])]\n",
    "\n",
    "        interval_1_f = F(interval_1)\n",
    "        interval_2_f = F(interval_2)\n",
    "\n",
    "        U = min(U, right(interval_1_f))\n",
    "        U = min(U, right(interval_2_f))\n",
    "\n",
    "        for i in range(len(set_of_intervals)):\n",
    "            if U < left(set_of_intervals[i][1]):\n",
    "                set_of_intervals = set_of_intervals[:i]\n",
    "                break\n",
    "\n",
    "        set_of_intervals.append([interval_1, interval_1_f])\n",
    "        set_of_intervals.append([interval_2, interval_2_f])\n",
    "\n",
    "        set_of_intervals.sort(key=lambda item: left(item[1]))\n",
    "        best_interval = set_of_intervals[0]\n",
    "        w_f = right(best_interval[1]) - left(best_interval[1])\n",
    "\n",
    "        for index in range(len(p)):\n",
    "            w_d = np.square(right(best_interval[0][index]) - left(best_interval[0][index]))\n",
    "        w_d = np.sqrt(w_d)\n",
    "        # print(w_f, w_d)\n",
    "    \n",
    "\n",
    "    best_point = []\n",
    "    for i in range(len(p)):\n",
    "        best_point.append(mid(best_interval[0][i]))\n",
    "\n",
    "    return best_point"
   ]
  },
  {
   "cell_type": "markdown",
   "id": "0d47d785",
   "metadata": {},
   "source": [
    "#### А теперь продемонстрируем работу методов на известных тестовых функциях глобальной оптимизации, применяя их в градиентном спуске"
   ]
  },
  {
   "cell_type": "code",
   "execution_count": 26,
   "id": "430d38cc",
   "metadata": {},
   "outputs": [],
   "source": [
    "def GradientResult(func_num, D, p, e_d, e_f):\n",
    "    p_1, v_1 = GradientDescent(func_num, D, p, e_d, e_f, GradientGoldenRatio)  # point of minimum\n",
    "    p_2, v_2 = GradientDescent(func_num, D, p, e_d, e_f, GradientMooreSkelboe)  # point of minimum\n",
    "    print(\"Результат тестирования:\")\n",
    "    print(\"Golden Ratio:\", v_1)\n",
    "    print(\"Moore-Skelboe:\", v_2)\n"
   ]
  },
  {
   "cell_type": "code",
   "execution_count": 27,
   "id": "2bda7dda",
   "metadata": {},
   "outputs": [
    {
     "name": "stdout",
     "output_type": "stream",
     "text": [
      "Результат тестирования:\n",
      "Golden Ratio: 39.79836255508713\n",
      "Moore-Skelboe: 0.0001847670279317981\n"
     ]
    }
   ],
   "source": [
    "# Функция Растригина\n",
    "n = 40\n",
    "l = -10\n",
    "r = 10\n",
    "D = [[l, r]] * n\n",
    "p = [1] * n\n",
    "GradientResult(5, D, p, 0.001, 0.001)"
   ]
  },
  {
   "cell_type": "code",
   "execution_count": 28,
   "id": "7473d1d5",
   "metadata": {},
   "outputs": [
    {
     "ename": "KeyboardInterrupt",
     "evalue": "",
     "output_type": "error",
     "traceback": [
      "\u001b[0;31m---------------------------------------------------------------------------\u001b[0m",
      "\u001b[0;31mKeyboardInterrupt\u001b[0m                         Traceback (most recent call last)",
      "Cell \u001b[0;32mIn[28], line 9\u001b[0m\n\u001b[1;32m      6\u001b[0m p \u001b[39m=\u001b[39m [\u001b[39m2\u001b[39m] \u001b[39m*\u001b[39m n\n\u001b[1;32m      7\u001b[0m \u001b[39m# p_1, v_1 = GradientDescent(7, D, p, 0.001, 0.001, GradientGoldenRatio)  # point of minimum\u001b[39;00m\n\u001b[1;32m      8\u001b[0m \u001b[39m# print(v_1)\u001b[39;00m\n\u001b[0;32m----> 9\u001b[0m p_2, v_2 \u001b[39m=\u001b[39m GradientDescent(\u001b[39m7\u001b[39;49m, D, p, \u001b[39m0.001\u001b[39;49m, \u001b[39m0.001\u001b[39;49m, GradientMooreSkelboe)  \u001b[39m# point of minimum\u001b[39;00m\n\u001b[1;32m     10\u001b[0m \u001b[39mprint\u001b[39m(v_2)\n\u001b[1;32m     11\u001b[0m \u001b[39m# GradientResult(7, D, p, 0.001, 0.001)\u001b[39;00m\n",
      "Cell \u001b[0;32mIn[10], line 7\u001b[0m, in \u001b[0;36mGradientDescent\u001b[0;34m(func_index, D, p, e_d, e_f, method)\u001b[0m\n\u001b[1;32m      5\u001b[0m \u001b[39mwhile\u001b[39;00m np\u001b[39m.\u001b[39mlinalg\u001b[39m.\u001b[39mnorm(gradient) \u001b[39m>\u001b[39m e_f:\n\u001b[1;32m      6\u001b[0m     p_0 \u001b[39m=\u001b[39m p\n\u001b[0;32m----> 7\u001b[0m     p \u001b[39m=\u001b[39m method(func_index, gradient, D, p, e_d, e_f)\n\u001b[1;32m      8\u001b[0m     gradient \u001b[39m=\u001b[39m Gradient(D, p, F, e_d)\n\u001b[1;32m      9\u001b[0m     \u001b[39mif\u001b[39;00m dist(p, p_0) \u001b[39m<\u001b[39m e_d \u001b[39mor\u001b[39;00m \u001b[39mabs\u001b[39m(F(p) \u001b[39m-\u001b[39m F(p_0))\u001b[39m<\u001b[39me_f:\n",
      "Cell \u001b[0;32mIn[25], line 46\u001b[0m, in \u001b[0;36mGradientMooreSkelboe\u001b[0;34m(func_index, gradient, D, p, e_d, e_f)\u001b[0m\n\u001b[1;32m     43\u001b[0m set_of_intervals\u001b[39m.\u001b[39mappend([interval_1, interval_1_f])\n\u001b[1;32m     44\u001b[0m set_of_intervals\u001b[39m.\u001b[39mappend([interval_2, interval_2_f])\n\u001b[0;32m---> 46\u001b[0m set_of_intervals\u001b[39m.\u001b[39;49msort(key\u001b[39m=\u001b[39;49m\u001b[39mlambda\u001b[39;49;00m item: left(item[\u001b[39m1\u001b[39;49m]))\n\u001b[1;32m     47\u001b[0m best_interval \u001b[39m=\u001b[39m set_of_intervals[\u001b[39m0\u001b[39m]\n\u001b[1;32m     48\u001b[0m w_f \u001b[39m=\u001b[39m right(best_interval[\u001b[39m1\u001b[39m]) \u001b[39m-\u001b[39m left(best_interval[\u001b[39m1\u001b[39m])\n",
      "Cell \u001b[0;32mIn[25], line 46\u001b[0m, in \u001b[0;36mGradientMooreSkelboe.<locals>.<lambda>\u001b[0;34m(item)\u001b[0m\n\u001b[1;32m     43\u001b[0m set_of_intervals\u001b[39m.\u001b[39mappend([interval_1, interval_1_f])\n\u001b[1;32m     44\u001b[0m set_of_intervals\u001b[39m.\u001b[39mappend([interval_2, interval_2_f])\n\u001b[0;32m---> 46\u001b[0m set_of_intervals\u001b[39m.\u001b[39msort(key\u001b[39m=\u001b[39m\u001b[39mlambda\u001b[39;00m item: left(item[\u001b[39m1\u001b[39;49m]))\n\u001b[1;32m     47\u001b[0m best_interval \u001b[39m=\u001b[39m set_of_intervals[\u001b[39m0\u001b[39m]\n\u001b[1;32m     48\u001b[0m w_f \u001b[39m=\u001b[39m right(best_interval[\u001b[39m1\u001b[39m]) \u001b[39m-\u001b[39m left(best_interval[\u001b[39m1\u001b[39m])\n",
      "Cell \u001b[0;32mIn[2], line 3\u001b[0m, in \u001b[0;36mleft\u001b[0;34m(interval)\u001b[0m\n\u001b[1;32m      2\u001b[0m \u001b[39mdef\u001b[39;00m \u001b[39mleft\u001b[39m(interval):\n\u001b[0;32m----> 3\u001b[0m     \u001b[39mreturn\u001b[39;00m fpu\u001b[39m.\u001b[39;49mmax(interval)[\u001b[39m0\u001b[39;49m]\n",
      "\u001b[0;31mKeyboardInterrupt\u001b[0m: "
     ]
    }
   ],
   "source": [
    "# Функция Розенброка\n",
    "n = 4\n",
    "l = -10\n",
    "r = 10\n",
    "D = [[l, r]] * n\n",
    "p = [2] * n\n",
    "# p_1, v_1 = GradientDescent(7, D, p, 0.001, 0.001, GradientGoldenRatio)  # point of minimum\n",
    "# print(v_1)\n",
    "p_2, v_2 = GradientDescent(7, D, p, 0.001, 0.001, GradientMooreSkelboe)  # point of minimum\n",
    "print(v_2)\n",
    "# GradientResult(7, D, p, 0.001, 0.001)"
   ]
  },
  {
   "cell_type": "code",
   "execution_count": 29,
   "id": "9bf0d884",
   "metadata": {},
   "outputs": [
    {
     "name": "stdout",
     "output_type": "stream",
     "text": [
      "Результат тестирования:\n",
      "Golden Ratio: -156.6646627964721\n",
      "Moore-Skelboe: -156.6646628146428\n"
     ]
    }
   ],
   "source": [
    "# Функция Стыбинского-Танга\n",
    "n = 4\n",
    "l = -10\n",
    "r = 10\n",
    "D = [[l, r]] * n\n",
    "p = [2] * n\n",
    "GradientResult(12, D, p, 0.001, 0.001)"
   ]
  },
  {
   "cell_type": "code",
   "execution_count": 30,
   "id": "1b78378a",
   "metadata": {},
   "outputs": [
    {
     "name": "stdout",
     "output_type": "stream",
     "text": [
      "Результат тестирования:\n",
      "Golden Ratio: 0.00023862367055516032\n",
      "Moore-Skelboe: 0.00030548577621924977\n"
     ]
    }
   ],
   "source": [
    "# Функция Экли\n",
    "n = 8\n",
    "l = -10\n",
    "r = 10\n",
    "D = [[l, r]] * n\n",
    "p = [2] * n\n",
    "GradientResult(15, D, p, 0.001, 0.001)"
   ]
  },
  {
   "cell_type": "code",
   "execution_count": 31,
   "id": "cd2cf63b",
   "metadata": {},
   "outputs": [
    {
     "name": "stdout",
     "output_type": "stream",
     "text": [
      "Результат тестирования:\n",
      "Golden Ratio: 0.010375026629205863\n",
      "Moore-Skelboe: 0.0034439789179462332\n"
     ]
    }
   ],
   "source": [
    "# Функция Гриванка\n",
    "n = 20\n",
    "l = -10\n",
    "r = 10\n",
    "D = [[l, r]] * n\n",
    "p = [1] * n\n",
    "GradientResult(16, D, p, 0.001, 0.001)"
   ]
  },
  {
   "cell_type": "code",
   "execution_count": 32,
   "id": "72373c43",
   "metadata": {},
   "outputs": [
    {
     "name": "stdout",
     "output_type": "stream",
     "text": [
      "Результат тестирования:\n",
      "Golden Ratio: 1.542309195769226\n",
      "Moore-Skelboe: 0.00018624891567542434\n"
     ]
    }
   ],
   "source": [
    "# Функция Растригина новгородская\n",
    "n = 5\n",
    "l = -10\n",
    "r = 10\n",
    "D = [[l, r]] * n\n",
    "p = [2] * n\n",
    "GradientResult(17, D, p, 0.001, 0.001)"
   ]
  },
  {
   "cell_type": "code",
   "execution_count": 33,
   "id": "60517b87",
   "metadata": {},
   "outputs": [
    {
     "name": "stdout",
     "output_type": "stream",
     "text": [
      "Результат тестирования:\n",
      "Golden Ratio: 236.87669468569356\n",
      "Moore-Skelboe: 2.5460353072048747e-05\n"
     ]
    }
   ],
   "source": [
    "# Функция Швефеля\n",
    "n = 2\n",
    "l = -500\n",
    "r = 500\n",
    "D = [[l, r]] * n\n",
    "p = [2] * n\n",
    "GradientResult(18, D, p, 0.001, 0.001)"
   ]
  }
 ],
 "metadata": {
  "kernelspec": {
   "display_name": "Python 3.9.6 ('venv': venv)",
   "language": "python",
   "name": "python3"
  },
  "language_info": {
   "codemirror_mode": {
    "name": "ipython",
    "version": 3
   },
   "file_extension": ".py",
   "mimetype": "text/x-python",
   "name": "python",
   "nbconvert_exporter": "python",
   "pygments_lexer": "ipython3",
   "version": "3.9.6"
  },
  "vscode": {
   "interpreter": {
    "hash": "6288e197d86d7994642e39058e8e3033cb14ec3cb190240372f2228a71274ea1"
   }
  }
 },
 "nbformat": 4,
 "nbformat_minor": 5
}
