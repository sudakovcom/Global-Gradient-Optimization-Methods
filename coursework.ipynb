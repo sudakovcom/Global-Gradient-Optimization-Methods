{
 "cells": [
  {
   "cell_type": "code",
   "execution_count": 1,
   "id": "531b6fe9",
   "metadata": {
    "ExecuteTime": {
     "end_time": "2023-05-14T23:29:08.741992Z",
     "start_time": "2023-05-14T23:29:08.638705Z"
    }
   },
   "outputs": [],
   "source": [
    "import numpy as np\n",
    "from interval import imath\n",
    "from interval import fpu\n",
    "from interval import interval\n",
    "from functions import Functions\n",
    "\n",
    "# pip3 install pyinterval"
   ]
  },
  {
   "cell_type": "markdown",
   "id": "cab9b68b",
   "metadata": {
    "collapsed": false
   },
   "source": [
    "### Вспомогательные функции"
   ]
  },
  {
   "cell_type": "code",
   "execution_count": 2,
   "id": "4a1c4f7f",
   "metadata": {
    "ExecuteTime": {
     "end_time": "2023-05-14T23:29:21.739262Z",
     "start_time": "2023-05-14T23:29:21.736505Z"
    },
    "collapsed": false
   },
   "outputs": [],
   "source": [
    "# возвращает левую границу интервала\n",
    "def left(interval):\n",
    "    return fpu.max(interval)[0]\n",
    "\n",
    "# возвращает правую границу интервала\n",
    "def right(interval):\n",
    "    return fpu.max(interval)[1]\n",
    "\n",
    "# возвращает середину интервала\n",
    "def mid(interval):\n",
    "    return (fpu.max(interval)[0] + fpu.max(interval)[1]) / 2\n",
    "\n",
    "# возвращает евклидово расстояние между 2 векторами\n",
    "def dist(p_1, p_2):\n",
    "    return np.sqrt(np.sum(np.square(np.array(p_1) - np.array(p_2))))"
   ]
  },
  {
   "cell_type": "markdown",
   "id": "ef1bd5e3",
   "metadata": {},
   "source": [
    "Напишем алгоритм, который будет находить экстремум функции вдоль заданного направления.\n",
    "Алгоритм будет основываться на методе \"Золотого сечения\" так как является наиболее эффективным среди основных методов одномерной оптимизации."
   ]
  },
  {
   "cell_type": "code",
   "execution_count": 3,
   "id": "d21d3f7e",
   "metadata": {
    "ExecuteTime": {
     "end_time": "2023-05-14T23:29:34.850828Z",
     "start_time": "2023-05-14T23:29:34.827552Z"
    }
   },
   "outputs": [],
   "source": [
    "def GoldenRatio(func_index, index, a, b, p, e_d, e_f):  # f(function), i(index of direction), a(left border), b(right border), p(current point), e_d(error of d), e_f(error of f)\n",
    "    F = Functions[func_index * 2]\n",
    "    phi = (1 + np.sqrt(5)) / 2  # constant of golden ratio\n",
    "    x_1 = b - (b - a) / phi\n",
    "    x_2 = a + (b - a) / phi\n",
    "    p_1 = p.copy()  # current point\n",
    "    p_2 = p.copy()  # current point\n",
    "    p_1[index] = x_1\n",
    "    p_2[index] = x_2\n",
    "    f_1 = F(p_1)  # value in 1-st point\n",
    "    f_2 = F(p_2)  # value in 2-nd point\n",
    "    while (b - a > e_d) | (abs(f_1 - f_2) > e_f):  # termination criteria\n",
    "        if f_1 <= f_2:\n",
    "            b = x_2\n",
    "            x_2 = x_1\n",
    "            x_1 = b - (b - a) / phi\n",
    "\n",
    "            p_1[index] = x_1\n",
    "            p_2[index] = x_2\n",
    "\n",
    "            f_2 = f_1\n",
    "            f_1 = F(p_1)\n",
    "        else:\n",
    "            a = x_1\n",
    "            x_1 = x_2\n",
    "            x_2 = a + (b - a) / phi\n",
    "\n",
    "            p_1[index] = x_1\n",
    "            p_2[index] = x_2\n",
    "\n",
    "            f_1 = f_2\n",
    "            f_2 = F(p_2)\n",
    "\n",
    "    best_point = []\n",
    "    for i in range(len(p)):\n",
    "        best_point.append((p_1[i] + p_2[i]) / 2)\n",
    "\n",
    "    return best_point  # point of extremum with error e_d"
   ]
  },
  {
   "cell_type": "markdown",
   "id": "45df757b",
   "metadata": {
    "collapsed": false
   },
   "source": [
    "Теперь реализуем алгоритм Moore-Skelboe"
   ]
  },
  {
   "cell_type": "code",
   "execution_count": 4,
   "id": "b0adbbe4",
   "metadata": {
    "ExecuteTime": {
     "end_time": "2023-05-14T23:29:54.690368Z",
     "start_time": "2023-05-14T23:29:54.672765Z"
    },
    "collapsed": false
   },
   "outputs": [],
   "source": [
    "def MooreSkelboe(func_index, index, a, b, p, e_d,\n",
    "                 e_f):  # func_index(number of function in list of functions), index(index of direction),\n",
    "    # a(left border), b(right border), p(current point), e_d(error of d), e_f(error of f)\n",
    "    F = Functions[func_index * 2 + 1]\n",
    "    interval_d = []\n",
    "    for i in range(len(p)):\n",
    "        interval_d.append(interval[p[i], p[i]])\n",
    "    interval_d[index] = interval[a, b]\n",
    "\n",
    "    interval_f = F(interval_d)\n",
    "    set_of_intervals = [[interval_d, interval_f]]\n",
    "    U = right(interval_f)\n",
    "    w_f = right(interval_f) - left(interval_f)\n",
    "    w_d = right(interval_d[index]) - left(interval_d[index])\n",
    "    best_interval = set_of_intervals[0]\n",
    "    while (w_d > e_d) | (w_f > e_f):\n",
    "        set_of_intervals.pop(0)\n",
    "        mid_p = mid(best_interval[0][index])\n",
    "        interval_1 = best_interval[0].copy()\n",
    "        interval_2 = best_interval[0].copy()\n",
    "        interval_1[index] = interval[left(best_interval[0][index]), mid_p]\n",
    "        interval_1_f = F(interval_1)\n",
    "        interval_2[index] = interval[mid_p, right(best_interval[0][index])]\n",
    "        interval_2_f = F(interval_2)\n",
    "        U = min(U, right(interval_1_f))\n",
    "        U = min(U, right(interval_2_f))\n",
    "\n",
    "        for i in range(len(set_of_intervals)):\n",
    "            if U < left(set_of_intervals[i][1]):\n",
    "                set_of_intervals = set_of_intervals[:i]\n",
    "                break\n",
    "\n",
    "        val_1 = left(interval_1_f)\n",
    "        val_2 = left(interval_2_f)\n",
    "\n",
    "        if (len(set_of_intervals) == 0) or (val_1 > left(\n",
    "                set_of_intervals[-1][1])):\n",
    "            set_of_intervals.append([interval_1, interval_1_f])\n",
    "        else:\n",
    "            l = 0\n",
    "            r = len(set_of_intervals) - 1\n",
    "            while l < r:\n",
    "                m = int((l + r) / 2)\n",
    "                if left(set_of_intervals[m][1]) > val_1:\n",
    "                    r = m\n",
    "                else:\n",
    "                    l = m + 1\n",
    "            set_of_intervals.insert(l, [interval_1, interval_1_f])\n",
    "\n",
    "        if val_2 > left(set_of_intervals[-1][1]):\n",
    "            set_of_intervals.append([interval_2, interval_2_f])\n",
    "        else:\n",
    "            l = 0\n",
    "            r = len(set_of_intervals) - 1\n",
    "            while l < r:\n",
    "                m = int((l + r) / 2)\n",
    "                if left(set_of_intervals[m][1]) > val_2:\n",
    "                    r = m\n",
    "                else:\n",
    "                    l = m + 1\n",
    "            set_of_intervals.insert(l, [interval_2, interval_2_f])\n",
    "\n",
    "        best_interval = set_of_intervals[0]\n",
    "        w_f = right(best_interval[1]) - left(best_interval[1])\n",
    "        w_d = right(best_interval[0][index]) - left(best_interval[0][index])\n",
    "\n",
    "    best_point = []\n",
    "    for i in range(len(p)):\n",
    "        best_point.append(mid(best_interval[0][i]))\n",
    "\n",
    "    return best_point"
   ]
  },
  {
   "cell_type": "markdown",
   "id": "6cbe0607",
   "metadata": {},
   "source": [
    "Функция принимающая функцию, множество определения и начальную точку.\n",
    "Она раелизует метод наискорейшего спуска, последовательно ищет минимум вдоль направлений параллельных координатным осям и останавливается когда улучшение точности становится малым."
   ]
  },
  {
   "cell_type": "code",
   "execution_count": 5,
   "id": "357a84d7",
   "metadata": {
    "ExecuteTime": {
     "end_time": "2023-05-14T23:30:00.436541Z",
     "start_time": "2023-05-14T23:30:00.432714Z"
    }
   },
   "outputs": [],
   "source": [
    "def FastSearch(func_index, D, p, e_d, e_f, method):  # F(function), D(set), p(start point), e(error)\n",
    "    while True:\n",
    "        p_0 = p\n",
    "        for index in range(len(p)):\n",
    "            p = method(func_index, index, D[index][0], D[index][1], p, e_d, e_f)\n",
    "        if (dist(p_0, p) < e_d) & (Functions[func_index * 2](p_0) - Functions[func_index * 2](p) < e_f):\n",
    "            break\n",
    "\n",
    "    best_point = p\n",
    "    best_value = Functions[func_index * 2](p)\n",
    "\n",
    "    return best_point, best_value"
   ]
  },
  {
   "cell_type": "markdown",
   "id": "b7061ad9",
   "metadata": {
    "collapsed": false
   },
   "source": [
    "Функция для вывода результата работы программы"
   ]
  },
  {
   "cell_type": "code",
   "execution_count": 6,
   "id": "2ea8c563",
   "metadata": {
    "ExecuteTime": {
     "end_time": "2023-05-14T23:30:02.876900Z",
     "start_time": "2023-05-14T23:30:02.837381Z"
    },
    "collapsed": false
   },
   "outputs": [],
   "source": [
    "def print_result(func_num, D, p, e_d, e_f):\n",
    "    p_1, v_1 = FastSearch(func_num, D, p, e_d, e_f, GoldenRatio)  # point of minimum\n",
    "    p_2, v_2 = FastSearch(func_num, D, p, e_d, e_f, MooreSkelboe)  # point of minimum\n",
    "    print(\"Результат тестирования:\")\n",
    "    print(\"Golden Ratio:\", v_1)\n",
    "    print(\"Moore-Skelboe:\", v_2)\n"
   ]
  },
  {
   "cell_type": "code",
   "execution_count": 7,
   "id": "b7cd054a",
   "metadata": {
    "ExecuteTime": {
     "end_time": "2023-05-14T23:30:04.878127Z",
     "start_time": "2023-05-14T23:30:04.872530Z"
    },
    "collapsed": false
   },
   "outputs": [],
   "source": [
    "def print_result1(func_num, D, p, e_d, e_f):\n",
    "    p_1, v_1 = FastSearch(func_num, D, p, e_d, e_f, GoldenRatio)  # point of minimum\n",
    "    print(\"Результат тестирования:\")\n",
    "    print(\"Golden Ratio:\", v_1)"
   ]
  },
  {
   "cell_type": "code",
   "execution_count": 8,
   "id": "827b845a",
   "metadata": {
    "ExecuteTime": {
     "end_time": "2023-05-14T23:30:07.607667Z",
     "start_time": "2023-05-14T23:30:07.602140Z"
    },
    "collapsed": false
   },
   "outputs": [],
   "source": [
    "def print_result2(func_num, D, p, e_d, e_f):\n",
    "    p_2, v_2 = FastSearch(func_num, D, p, e_d, e_f, MooreSkelboe)  # point of minimum\n",
    "    print(\"Результат тестирования:\")\n",
    "    print(\"Moore-Skelboe:\", v_2)"
   ]
  },
  {
   "cell_type": "code",
   "execution_count": 9,
   "id": "d0ca618a",
   "metadata": {
    "ExecuteTime": {
     "end_time": "2023-05-14T23:30:09.183027Z",
     "start_time": "2023-05-14T23:30:09.169925Z"
    },
    "collapsed": false
   },
   "outputs": [],
   "source": [
    "# print_result(2, [[0, 4], [-2, 2]], [1, 1], 0.01, 0.01)  #считал минут 5"
   ]
  },
  {
   "cell_type": "markdown",
   "id": "8b94d8ba",
   "metadata": {
    "collapsed": false
   },
   "source": [
    "## Далее продемонстрируем работу методов на известных тестовых функциях глобальной оптимизации"
   ]
  },
  {
   "cell_type": "code",
   "execution_count": 10,
   "id": "322353ce",
   "metadata": {
    "ExecuteTime": {
     "end_time": "2023-05-14T23:30:23.501537Z",
     "start_time": "2023-05-14T23:30:12.379342Z"
    },
    "collapsed": false
   },
   "outputs": [
    {
     "name": "stdout",
     "output_type": "stream",
     "text": [
      "Результат тестирования:\n",
      "Golden Ratio: 39.79857020564907\n",
      "Moore-Skelboe: 0.0007390678956511465\n"
     ]
    }
   ],
   "source": [
    "# Функция Растригина\n",
    "n = 40\n",
    "l = -10\n",
    "r = 10\n",
    "D = [[l, r]] * n\n",
    "p = [1] * n\n",
    "print_result(5, D, p, 0.001, 0.001)"
   ]
  },
  {
   "cell_type": "code",
   "execution_count": 11,
   "id": "e8bce89f",
   "metadata": {
    "ExecuteTime": {
     "end_time": "2023-05-14T14:09:57.654839Z",
     "start_time": "2023-05-14T14:08:52.054717Z"
    },
    "collapsed": false
   },
   "outputs": [
    {
     "name": "stdout",
     "output_type": "stream",
     "text": [
      "Результат тестирования:\n",
      "Golden Ratio: 0.33244082803407593\n",
      "Moore-Skelboe: 0.14015453688727936\n"
     ]
    }
   ],
   "source": [
    "# Функция Розенброка\n",
    "n = 8\n",
    "l = -10\n",
    "r = 10\n",
    "D = [[l, r]] * n\n",
    "p = [2] * n\n",
    "print_result(7, D, p, 0.001, 0.001)"
   ]
  },
  {
   "cell_type": "code",
   "execution_count": 12,
   "id": "7c869f7d",
   "metadata": {
    "ExecuteTime": {
     "end_time": "2023-05-14T14:08:42.651449Z",
     "start_time": "2023-05-14T14:08:11.847215Z"
    },
    "collapsed": false
   },
   "outputs": [
    {
     "name": "stdout",
     "output_type": "stream",
     "text": [
      "Результат тестирования:\n",
      "Golden Ratio: -156.6646589598015\n",
      "Moore-Skelboe: -156.66466281009914\n"
     ]
    }
   ],
   "source": [
    "# Функция Стыбинского-Танга\n",
    "n = 4\n",
    "l = -10\n",
    "r = 10\n",
    "D = [[l, r]] * n\n",
    "p = [2] * n\n",
    "print_result(12, D, p, 0.001, 0.001)"
   ]
  },
  {
   "cell_type": "code",
   "execution_count": 13,
   "id": "ac75ca4c",
   "metadata": {
    "ExecuteTime": {
     "end_time": "2023-05-14T14:10:10.771807Z",
     "start_time": "2023-05-14T14:10:10.012805Z"
    },
    "collapsed": false
   },
   "outputs": [
    {
     "name": "stdout",
     "output_type": "stream",
     "text": [
      "Результат тестирования:\n",
      "Golden Ratio: -4.440892098500626e-16\n",
      "Moore-Skelboe: 0.0012256630393632229\n"
     ]
    }
   ],
   "source": [
    "# Функция Экли\n",
    "n = 5\n",
    "l = -10\n",
    "r = 10\n",
    "D = [[l, r]] * n\n",
    "p = [2] * n\n",
    "print_result(15, D, p, 0.001, 0.001)"
   ]
  },
  {
   "cell_type": "code",
   "execution_count": 14,
   "metadata": {
    "ExecuteTime": {
     "end_time": "2023-05-14T14:10:16.678005Z",
     "start_time": "2023-05-14T14:10:16.507317Z"
    },
    "collapsed": false
   },
   "outputs": [
    {
     "name": "stdout",
     "output_type": "stream",
     "text": [
      "Результат тестирования:\n",
      "Golden Ratio: 0.009864698515380743\n",
      "Moore-Skelboe: 1.0644240466817223e-07\n"
     ]
    }
   ],
   "source": [
    "# Функция Гриванка\n",
    "n = 5\n",
    "l = -10\n",
    "r = 10\n",
    "D = [[l, r]] * n\n",
    "p = [2] * n\n",
    "print_result(16, D, p, 0.001, 0.001)"
   ]
  },
  {
   "cell_type": "code",
   "execution_count": 15,
   "metadata": {
    "ExecuteTime": {
     "end_time": "2023-05-14T14:10:20.731786Z",
     "start_time": "2023-05-14T14:10:20.550531Z"
    },
    "collapsed": false
   },
   "outputs": [
    {
     "name": "stdout",
     "output_type": "stream",
     "text": [
      "Результат тестирования:\n",
      "Golden Ratio: 1.542458003137213\n",
      "Moore-Skelboe: 0.0007449817996270092\n"
     ]
    }
   ],
   "source": [
    "# Функция Растригина новгородская\n",
    "n = 5\n",
    "l = -10\n",
    "r = 10\n",
    "D = [[l, r]] * n\n",
    "p = [2] * n\n",
    "print_result(17, D, p, 0.001, 0.001)"
   ]
  },
  {
   "cell_type": "code",
   "execution_count": 16,
   "metadata": {
    "ExecuteTime": {
     "end_time": "2023-05-14T14:10:33.928740Z",
     "start_time": "2023-05-14T14:10:26.571664Z"
    },
    "collapsed": false
   },
   "outputs": [
    {
     "name": "stdout",
     "output_type": "stream",
     "text": [
      "Результат тестирования:\n",
      "Golden Ratio: 236.8766946858181\n",
      "Moore-Skelboe: 2.5455285594944144e-05\n"
     ]
    }
   ],
   "source": [
    "# Функция Швефеля\n",
    "n = 2\n",
    "l = -500\n",
    "r = 500\n",
    "D = [[l, r]] * n\n",
    "p = [2] * n\n",
    "print_result(18, D, p, 0.001, 0.001)"
   ]
  },
  {
   "cell_type": "markdown",
   "metadata": {
    "collapsed": false
   },
   "source": [
    "### Реализуем теперь градиентные алгоритмы"
   ]
  },
  {
   "cell_type": "code",
   "execution_count": 19,
   "metadata": {
    "collapsed": false
   },
   "outputs": [],
   "source": [
    "def Gradient(D, p, f, step):  # градиетн с отражением\n",
    "    gradient = np.array([0] * len(p))\n",
    "    p_ = p.copy()\n",
    "    for i in range(len(p)):\n",
    "        p_[i] += step\n",
    "        gradient[i] = (f(p_) - f(p)) / step\n",
    "        if (abs(p[i] - D[i][0]) < step) & (gradient[i] < 0):\n",
    "            gradient[i] = 0\n",
    "        if (abs(p[i] - D[i][1]) < step) & (gradient[i] > 0):\n",
    "            gradient[i] = 0\n",
    "        p_[i] -= step\n",
    "    return gradient"
   ]
  },
  {
   "cell_type": "code",
   "execution_count": 20,
   "metadata": {
    "collapsed": false
   },
   "outputs": [],
   "source": [
    "def FastSearchG(func_index, D, p, e_d, e_f,\n",
    "                method):  # F(function), D(set), p(start point), e(error)\n",
    "    F = Functions[func_index * 2]\n",
    "    gradient = Gradient(D, p, F, e_d)\n",
    "    while np.linalg.norm(gradient) > e_f:\n",
    "        p_0 = p\n",
    "        p = method(func_index, gradient, D, p, e_d, e_f)\n",
    "        gradient = Gradient(D, p, F, e_d)\n",
    "        if dist(p, p_0) < e_d:\n",
    "            break\n",
    "\n",
    "    best_point = p\n",
    "    best_value = Functions[func_index * 2](p)\n",
    "    return best_point, best_value"
   ]
  },
  {
   "cell_type": "code",
   "execution_count": 21,
   "metadata": {
    "collapsed": false
   },
   "outputs": [],
   "source": [
    "def Borders(p, gradient, D):\n",
    "    max_t = np.inf\n",
    "    min_t = -np.inf\n",
    "    dir = gradient / np.linalg.norm(gradient)\n",
    "    for i in range(len(p)):\n",
    "        if dir[i] > 0:\n",
    "            max_t = min((D[i][1] - p[i]) / dir[i], max_t)\n",
    "            min_t = max((D[i][0] - p[i]) / dir[i], min_t)\n",
    "        elif dir[i] < 0:\n",
    "            min_t = max((D[i][1] - p[i]) / dir[i], min_t)\n",
    "            max_t = min((D[i][0] - p[i]) / dir[i], max_t)\n",
    "\n",
    "    borders = [p + dir * min_t, p + dir * max_t]\n",
    "    return borders"
   ]
  },
  {
   "cell_type": "code",
   "execution_count": 22,
   "metadata": {
    "collapsed": false
   },
   "outputs": [],
   "source": [
    "def GoldenRatioG(func_index, gradient, D, p, e_d,\n",
    "                 e_f):  # f(function), i(index of direction),\n",
    "    # a(left border), b(right border), p(current point), e_d(error of d), e_f(error of f)\n",
    "    F = Functions[func_index * 2]\n",
    "    phi = (1 + np.sqrt(5)) / 2  # constant of golden ratio\n",
    "    a = Borders(p, gradient, D)[0]\n",
    "    b = Borders(p, gradient, D)[1]\n",
    "    x_1 = b - (b - a) / phi\n",
    "    x_2 = a + (b - a) / phi\n",
    "    p_1 = x_1\n",
    "    p_2 = x_2\n",
    "    f_1 = F(p_1)  # value in 1-st point\n",
    "    f_2 = F(p_2)  # value in 2-nd point\n",
    "    while (dist(b, a) > e_d) | (abs(f_1 - f_2) > e_f):  # termination criteria\n",
    "        if f_1 <= f_2:\n",
    "            b = x_2\n",
    "            x_2 = x_1\n",
    "            x_1 = b - (b - a) / phi\n",
    "\n",
    "            p_1 = x_1\n",
    "            p_2 = x_2\n",
    "\n",
    "            f_2 = f_1\n",
    "            f_1 = F(p_1)\n",
    "        else:\n",
    "            a = x_1\n",
    "            x_1 = x_2\n",
    "            x_2 = a + (b - a) / phi\n",
    "\n",
    "            p_1 = x_1\n",
    "            p_2 = x_2\n",
    "\n",
    "            f_1 = f_2\n",
    "            f_2 = F(p_2)\n",
    "\n",
    "    best_point = []\n",
    "    for i in range(len(p)):\n",
    "        best_point.append((p_1[i] + p_2[i]) / 2)\n",
    "\n",
    "    return best_point  # point of extremum with error e_d"
   ]
  },
  {
   "cell_type": "code",
   "execution_count": 23,
   "metadata": {
    "collapsed": false
   },
   "outputs": [
    {
     "name": "stdout",
     "output_type": "stream",
     "text": [
      "([-0.0028003358207259925, 1.0], 2.7500039209403546)\n"
     ]
    }
   ],
   "source": [
    "print(FastSearchG(0, [[-10,10], [-10, 10]], [1, 1], 0.01, 0.01, GoldenRatioG))"
   ]
  },
  {
   "cell_type": "code",
   "execution_count": 24,
   "metadata": {
    "collapsed": false
   },
   "outputs": [
    {
     "name": "stdout",
     "output_type": "stream",
     "text": [
      "([-0.0010696331036035857, -0.0010696331036035857], 0.004339463348134842)\n"
     ]
    }
   ],
   "source": [
    "print(FastSearchG(1, [[-10,10], [-10, 10]], [1, 1], 0.01, 0.01, GoldenRatioG))"
   ]
  },
  {
   "cell_type": "code",
   "execution_count": 25,
   "metadata": {
    "collapsed": false
   },
   "outputs": [
    {
     "name": "stdout",
     "output_type": "stream",
     "text": [
      "([2.2884356645157595, 0.27497476282491884], 0.19101845475988927)\n"
     ]
    }
   ],
   "source": [
    "print(FastSearchG(2, [[-10,10], [-10, 10]], [1, 1], 0.01, 0.01, GoldenRatioG))"
   ]
  },
  {
   "cell_type": "code",
   "execution_count": 26,
   "metadata": {
    "collapsed": false
   },
   "outputs": [
    {
     "name": "stdout",
     "output_type": "stream",
     "text": [
      "([1.259711090594617, 2.7909355385799084], 0.12141812379368569)\n"
     ]
    }
   ],
   "source": [
    "print(FastSearchG(3, [[-10,10], [-10, 10]], [1, 1], 0.01, 0.01, GoldenRatioG))"
   ]
  }
 ],
 "metadata": {
  "kernelspec": {
   "display_name": "Python 3.9.6 ('venv': venv)",
   "language": "python",
   "name": "python3"
  },
  "language_info": {
   "codemirror_mode": {
    "name": "ipython",
    "version": 3
   },
   "file_extension": ".py",
   "mimetype": "text/x-python",
   "name": "python",
   "nbconvert_exporter": "python",
   "pygments_lexer": "ipython3",
   "version": "3.9.6"
  },
  "vscode": {
   "interpreter": {
    "hash": "6288e197d86d7994642e39058e8e3033cb14ec3cb190240372f2228a71274ea1"
   }
  }
 },
 "nbformat": 4,
 "nbformat_minor": 5
}
