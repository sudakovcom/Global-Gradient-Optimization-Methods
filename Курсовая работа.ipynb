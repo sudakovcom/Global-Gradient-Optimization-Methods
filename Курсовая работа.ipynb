{
 "cells": [
  {
   "cell_type": "code",
   "execution_count": 2,
   "id": "531b6fe9",
   "metadata": {
    "pycharm": {
     "name": "#%%\n"
    }
   },
   "outputs": [],
   "source": [
    "import numpy as np\n",
    "import math\n",
    "from interval import imath\n",
    "from interval import fpu\n",
    "from interval import interval"
   ]
  },
  {
   "cell_type": "code",
   "execution_count": 14,
   "outputs": [],
   "source": [
    "def left(interval):\n",
    "    return fpu.max(interval)[0]\n",
    "\n",
    "\n",
    "def right(interval):\n",
    "    return fpu.max(interval)[1]\n",
    "\n",
    "\n",
    "def mid(interval):\n",
    "    return (fpu.max(interval)[0] + fpu.max(interval)[1]) / 2\n",
    "\n",
    "\n",
    "def norm(p_1, p_2):\n",
    "    r = 0\n",
    "    for i in range(len(p_1)):\n",
    "        r += (p_1[i] - p_2[i]) ** 2\n",
    "    return math.sqrt(r)"
   ],
   "metadata": {
    "collapsed": false,
    "pycharm": {
     "name": "#%%\n"
    }
   }
  },
  {
   "cell_type": "markdown",
   "id": "ef1bd5e3",
   "metadata": {
    "pycharm": {
     "name": "#%% md\n"
    }
   },
   "source": [
    "Напишем алгоритм, который будет находить экстремум функции вдоль заданного направления.\n",
    "Алгоритм будет основываться на методе \"Золотого сечения\" так как является наиболее эффективным по стравнению с основными методами одномерной оптимизации."
   ]
  },
  {
   "cell_type": "code",
   "execution_count": 33,
   "id": "d21d3f7e",
   "metadata": {
    "pycharm": {
     "name": "#%%\n"
    }
   },
   "outputs": [],
   "source": [
    "def GoldenRatio(F, index, a, b, p, e_d, e_f):  #f(function), i(index of direction),\n",
    "    # a(left border), b(right border), p(current point), e_d(error of d), e_f(error of f)\n",
    "    phi = (1 + math.sqrt(5)) / 2  #constant of golden ratio\n",
    "    x_1 = b - (b - a) / phi\n",
    "    x_2 = a + (b - a) / phi\n",
    "    p_1 = p.copy()  #current point\n",
    "    p_2 = p.copy()  #current point\n",
    "    p_1[index] = x_1\n",
    "    p_2[index] = x_2\n",
    "    f_1 = F(p_1)  #value in 1-st point\n",
    "    f_2 = F(p_2)  #value in 2-nd point\n",
    "    while (b - a > e_d) | (abs(f_1 - f_2) > e_f):  #termination criteria\n",
    "        if f_1 <= f_2:\n",
    "            b = x_2\n",
    "            x_2 = x_1\n",
    "            x_1 = b - (b - a) / phi\n",
    "\n",
    "            p_1[index] = x_1\n",
    "            p_2[index] = x_2\n",
    "\n",
    "            f_2 = f_1\n",
    "            f_1 = F(p_1)\n",
    "        else:\n",
    "            a = x_1\n",
    "            x_1 = x_2\n",
    "            x_2 = a + (b - a) / phi\n",
    "\n",
    "            p_1[index] = x_1\n",
    "            p_2[index] = x_2\n",
    "\n",
    "            f_1 = f_2\n",
    "            f_2 = F(p_2)\n",
    "\n",
    "    best_point = []\n",
    "    for i in range(len(p)):\n",
    "        best_point.append((p_1[i] + p_2[i]) / 2)\n",
    "\n",
    "    return best_point  #point of extremum with error e_d"
   ]
  },
  {
   "cell_type": "markdown",
   "source": [
    "Теперь реализуем алгоритм Moore-Skelboe"
   ],
   "metadata": {
    "collapsed": false,
    "pycharm": {
     "name": "#%% md\n"
    }
   }
  },
  {
   "cell_type": "code",
   "execution_count": 41,
   "outputs": [],
   "source": [
    "def MooreSkelboe(F, index, a, b, p, e_d, e_f):  #F(function), i(index of direction),\n",
    "    # a(left border), b(right border), p(current point), e_d(error of d), e_f(error of f)\n",
    "    interval_d = []\n",
    "    for i in range(len(p)):\n",
    "        interval_d.append(interval[p[i], p[i]])\n",
    "    interval_d[index] = interval[a, b]\n",
    "\n",
    "    interval_f = F(interval_d)\n",
    "    set_of_intervals = [[interval_d, interval_f]]\n",
    "    U = right(interval_f)\n",
    "    w_f = len(interval_f)\n",
    "    w_d = len(interval_d)\n",
    "    best_interval = set_of_intervals[0]\n",
    "    while (w_d > e_d) | (w_f > e_f):\n",
    "        set_of_intervals.pop(0)\n",
    "        mid_p = mid(best_interval[0][index])\n",
    "        interval_1 = best_interval[0].copy()\n",
    "        interval_2 = best_interval[0].copy()\n",
    "        interval_1[index] = interval[left(best_interval[0][index]), mid_p]\n",
    "        interval_1_f = F(interval_1)\n",
    "        interval_2[index] = interval[mid_p, right(best_interval[0][index])]\n",
    "        interval_2_f = F(interval_2)\n",
    "        U = min(U, right(interval_1_f))\n",
    "        U = min(U, right(interval_2_f))\n",
    "        set_of_intervals.append([interval_1, interval_1_f])\n",
    "        set_of_intervals.append([interval_2, interval_2_f])\n",
    "        for el in set_of_intervals:\n",
    "            if U < left(el[1]):\n",
    "                set_of_intervals.remove(el)\n",
    "        set_of_intervals.sort(key=lambda item: left(item[1]))\n",
    "        best_interval = set_of_intervals[0]\n",
    "        w_f = right(best_interval[1]) - left(best_interval[1])\n",
    "        w_d = right(best_interval[0][index]) - left(best_interval[0][index])\n",
    "\n",
    "    best_point = []\n",
    "    for i in range(len(p)):\n",
    "        best_point.append(mid(best_interval[0][i]))\n",
    "\n",
    "    return best_point"
   ],
   "metadata": {
    "collapsed": false,
    "pycharm": {
     "name": "#%%\n"
    }
   }
  },
  {
   "cell_type": "markdown",
   "id": "7111509c",
   "metadata": {
    "pycharm": {
     "name": "#%% md\n"
    }
   },
   "source": [
    "Функция вычисляющая евклидово расстояние между 2 точками (2,p норму)"
   ]
  },
  {
   "cell_type": "markdown",
   "id": "6cbe0607",
   "metadata": {
    "pycharm": {
     "name": "#%% md\n"
    }
   },
   "source": [
    "Функция принимающая функцию, множество определения и начальную точку.\n",
    "Она раелизует метод наискорейшего спуска, последовательно ищет минимум вдоль направлений параллельных координатным осям и останавливается когда улучшение точности становится малым."
   ]
  },
  {
   "cell_type": "code",
   "execution_count": 42,
   "id": "357a84d7",
   "metadata": {
    "pycharm": {
     "name": "#%%\n"
    }
   },
   "outputs": [],
   "source": [
    "def FastSearch(F, D, p, e_d, e_f, method):  #F(function), D(set), p(start point), e(error)\n",
    "    dimension = len(p)\n",
    "\n",
    "    while True:\n",
    "        p_0 = p\n",
    "        for index in range(dimension):\n",
    "            p = method(F, index, D[index][0], D[index][1], p, e_d, e_f)\n",
    "        if norm(p_0, p) < e_d:\n",
    "            break\n",
    "        if F(p_0) - F(p) < e_f:\n",
    "            break\n",
    "\n",
    "    best_point = p\n",
    "    best_value = F(p)\n",
    "\n",
    "    return best_point, best_value"
   ]
  },
  {
   "cell_type": "markdown",
   "id": "c9359b88",
   "metadata": {
    "pycharm": {
     "name": "#%% md\n"
    }
   },
   "source": [
    "Рассмотрим пример работы функции на примере:"
   ]
  },
  {
   "cell_type": "code",
   "execution_count": 51,
   "id": "2414155c",
   "metadata": {
    "pycharm": {
     "name": "#%%\n"
    }
   },
   "outputs": [],
   "source": [
    "def F(x):\n",
    "    return (x[0] ** 2) / 2 - (x[1] ** 2) / 4 + 3"
   ]
  },
  {
   "cell_type": "code",
   "execution_count": 52,
   "outputs": [
    {
     "name": "stdout",
     "output_type": "stream",
     "text": [
      "[-2.163525435194824e-16, -9.999591436509917]\n",
      "-21.997957224280615\n"
     ]
    }
   ],
   "source": [
    "p, v = FastSearch(F, [[-10, 10], [-10, 10]], [1, 1], 0.001, 0.001, GoldenRatio)  #point of minimum\n",
    "print(p)\n",
    "print(v)"
   ],
   "metadata": {
    "collapsed": false,
    "pycharm": {
     "name": "#%%\n"
    }
   }
  },
  {
   "cell_type": "markdown",
   "id": "a84185f0",
   "metadata": {
    "pycharm": {
     "name": "#%% md\n"
    }
   },
   "source": [
    "Попробуем теперь применить тут алгоритм Moore-Skelboe для поиска минимума вдоль направления:"
   ]
  },
  {
   "cell_type": "code",
   "execution_count": 44,
   "outputs": [
    {
     "name": "stdout",
     "output_type": "stream",
     "text": [
      "[-0.00030517578125, -9.999923706054688]\n",
      "-21.9996184851625\n"
     ]
    }
   ],
   "source": [
    "p, v = FastSearch(F, [[-10, 10], [-10, 10]], [1, 1], 0.001, 0.001, MooreSkelboe)  #point of minimum\n",
    "print(p)\n",
    "print(v)"
   ],
   "metadata": {
    "collapsed": false,
    "pycharm": {
     "name": "#%%\n"
    }
   }
  },
  {
   "cell_type": "markdown",
   "source": [
    "Приведем функции на которых можно протестировать работу алгоритмов"
   ],
   "metadata": {
    "collapsed": false,
    "pycharm": {
     "name": "#%% md\n"
    }
   }
  },
  {
   "cell_type": "code",
   "execution_count": 8,
   "outputs": [],
   "source": [
    "def print_result(F, D, p, e):\n",
    "    p_1 = fast_search(F, [[-10, 10], [-10, 10]], [5, 5], 0.0001, 0.0001, MooreSkelboe)  #point of minimum\n",
    "    y_1 = F(p_1)  #minimum value\n",
    "\n",
    "    p_2 = fast_search(F, [[-10, 10], [-10, 10]], [5, 5], 0.0001, 0.0001, GoldenRatio)  #point of minimum\n",
    "    y_2 = F(p_2)  #minimum value\n",
    "\n",
    "    print(\"min of Moore-Skelboe:\", y_1, p_1)\n",
    "    print(\"min of Golden Ratio:\", y_2, p_2)\n"
   ],
   "metadata": {
    "collapsed": false,
    "pycharm": {
     "name": "#%%\n"
    }
   }
  },
  {
   "cell_type": "code",
   "execution_count": 9,
   "outputs": [
    {
     "ename": "NameError",
     "evalue": "name 'F_1' is not defined",
     "output_type": "error",
     "traceback": [
      "\u001B[0;31m---------------------------------------------------------------------------\u001B[0m",
      "\u001B[0;31mNameError\u001B[0m                                 Traceback (most recent call last)",
      "Cell \u001B[0;32mIn[9], line 1\u001B[0m\n\u001B[0;32m----> 1\u001B[0m print_result(\u001B[43mF_1\u001B[49m, [[\u001B[38;5;241m-\u001B[39m\u001B[38;5;241m10\u001B[39m, \u001B[38;5;241m10\u001B[39m], [\u001B[38;5;241m-\u001B[39m\u001B[38;5;241m10\u001B[39m, \u001B[38;5;241m10\u001B[39m]], [\u001B[38;5;241m1\u001B[39m, \u001B[38;5;241m1\u001B[39m], \u001B[38;5;241m0.0001\u001B[39m)\n",
      "\u001B[0;31mNameError\u001B[0m: name 'F_1' is not defined"
     ]
    }
   ],
   "source": [
    "print_result(F_1, [[-10, 10], [-10, 10]], [1, 1], 0.0001)"
   ],
   "metadata": {
    "collapsed": false,
    "pycharm": {
     "name": "#%%\n"
    }
   }
  },
  {
   "cell_type": "code",
   "execution_count": 10,
   "outputs": [],
   "source": [
    "def F_1(x):\n",
    "    return -20 * imath.exp(-0.2 * imath.sqrt(0.5 * (x[0] * x[0] + x[1] * x[1]))) - imath.exp(\n",
    "        0.5 * (imath.cos(2 * math.pi * x[0]) + imath.cos(2 * math.pi * x[1]))) + math.exp(1) + 20\n",
    "\n",
    "\n",
    "def F_2(x):\n",
    "    return (1.5 - x[0] + x[0] * x[1]) * (1.5 - x[0] + x[0] * x[1]) + (2.25 - x[0] + x[0] * x[1] * x[1]) * (2.25 - x[0] + x[0] * x[1] * x[1]) + (\n",
    "            2.625 - x[0] + x[0] * x[1] * x[1] * x[1]) * (2.625 - x[0] + x[0] * x[1] * x[1] * x[1])\n",
    "\n",
    "\n",
    "def F_3(x):\n",
    "    return (x[0] + 2 * x[1] - 7) ** 2 + (2 * x[0] + x[1] - 5) ** 2\n",
    "\n",
    "\n",
    "def F_4(x):\n",
    "    return 0.26 * (x[0] ** 2 + x[1] ** 2) - 0.48 * x[0] * x[1]"
   ],
   "metadata": {
    "collapsed": false,
    "pycharm": {
     "name": "#%%\n"
    }
   }
  },
  {
   "cell_type": "code",
   "execution_count": 18,
   "outputs": [
    {
     "ename": "KeyboardInterrupt",
     "evalue": "",
     "output_type": "error",
     "traceback": [
      "\u001B[0;31m---------------------------------------------------------------------------\u001B[0m",
      "\u001B[0;31mKeyboardInterrupt\u001B[0m                         Traceback (most recent call last)",
      "Cell \u001B[0;32mIn[18], line 3\u001B[0m\n\u001B[1;32m      1\u001B[0m \u001B[38;5;66;03m# print_result(F_4, [[-10, 10], [-10, 10]], [1, 1], 0.01)\u001B[39;00m\n\u001B[0;32m----> 3\u001B[0m p_1 \u001B[38;5;241m=\u001B[39m \u001B[43mfast_search\u001B[49m\u001B[43m(\u001B[49m\u001B[43mF_2\u001B[49m\u001B[43m,\u001B[49m\u001B[43m \u001B[49m\u001B[43m[\u001B[49m\u001B[43m[\u001B[49m\u001B[38;5;241;43m-\u001B[39;49m\u001B[38;5;241;43m4\u001B[39;49m\u001B[43m,\u001B[49m\u001B[43m \u001B[49m\u001B[38;5;241;43m4\u001B[39;49m\u001B[43m]\u001B[49m\u001B[43m,\u001B[49m\u001B[43m \u001B[49m\u001B[43m[\u001B[49m\u001B[38;5;241;43m-\u001B[39;49m\u001B[38;5;241;43m4\u001B[39;49m\u001B[43m,\u001B[49m\u001B[43m \u001B[49m\u001B[38;5;241;43m4\u001B[39;49m\u001B[43m]\u001B[49m\u001B[43m]\u001B[49m\u001B[43m,\u001B[49m\u001B[43m \u001B[49m\u001B[43m[\u001B[49m\u001B[38;5;241;43m1\u001B[39;49m\u001B[43m,\u001B[49m\u001B[43m \u001B[49m\u001B[38;5;241;43m1\u001B[39;49m\u001B[43m]\u001B[49m\u001B[43m,\u001B[49m\u001B[43m \u001B[49m\u001B[38;5;241;43m0.01\u001B[39;49m\u001B[43m,\u001B[49m\u001B[43m \u001B[49m\u001B[38;5;241;43m0.01\u001B[39;49m\u001B[43m,\u001B[49m\u001B[43m \u001B[49m\u001B[43mMoore_Skelboe\u001B[49m\u001B[43m)\u001B[49m  \u001B[38;5;66;03m#point of minimum\u001B[39;00m\n\u001B[1;32m      4\u001B[0m \u001B[38;5;66;03m# y_1 = F_2(p_1)  #minimum value\u001B[39;00m\n\u001B[1;32m      5\u001B[0m \n\u001B[1;32m      6\u001B[0m \u001B[38;5;66;03m# p_2 = fast_search(F_2, [[-4, 4], [-4,4]], [1, 1], 0.01, 0.01, argmin)  #point of minimum\u001B[39;00m\n\u001B[1;32m      7\u001B[0m \u001B[38;5;66;03m# y_2 = F_2(p_2)  #minimum value\u001B[39;00m\n\u001B[1;32m      8\u001B[0m \n\u001B[1;32m      9\u001B[0m \u001B[38;5;66;03m# print(\"min of Moore-Skelboe:\", y_1, p_1)\u001B[39;00m\n\u001B[1;32m     10\u001B[0m \u001B[38;5;28mprint\u001B[39m(\u001B[38;5;124m\"\u001B[39m\u001B[38;5;124mmin of Golden Ratio:\u001B[39m\u001B[38;5;124m\"\u001B[39m, y_2, p_2)\n",
      "Cell \u001B[0;32mIn[5], line 7\u001B[0m, in \u001B[0;36mfast_search\u001B[0;34m(f, D, p, e, e_n, method)\u001B[0m\n\u001B[1;32m      5\u001B[0m p_0 \u001B[38;5;241m=\u001B[39m p\n\u001B[1;32m      6\u001B[0m \u001B[38;5;28;01mfor\u001B[39;00m i \u001B[38;5;129;01min\u001B[39;00m \u001B[38;5;28mrange\u001B[39m(dimension):\n\u001B[0;32m----> 7\u001B[0m     p \u001B[38;5;241m=\u001B[39m \u001B[43mmethod\u001B[49m\u001B[43m(\u001B[49m\u001B[43mf\u001B[49m\u001B[43m,\u001B[49m\u001B[43m \u001B[49m\u001B[43mi\u001B[49m\u001B[43m,\u001B[49m\u001B[43m \u001B[49m\u001B[43mD\u001B[49m\u001B[43m[\u001B[49m\u001B[43mi\u001B[49m\u001B[43m]\u001B[49m\u001B[43m[\u001B[49m\u001B[38;5;241;43m0\u001B[39;49m\u001B[43m]\u001B[49m\u001B[43m,\u001B[49m\u001B[43m \u001B[49m\u001B[43mD\u001B[49m\u001B[43m[\u001B[49m\u001B[43mi\u001B[49m\u001B[43m]\u001B[49m\u001B[43m[\u001B[49m\u001B[38;5;241;43m1\u001B[39;49m\u001B[43m]\u001B[49m\u001B[43m,\u001B[49m\u001B[43m \u001B[49m\u001B[43mp\u001B[49m\u001B[43m,\u001B[49m\u001B[43m \u001B[49m\u001B[43me\u001B[49m\u001B[43m)\u001B[49m\n\u001B[1;32m      8\u001B[0m \u001B[38;5;28;01mif\u001B[39;00m r(p_0, p) \u001B[38;5;241m<\u001B[39m e_n:\n\u001B[1;32m      9\u001B[0m     \u001B[38;5;28;01mbreak\u001B[39;00m\n",
      "Cell \u001B[0;32mIn[3], line 26\u001B[0m, in \u001B[0;36mMoore_Skelboe\u001B[0;34m(f, index, a, b, p, e)\u001B[0m\n\u001B[1;32m     24\u001B[0m list_of_intervals\u001B[38;5;241m.\u001B[39mappend([interval_2, interval_2e])\n\u001B[1;32m     25\u001B[0m \u001B[38;5;28;01mfor\u001B[39;00m el \u001B[38;5;129;01min\u001B[39;00m list_of_intervals:\n\u001B[0;32m---> 26\u001B[0m     \u001B[38;5;28;01mif\u001B[39;00m U \u001B[38;5;241m<\u001B[39m \u001B[43mfpu\u001B[49m\u001B[38;5;241;43m.\u001B[39;49m\u001B[43mmax\u001B[49m\u001B[43m(\u001B[49m\u001B[43mel\u001B[49m\u001B[43m[\u001B[49m\u001B[38;5;241;43m1\u001B[39;49m\u001B[43m]\u001B[49m\u001B[43m)\u001B[49m[\u001B[38;5;241m0\u001B[39m]:\n\u001B[1;32m     27\u001B[0m         list_of_intervals\u001B[38;5;241m.\u001B[39mremove(el)\n\u001B[1;32m     28\u001B[0m list_of_intervals\u001B[38;5;241m.\u001B[39msort(key\u001B[38;5;241m=\u001B[39m\u001B[38;5;28;01mlambda\u001B[39;00m item: fpu\u001B[38;5;241m.\u001B[39mmax(item[\u001B[38;5;241m1\u001B[39m])[\u001B[38;5;241m0\u001B[39m])\n",
      "File \u001B[0;32m~/PycharmProjects/global-optimization/venv/lib/python3.9/site-packages/interval/fpu.py:140\u001B[0m, in \u001B[0;36mmax\u001B[0;34m(l)\u001B[0m\n\u001B[1;32m    138\u001B[0m \u001B[38;5;124m\"\u001B[39m\u001B[38;5;124mReturn the maximum of the elements in l, or nan if any element is nan.\u001B[39m\u001B[38;5;124m\"\u001B[39m\n\u001B[1;32m    139\u001B[0m \u001B[38;5;28;01mtry\u001B[39;00m:\n\u001B[0;32m--> 140\u001B[0m     \u001B[38;5;28;01mreturn\u001B[39;00m _max(ensure_nonan(x) \u001B[38;5;28;01mfor\u001B[39;00m x \u001B[38;5;129;01min\u001B[39;00m l)\n\u001B[1;32m    141\u001B[0m \u001B[38;5;28;01mexcept\u001B[39;00m NanException:\n\u001B[1;32m    142\u001B[0m     \u001B[38;5;28;01mreturn\u001B[39;00m nan\n",
      "\u001B[0;31mKeyboardInterrupt\u001B[0m: "
     ]
    }
   ],
   "source": [
    "# print_result(F_4, [[-10, 10], [-10, 10]], [1, 1], 0.01)\n",
    "\n",
    "p_1 = fast_search(F_2, [[-4, 4], [-4, 4]], [1, 1], 0.01, 0.01, Moore_Skelboe)  #point of minimum\n",
    "y_1 = F_2(p_1)  #minimum value\n",
    "\n",
    "# p_2 = fast_search(F_2, [[-4, 4], [-4,4]], [1, 1], 0.01, 0.01, argmin)  #point of minimum\n",
    "# y_2 = F_2(p_2)  #minimum value\n",
    "\n",
    "# print(\"min of Moore-Skelboe:\", y_1, p_1)\n",
    "print(\"min of Golden Ratio:\", y_2, p_2)\n",
    "\n",
    "\n",
    "\n",
    "\n"
   ],
   "metadata": {
    "collapsed": false,
    "pycharm": {
     "name": "#%%\n"
    }
   }
  },
  {
   "cell_type": "code",
   "execution_count": null,
   "outputs": [],
   "source": [
    "def Borders(p, gradient, D):\n",
    "    max_t = math.inf\n",
    "    min_t = -math.inf\n",
    "    dir = gradient / np.linalg.norm(gradient)\n",
    "    for i in range(len(p)):\n",
    "        if dir[i] > 0:\n",
    "            max_t = min((D[i][1] - p[i]) / dir[i], max_t)\n",
    "            min_t = max((D[i][0] - p[i]) / dir[i], min_t)\n",
    "        elif gradient[i] < 0:\n",
    "            min_t = max((D[i][1] - p[i]) / dir[i], min_t)\n",
    "            max_t = min((D[i][0] - p[i]) / dir[i], max_t)\n",
    "\n",
    "    borders = [p + dir * min_t, p + dir * max_t]\n",
    "    return borders"
   ],
   "metadata": {
    "collapsed": false,
    "pycharm": {
     "name": "#%%\n"
    }
   }
  }
 ],
 "metadata": {
  "kernelspec": {
   "display_name": "Python 3 (ipykernel)",
   "language": "python",
   "name": "python3"
  },
  "language_info": {
   "codemirror_mode": {
    "name": "ipython",
    "version": 3
   },
   "file_extension": ".py",
   "mimetype": "text/x-python",
   "name": "python",
   "nbconvert_exporter": "python",
   "pygments_lexer": "ipython3",
   "version": "3.9.15"
  }
 },
 "nbformat": 4,
 "nbformat_minor": 5
}