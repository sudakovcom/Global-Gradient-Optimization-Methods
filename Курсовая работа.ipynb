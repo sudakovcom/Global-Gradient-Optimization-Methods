{
 "cells": [
  {
   "cell_type": "code",
   "execution_count": 181,
   "id": "531b6fe9",
   "metadata": {
    "pycharm": {
     "name": "#%%\n"
    }
   },
   "outputs": [
    {
     "ename": "ImportError",
     "evalue": "cannot import name 'Functions_1' from 'functions' (/Users/sudakovcom/PycharmProjects/global-optimization/functions.py)",
     "output_type": "error",
     "traceback": [
      "\u001B[0;31m---------------------------------------------------------------------------\u001B[0m",
      "\u001B[0;31mImportError\u001B[0m                               Traceback (most recent call last)",
      "Cell \u001B[0;32mIn[181], line 6\u001B[0m\n\u001B[1;32m      4\u001B[0m \u001B[38;5;28;01mfrom\u001B[39;00m \u001B[38;5;21;01minterval\u001B[39;00m \u001B[38;5;28;01mimport\u001B[39;00m fpu\n\u001B[1;32m      5\u001B[0m \u001B[38;5;28;01mfrom\u001B[39;00m \u001B[38;5;21;01minterval\u001B[39;00m \u001B[38;5;28;01mimport\u001B[39;00m interval\n\u001B[0;32m----> 6\u001B[0m \u001B[38;5;28;01mfrom\u001B[39;00m \u001B[38;5;21;01mfunctions\u001B[39;00m \u001B[38;5;28;01mimport\u001B[39;00m Functions_1\n",
      "\u001B[0;31mImportError\u001B[0m: cannot import name 'Functions_1' from 'functions' (/Users/sudakovcom/PycharmProjects/global-optimization/functions.py)"
     ]
    }
   ],
   "source": [
    "import numpy as np\n",
    "import math\n",
    "from interval import imath\n",
    "from interval import fpu\n",
    "from interval import interval\n",
    "from functions import Functions_1"
   ]
  },
  {
   "cell_type": "code",
   "execution_count": 182,
   "outputs": [
    {
     "ename": "NameError",
     "evalue": "name 'Functions_1' is not defined",
     "output_type": "error",
     "traceback": [
      "\u001B[0;31m---------------------------------------------------------------------------\u001B[0m",
      "\u001B[0;31mNameError\u001B[0m                                 Traceback (most recent call last)",
      "Cell \u001B[0;32mIn[182], line 1\u001B[0m\n\u001B[0;32m----> 1\u001B[0m \u001B[38;5;28mprint\u001B[39m(\u001B[38;5;28mlen\u001B[39m(\u001B[43mFunctions_1\u001B[49m))\n",
      "\u001B[0;31mNameError\u001B[0m: name 'Functions_1' is not defined"
     ]
    }
   ],
   "source": [
    "print(len(Functions_1))"
   ],
   "metadata": {
    "collapsed": false,
    "pycharm": {
     "name": "#%%\n"
    }
   }
  },
  {
   "cell_type": "code",
   "execution_count": 162,
   "outputs": [],
   "source": [
    "def left(interval):\n",
    "    return fpu.max(interval)[0]\n",
    "\n",
    "\n",
    "def right(interval):\n",
    "    return fpu.max(interval)[1]\n",
    "\n",
    "\n",
    "def mid(interval):\n",
    "    return (fpu.max(interval)[0] + fpu.max(interval)[1]) / 2\n",
    "\n",
    "\n",
    "def norm(p_1, p_2):\n",
    "    r = 0\n",
    "    for i in range(len(p_1)):\n",
    "        r += (p_1[i] - p_2[i]) ** 2\n",
    "    return math.sqrt(r)"
   ],
   "metadata": {
    "collapsed": false,
    "pycharm": {
     "name": "#%%\n"
    }
   }
  },
  {
   "cell_type": "markdown",
   "id": "ef1bd5e3",
   "metadata": {
    "pycharm": {
     "name": "#%% md\n"
    }
   },
   "source": [
    "Напишем алгоритм, который будет находить экстремум функции вдоль заданного направления.\n",
    "Алгоритм будет основываться на методе \"Золотого сечения\" так как является наиболее эффективным по стравнению с основными методами одномерной оптимизации."
   ]
  },
  {
   "cell_type": "code",
   "execution_count": 163,
   "id": "d21d3f7e",
   "metadata": {
    "pycharm": {
     "name": "#%%\n"
    }
   },
   "outputs": [],
   "source": [
    "def GoldenRatio(func_index, index, a, b, p, e_d, e_f):  # f(function), i(index of direction),\n",
    "    # a(left border), b(right border), p(current point), e_d(error of d), e_f(error of f)\n",
    "    F = Functions[func_index * 2]\n",
    "    phi = (1 + math.sqrt(5)) / 2  # constant of golden ratio\n",
    "    x_1 = b - (b - a) / phi\n",
    "    x_2 = a + (b - a) / phi\n",
    "    p_1 = p.copy()  # current point\n",
    "    p_2 = p.copy()  # current point\n",
    "    p_1[index] = x_1\n",
    "    p_2[index] = x_2\n",
    "    f_1 = F(p_1)  # value in 1-st point\n",
    "    f_2 = F(p_2)  # value in 2-nd point\n",
    "    while (b - a > e_d) | (abs(f_1 - f_2) > e_f):  # termination criteria\n",
    "        if f_1 <= f_2:\n",
    "            b = x_2\n",
    "            x_2 = x_1\n",
    "            x_1 = b - (b - a) / phi\n",
    "\n",
    "            p_1[index] = x_1\n",
    "            p_2[index] = x_2\n",
    "\n",
    "            f_2 = f_1\n",
    "            f_1 = F(p_1)\n",
    "        else:\n",
    "            a = x_1\n",
    "            x_1 = x_2\n",
    "            x_2 = a + (b - a) / phi\n",
    "\n",
    "            p_1[index] = x_1\n",
    "            p_2[index] = x_2\n",
    "\n",
    "            f_1 = f_2\n",
    "            f_2 = F(p_2)\n",
    "\n",
    "    best_point = []\n",
    "    for i in range(len(p)):\n",
    "        best_point.append((p_1[i] + p_2[i]) / 2)\n",
    "\n",
    "    return best_point  # point of extremum with error e_d"
   ]
  },
  {
   "cell_type": "markdown",
   "source": [
    "Теперь реализуем алгоритм Moore-Skelboe"
   ],
   "metadata": {
    "collapsed": false,
    "pycharm": {
     "name": "#%% md\n"
    }
   }
  },
  {
   "cell_type": "code",
   "execution_count": 164,
   "outputs": [],
   "source": [
    "def MooreSkelboe(func_index, index, a, b, p, e_d, e_f):  # F(function), i(index of direction),\n",
    "    # a(left border), b(right border), p(current point), e_d(error of d), e_f(error of f)\n",
    "    F = Functions[func_index * 2 + 1]\n",
    "    interval_d = []\n",
    "    for i in range(len(p)):\n",
    "        interval_d.append(interval[p[i], p[i]])\n",
    "    interval_d[index] = interval[a, b]\n",
    "\n",
    "    interval_f = F(interval_d)\n",
    "    set_of_intervals = [[interval_d, interval_f]]\n",
    "    U = right(interval_f)\n",
    "    w_f = right(interval_f) - left(interval_f)\n",
    "    w_d = right(interval_d[index]) - left(interval_d[index])\n",
    "    best_interval = set_of_intervals[0]\n",
    "    while (w_d > e_d) | (w_f > e_f):\n",
    "        set_of_intervals.pop(0)\n",
    "        mid_p = mid(best_interval[0][index])\n",
    "        interval_1 = best_interval[0].copy()\n",
    "        interval_2 = best_interval[0].copy()\n",
    "        interval_1[index] = interval[left(best_interval[0][index]), mid_p]\n",
    "        interval_1_f = F(interval_1)\n",
    "        interval_2[index] = interval[mid_p, right(best_interval[0][index])]\n",
    "        interval_2_f = F(interval_2)\n",
    "        U = min(U, right(interval_1_f))\n",
    "        U = min(U, right(interval_2_f))\n",
    "\n",
    "        for i in range(len(set_of_intervals)):\n",
    "            if U < left(set_of_intervals[i][1]):\n",
    "                set_of_intervals = set_of_intervals[:i]\n",
    "                break\n",
    "\n",
    "        set_of_intervals.append([interval_1, interval_1_f])\n",
    "        set_of_intervals.append([interval_2, interval_2_f])\n",
    "\n",
    "        set_of_intervals.sort(key=lambda item: left(item[1]))\n",
    "        best_interval = set_of_intervals[0]\n",
    "        w_f = right(best_interval[1]) - left(best_interval[1])\n",
    "        w_d = right(best_interval[0][index]) - left(best_interval[0][index])\n",
    "\n",
    "    best_point = []\n",
    "    for i in range(len(p)):\n",
    "        best_point.append(mid(best_interval[0][i]))\n",
    "\n",
    "    return best_point"
   ],
   "metadata": {
    "collapsed": false,
    "pycharm": {
     "name": "#%%\n"
    }
   }
  },
  {
   "cell_type": "markdown",
   "id": "7111509c",
   "metadata": {
    "pycharm": {
     "name": "#%% md\n"
    }
   },
   "source": [
    "Функция вычисляющая евклидово расстояние между 2 точками (2,p норму)"
   ]
  },
  {
   "cell_type": "markdown",
   "id": "6cbe0607",
   "metadata": {
    "pycharm": {
     "name": "#%% md\n"
    }
   },
   "source": [
    "Функция принимающая функцию, множество определения и начальную точку.\n",
    "Она раелизует метод наискорейшего спуска, последовательно ищет минимум вдоль направлений параллельных координатным осям и останавливается когда улучшение точности становится малым."
   ]
  },
  {
   "cell_type": "code",
   "execution_count": 165,
   "id": "357a84d7",
   "metadata": {
    "pycharm": {
     "name": "#%%\n"
    }
   },
   "outputs": [],
   "source": [
    "def FastSearch(func_index, D, p, e_d, e_f, method):  # F(function), D(set), p(start point), e(error)\n",
    "    dimension = len(p)\n",
    "\n",
    "    while True:\n",
    "        p_0 = p\n",
    "        for index in range(dimension):\n",
    "            p = method(func_index, index, D[index][0], D[index][1], p, e_d, e_f)\n",
    "        if (norm(p_0, p) < e_d) & (Functions[func_index * 2](p_0) - Functions[func_index * 2](p) < e_f):\n",
    "            break\n",
    "\n",
    "    best_point = p\n",
    "    best_value = Functions[func_index * 2](p)\n",
    "\n",
    "    return best_point, best_value"
   ]
  },
  {
   "cell_type": "code",
   "execution_count": 166,
   "outputs": [],
   "source": [
    "def print_result(func_num, D, p, e_d, e_f):\n",
    "    p_1, v_1 = FastSearch(func_num, D, p, e_d, e_f, GoldenRatio)  # point of minimum\n",
    "    p_2, v_2 = FastSearch(func_num, D, p, e_d, e_f, MooreSkelboe)  # point of minimum\n",
    "    print(\"min of Golden Ratio:\", p_1, v_1)\n",
    "    print(\"min of Moore-Skelboe:\", p_2, v_2)\n"
   ],
   "metadata": {
    "collapsed": false,
    "pycharm": {
     "name": "#%%\n"
    }
   }
  },
  {
   "cell_type": "code",
   "execution_count": 137,
   "outputs": [
    {
     "name": "stdout",
     "output_type": "stream",
     "text": [
      "min of Golden Ratio: [0.968210662412724, -0.9667443875410091] 3.5745296014864536\n",
      "min of Moore-Skelboe: [0.001953125, -0.001953125] 0.008015648236245454\n"
     ]
    }
   ],
   "source": [
    "print_result(2, [[0, 4], [-2, 2]], [1, 1], 0.01, 0.01)  #считал минут 5"
   ],
   "metadata": {
    "collapsed": false,
    "pycharm": {
     "name": "#%%\n"
    }
   }
  },
  {
   "cell_type": "code",
   "execution_count": 169,
   "outputs": [
    {
     "ename": "IndexError",
     "evalue": "list index out of range",
     "output_type": "error",
     "traceback": [
      "\u001B[0;31m---------------------------------------------------------------------------\u001B[0m",
      "\u001B[0;31mIndexError\u001B[0m                                Traceback (most recent call last)",
      "Cell \u001B[0;32mIn[169], line 1\u001B[0m\n\u001B[0;32m----> 1\u001B[0m \u001B[43mprint_result\u001B[49m\u001B[43m(\u001B[49m\u001B[38;5;241;43m4\u001B[39;49m\u001B[43m,\u001B[49m\u001B[43m \u001B[49m\u001B[43m[\u001B[49m\u001B[43m[\u001B[49m\u001B[38;5;241;43m-\u001B[39;49m\u001B[38;5;241;43m10\u001B[39;49m\u001B[43m,\u001B[49m\u001B[43m \u001B[49m\u001B[38;5;241;43m10\u001B[39;49m\u001B[43m]\u001B[49m\u001B[43m,\u001B[49m\u001B[43m \u001B[49m\u001B[43m[\u001B[49m\u001B[38;5;241;43m-\u001B[39;49m\u001B[38;5;241;43m10\u001B[39;49m\u001B[43m,\u001B[49m\u001B[43m \u001B[49m\u001B[38;5;241;43m10\u001B[39;49m\u001B[43m]\u001B[49m\u001B[43m]\u001B[49m\u001B[43m,\u001B[49m\u001B[43m \u001B[49m\u001B[43m[\u001B[49m\u001B[38;5;241;43m1\u001B[39;49m\u001B[43m,\u001B[49m\u001B[43m \u001B[49m\u001B[38;5;241;43m1\u001B[39;49m\u001B[43m]\u001B[49m\u001B[43m,\u001B[49m\u001B[43m \u001B[49m\u001B[38;5;241;43m0.01\u001B[39;49m\u001B[43m,\u001B[49m\u001B[43m \u001B[49m\u001B[38;5;241;43m0.01\u001B[39;49m\u001B[43m)\u001B[49m  \u001B[38;5;66;03m#считал минут 5\u001B[39;00m\n",
      "Cell \u001B[0;32mIn[166], line 2\u001B[0m, in \u001B[0;36mprint_result\u001B[0;34m(func_num, D, p, e_d, e_f)\u001B[0m\n\u001B[1;32m      1\u001B[0m \u001B[38;5;28;01mdef\u001B[39;00m \u001B[38;5;21mprint_result\u001B[39m(func_num, D, p, e_d, e_f):\n\u001B[0;32m----> 2\u001B[0m     p_1, v_1 \u001B[38;5;241m=\u001B[39m \u001B[43mFastSearch\u001B[49m\u001B[43m(\u001B[49m\u001B[43mfunc_num\u001B[49m\u001B[43m,\u001B[49m\u001B[43m \u001B[49m\u001B[43mD\u001B[49m\u001B[43m,\u001B[49m\u001B[43m \u001B[49m\u001B[43mp\u001B[49m\u001B[43m,\u001B[49m\u001B[43m \u001B[49m\u001B[43me_d\u001B[49m\u001B[43m,\u001B[49m\u001B[43m \u001B[49m\u001B[43me_f\u001B[49m\u001B[43m,\u001B[49m\u001B[43m \u001B[49m\u001B[43mGoldenRatio\u001B[49m\u001B[43m)\u001B[49m  \u001B[38;5;66;03m# point of minimum\u001B[39;00m\n\u001B[1;32m      3\u001B[0m     p_2, v_2 \u001B[38;5;241m=\u001B[39m FastSearch(func_num, D, p, e_d, e_f, MooreSkelboe)  \u001B[38;5;66;03m# point of minimum\u001B[39;00m\n\u001B[1;32m      4\u001B[0m     \u001B[38;5;28mprint\u001B[39m(\u001B[38;5;124m\"\u001B[39m\u001B[38;5;124mmin of Golden Ratio:\u001B[39m\u001B[38;5;124m\"\u001B[39m, p_1, v_1)\n",
      "Cell \u001B[0;32mIn[165], line 7\u001B[0m, in \u001B[0;36mFastSearch\u001B[0;34m(func_index, D, p, e_d, e_f, method)\u001B[0m\n\u001B[1;32m      5\u001B[0m p_0 \u001B[38;5;241m=\u001B[39m p\n\u001B[1;32m      6\u001B[0m \u001B[38;5;28;01mfor\u001B[39;00m index \u001B[38;5;129;01min\u001B[39;00m \u001B[38;5;28mrange\u001B[39m(dimension):\n\u001B[0;32m----> 7\u001B[0m     p \u001B[38;5;241m=\u001B[39m \u001B[43mmethod\u001B[49m\u001B[43m(\u001B[49m\u001B[43mfunc_index\u001B[49m\u001B[43m,\u001B[49m\u001B[43m \u001B[49m\u001B[43mindex\u001B[49m\u001B[43m,\u001B[49m\u001B[43m \u001B[49m\u001B[43mD\u001B[49m\u001B[43m[\u001B[49m\u001B[43mindex\u001B[49m\u001B[43m]\u001B[49m\u001B[43m[\u001B[49m\u001B[38;5;241;43m0\u001B[39;49m\u001B[43m]\u001B[49m\u001B[43m,\u001B[49m\u001B[43m \u001B[49m\u001B[43mD\u001B[49m\u001B[43m[\u001B[49m\u001B[43mindex\u001B[49m\u001B[43m]\u001B[49m\u001B[43m[\u001B[49m\u001B[38;5;241;43m1\u001B[39;49m\u001B[43m]\u001B[49m\u001B[43m,\u001B[49m\u001B[43m \u001B[49m\u001B[43mp\u001B[49m\u001B[43m,\u001B[49m\u001B[43m \u001B[49m\u001B[43me_d\u001B[49m\u001B[43m,\u001B[49m\u001B[43m \u001B[49m\u001B[43me_f\u001B[49m\u001B[43m)\u001B[49m\n\u001B[1;32m      8\u001B[0m \u001B[38;5;28;01mif\u001B[39;00m (norm(p_0, p) \u001B[38;5;241m<\u001B[39m e_d) \u001B[38;5;241m&\u001B[39m (Functions[func_index \u001B[38;5;241m*\u001B[39m \u001B[38;5;241m2\u001B[39m](p_0) \u001B[38;5;241m-\u001B[39m Functions[func_index \u001B[38;5;241m*\u001B[39m \u001B[38;5;241m2\u001B[39m](p) \u001B[38;5;241m<\u001B[39m e_f):\n\u001B[1;32m      9\u001B[0m     \u001B[38;5;28;01mbreak\u001B[39;00m\n",
      "Cell \u001B[0;32mIn[163], line 3\u001B[0m, in \u001B[0;36mGoldenRatio\u001B[0;34m(func_index, index, a, b, p, e_d, e_f)\u001B[0m\n\u001B[1;32m      1\u001B[0m \u001B[38;5;28;01mdef\u001B[39;00m \u001B[38;5;21mGoldenRatio\u001B[39m(func_index, index, a, b, p, e_d, e_f):  \u001B[38;5;66;03m# f(function), i(index of direction),\u001B[39;00m\n\u001B[1;32m      2\u001B[0m     \u001B[38;5;66;03m# a(left border), b(right border), p(current point), e_d(error of d), e_f(error of f)\u001B[39;00m\n\u001B[0;32m----> 3\u001B[0m     F \u001B[38;5;241m=\u001B[39m \u001B[43mFunctions\u001B[49m\u001B[43m[\u001B[49m\u001B[43mfunc_index\u001B[49m\u001B[43m \u001B[49m\u001B[38;5;241;43m*\u001B[39;49m\u001B[43m \u001B[49m\u001B[38;5;241;43m2\u001B[39;49m\u001B[43m]\u001B[49m\n\u001B[1;32m      4\u001B[0m     phi \u001B[38;5;241m=\u001B[39m (\u001B[38;5;241m1\u001B[39m \u001B[38;5;241m+\u001B[39m math\u001B[38;5;241m.\u001B[39msqrt(\u001B[38;5;241m5\u001B[39m)) \u001B[38;5;241m/\u001B[39m \u001B[38;5;241m2\u001B[39m  \u001B[38;5;66;03m# constant of golden ratio\u001B[39;00m\n\u001B[1;32m      5\u001B[0m     x_1 \u001B[38;5;241m=\u001B[39m b \u001B[38;5;241m-\u001B[39m (b \u001B[38;5;241m-\u001B[39m a) \u001B[38;5;241m/\u001B[39m phi\n",
      "\u001B[0;31mIndexError\u001B[0m: list index out of range"
     ]
    }
   ],
   "source": [
    "print_result(4, [[-10, 10], [-10, 10]], [1, 1], 0.01, 0.01)  #считал минут 5"
   ],
   "metadata": {
    "collapsed": false,
    "pycharm": {
     "name": "#%%\n"
    }
   }
  },
  {
   "cell_type": "code",
   "execution_count": null,
   "outputs": [],
   "source": [
    "def Borders(p, gradient, D):\n",
    "    max_t = math.inf\n",
    "    min_t = -math.inf\n",
    "    dir = gradient / np.linalg.norm(gradient)\n",
    "    for i in range(len(p)):\n",
    "        if dir[i] > 0:\n",
    "            max_t = min((D[i][1] - p[i]) / dir[i], max_t)\n",
    "            min_t = max((D[i][0] - p[i]) / dir[i], min_t)\n",
    "        elif gradient[i] < 0:\n",
    "            min_t = max((D[i][1] - p[i]) / dir[i], min_t)\n",
    "            max_t = min((D[i][0] - p[i]) / dir[i], max_t)\n",
    "\n",
    "    borders = [p + dir * min_t, p + dir * max_t]\n",
    "    return borders"
   ],
   "metadata": {
    "collapsed": false,
    "pycharm": {
     "name": "#%%\n"
    }
   }
  }
 ],
 "metadata": {
  "kernelspec": {
   "display_name": "Python 3 (ipykernel)",
   "language": "python",
   "name": "python3"
  },
  "language_info": {
   "codemirror_mode": {
    "name": "ipython",
    "version": 3
   },
   "file_extension": ".py",
   "mimetype": "text/x-python",
   "name": "python",
   "nbconvert_exporter": "python",
   "pygments_lexer": "ipython3",
   "version": "3.9.15"
  }
 },
 "nbformat": 4,
 "nbformat_minor": 5
}