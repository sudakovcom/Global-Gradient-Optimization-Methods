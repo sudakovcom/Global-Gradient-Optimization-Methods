{
 "cells": [
  {
   "cell_type": "code",
   "execution_count": 27,
   "id": "531b6fe9",
   "metadata": {
    "pycharm": {
     "name": "#%%\n"
    }
   },
   "outputs": [],
   "source": [
    "import numpy as np\n",
    "import math\n",
    "from interval import imath\n",
    "from interval import fpu\n",
    "from interval import interval\n",
    "from functions import Functions\n",
    "\n",
    "# pip3 install pyinterval"
   ]
  },
  {
   "cell_type": "markdown",
   "metadata": {
    "collapsed": false,
    "pycharm": {
     "name": "#%% md\n"
    }
   },
   "source": [
    "### Вспомогательные функции"
   ]
  },
  {
   "cell_type": "code",
   "execution_count": 28,
   "metadata": {
    "collapsed": false,
    "pycharm": {
     "name": "#%%\n"
    }
   },
   "outputs": [],
   "source": [
    "# возвращает левую границу интервала\n",
    "def left(interval):\n",
    "    return fpu.max(interval)[0]\n",
    "\n",
    "# возвращает правую границу интервала\n",
    "def right(interval):\n",
    "    return fpu.max(interval)[1]\n",
    "\n",
    "# возвращает середину интервала\n",
    "def mid(interval):\n",
    "    return (fpu.max(interval)[0] + fpu.max(interval)[1]) / 2\n",
    "\n",
    "# возвращает евклидово расстояние между 2 векторами\n",
    "def norm(p_1, p_2):\n",
    "    return np.sqrt(np.sum(np.square(np.array(p_1) - np.array(p_2))))"
   ]
  },
  {
   "cell_type": "markdown",
   "id": "ef1bd5e3",
   "metadata": {
    "pycharm": {
     "name": "#%% md\n"
    }
   },
   "source": [
    "Напишем алгоритм, который будет находить экстремум функции вдоль заданного направления.\n",
    "Алгоритм будет основываться на методе \"Золотого сечения\" так как является наиболее эффективным среди основных методов одномерной оптимизации."
   ]
  },
  {
   "cell_type": "code",
   "execution_count": 29,
   "id": "d21d3f7e",
   "metadata": {
    "pycharm": {
     "name": "#%%\n"
    }
   },
   "outputs": [],
   "source": [
    "def GoldenRatio(func_index, index, a, b, p, e_d, e_f):  # f(function), i(index of direction),\n",
    "    # a(left border), b(right border), p(current point), e_d(error of d), e_f(error of f)\n",
    "    F = Functions[func_index * 2]\n",
    "    phi = (1 + math.sqrt(5)) / 2  # constant of golden ratio\n",
    "    x_1 = b - (b - a) / phi\n",
    "    x_2 = a + (b - a) / phi\n",
    "    p_1 = p.copy()  # current point\n",
    "    p_2 = p.copy()  # current point\n",
    "    p_1[index] = x_1\n",
    "    p_2[index] = x_2\n",
    "    f_1 = F(p_1)  # value in 1-st point\n",
    "    f_2 = F(p_2)  # value in 2-nd point\n",
    "    while (b - a > e_d) | (abs(f_1 - f_2) > e_f):  # termination criteria\n",
    "        if f_1 <= f_2:\n",
    "            b = x_2\n",
    "            x_2 = x_1\n",
    "            x_1 = b - (b - a) / phi\n",
    "\n",
    "            p_1[index] = x_1\n",
    "            p_2[index] = x_2\n",
    "\n",
    "            f_2 = f_1\n",
    "            f_1 = F(p_1)\n",
    "        else:\n",
    "            a = x_1\n",
    "            x_1 = x_2\n",
    "            x_2 = a + (b - a) / phi\n",
    "\n",
    "            p_1[index] = x_1\n",
    "            p_2[index] = x_2\n",
    "\n",
    "            f_1 = f_2\n",
    "            f_2 = F(p_2)\n",
    "\n",
    "    best_point = []\n",
    "    for i in range(len(p)):\n",
    "        best_point.append((p_1[i] + p_2[i]) / 2)\n",
    "\n",
    "    return best_point  # point of extremum with error e_d"
   ]
  },
  {
   "cell_type": "markdown",
   "metadata": {
    "collapsed": false,
    "pycharm": {
     "name": "#%% md\n"
    }
   },
   "source": [
    "Теперь реализуем алгоритм Moore-Skelboe"
   ]
  },
  {
   "cell_type": "code",
   "execution_count": 30,
   "metadata": {
    "collapsed": false,
    "pycharm": {
     "name": "#%%\n"
    }
   },
   "outputs": [],
   "source": [
    "def MooreSkelboe(func_index, index, a, b, p, e_d, e_f):  # func_index(number of function in list of functions), index(index of direction),\n",
    "    # a(left border), b(right border), p(current point), e_d(error of d), e_f(error of f)\n",
    "    F = Functions[func_index * 2 + 1]\n",
    "    interval_d = []\n",
    "    for i in range(len(p)):\n",
    "        interval_d.append(interval[p[i], p[i]])\n",
    "    interval_d[index] = interval[a, b]\n",
    "\n",
    "    interval_f = F(interval_d)\n",
    "    set_of_intervals = [[interval_d, interval_f]]\n",
    "    U = right(interval_f)\n",
    "    w_f = right(interval_f) - left(interval_f)\n",
    "    w_d = right(interval_d[index]) - left(interval_d[index])\n",
    "    best_interval = set_of_intervals[0]\n",
    "    while (w_d > e_d) | (w_f > e_f):\n",
    "        set_of_intervals.pop(0)\n",
    "        mid_p = mid(best_interval[0][index])\n",
    "        interval_1 = best_interval[0].copy()\n",
    "        interval_2 = best_interval[0].copy()\n",
    "        interval_1[index] = interval[left(best_interval[0][index]), mid_p]\n",
    "        interval_1_f = F(interval_1)\n",
    "        interval_2[index] = interval[mid_p, right(best_interval[0][index])]\n",
    "        interval_2_f = F(interval_2)\n",
    "        U = min(U, right(interval_1_f))\n",
    "        U = min(U, right(interval_2_f))\n",
    "\n",
    "        for i in range(len(set_of_intervals)):\n",
    "            if U < left(set_of_intervals[i][1]):\n",
    "                set_of_intervals = set_of_intervals[:i]\n",
    "                break\n",
    "\n",
    "        set_of_intervals.append([interval_1, interval_1_f])\n",
    "        set_of_intervals.append([interval_2, interval_2_f])\n",
    "\n",
    "        set_of_intervals.sort(key=lambda item: left(item[1]))\n",
    "        best_interval = set_of_intervals[0]\n",
    "        w_f = right(best_interval[1]) - left(best_interval[1])\n",
    "        w_d = right(best_interval[0][index]) - left(best_interval[0][index])\n",
    "\n",
    "    best_point = []\n",
    "    for i in range(len(p)):\n",
    "        best_point.append(mid(best_interval[0][i]))\n",
    "\n",
    "    return best_point"
   ]
  },
  {
   "cell_type": "markdown",
   "id": "6cbe0607",
   "metadata": {
    "pycharm": {
     "name": "#%% md\n"
    }
   },
   "source": [
    "Функция принимающая функцию, множество определения и начальную точку.\n",
    "Она раелизует метод наискорейшего спуска, последовательно ищет минимум вдоль направлений параллельных координатным осям и останавливается когда улучшение точности становится малым."
   ]
  },
  {
   "cell_type": "code",
   "execution_count": 31,
   "id": "357a84d7",
   "metadata": {
    "pycharm": {
     "name": "#%%\n"
    }
   },
   "outputs": [],
   "source": [
    "def FastSearch(func_index, D, p, e_d, e_f, method):  # F(function), D(set), p(start point), e(error)\n",
    "    while True:\n",
    "        p_0 = p\n",
    "        for index in range(len(p)):\n",
    "            p = method(func_index, index, D[index][0], D[index][1], p, e_d, e_f)\n",
    "        if (norm(p_0, p) < e_d) & (Functions[func_index * 2](p_0) - Functions[func_index * 2](p) < e_f):\n",
    "            break\n",
    "\n",
    "    best_point = p\n",
    "    best_value = Functions[func_index * 2](p)\n",
    "\n",
    "    return best_point, best_value"
   ]
  },
  {
   "cell_type": "markdown",
   "metadata": {
    "collapsed": false,
    "pycharm": {
     "name": "#%% md\n"
    }
   },
   "source": [
    "Функция для вывода результата работы программы"
   ]
  },
  {
   "cell_type": "code",
   "execution_count": 32,
   "metadata": {
    "collapsed": false,
    "pycharm": {
     "name": "#%%\n"
    }
   },
   "outputs": [],
   "source": [
    "def print_result(func_num, D, p, e_d, e_f):\n",
    "    p_1, v_1 = FastSearch(func_num, D, p, e_d, e_f, GoldenRatio)  # point of minimum\n",
    "    p_2, v_2 = FastSearch(func_num, D, p, e_d, e_f, MooreSkelboe)  # point of minimum\n",
    "    print(\"Результат тестирования:\")\n",
    "    print(\"Golden Ratio:\", v_1)\n",
    "    print(\"Moore-Skelboe:\", v_2)\n"
   ]
  },
  {
   "cell_type": "code",
   "execution_count": 33,
   "metadata": {
    "collapsed": false,
    "pycharm": {
     "name": "#%%\n"
    }
   },
   "outputs": [],
   "source": [
    "def print_result1(func_num, D, p, e_d, e_f):\n",
    "    p_1, v_1 = FastSearch(func_num, D, p, e_d, e_f, GoldenRatio)  # point of minimum\n",
    "    print(\"Результат тестирования:\")\n",
    "    print(\"Golden Ratio:\", v_1)"
   ]
  },
  {
   "cell_type": "code",
   "execution_count": 34,
   "metadata": {
    "collapsed": false,
    "pycharm": {
     "name": "#%%\n"
    }
   },
   "outputs": [],
   "source": [
    "def print_result2(func_num, D, p, e_d, e_f):\n",
    "    p_2, v_2 = FastSearch(func_num, D, p, e_d, e_f, MooreSkelboe)  # point of minimum\n",
    "    print(\"Результат тестирования:\")\n",
    "    print(\"Moore-Skelboe:\", v_2)"
   ]
  },
  {
   "cell_type": "code",
   "execution_count": 35,
   "metadata": {
    "collapsed": false,
    "pycharm": {
     "name": "#%%\n"
    }
   },
   "outputs": [],
   "source": [
    "# print_result(2, [[0, 4], [-2, 2]], [1, 1], 0.01, 0.01)  #считал минут 5"
   ]
  },
  {
   "cell_type": "markdown",
   "metadata": {
    "collapsed": false,
    "pycharm": {
     "name": "#%% md\n"
    }
   },
   "source": [
    "## Далее продемонстрируем работу методов на известных тестовых функциях глобальной оптимизации"
   ]
  },
  {
   "cell_type": "code",
   "execution_count": 36,
   "metadata": {
    "collapsed": false,
    "pycharm": {
     "name": "#%%\n"
    }
   },
   "outputs": [
    {
     "name": "stdout",
     "output_type": "stream",
     "text": [
      "Результат тестирования:\n",
      "Golden Ratio: 39.79857020564907\n"
     ]
    }
   ],
   "source": [
    "# Функция Растригина\n",
    "n = 40\n",
    "l = -10\n",
    "r = 10\n",
    "D = [[l, r]] * n\n",
    "p = [1] * n\n",
    "print_result1(5, D, p, 0.001, 0.001)"
   ]
  },
  {
   "cell_type": "code",
   "execution_count": 37,
   "metadata": {
    "collapsed": false,
    "pycharm": {
     "name": "#%%\n"
    }
   },
   "outputs": [
    {
     "name": "stdout",
     "output_type": "stream",
     "text": [
      "Результат тестирования:\n",
      "Golden Ratio: 0.33244082803407593\n"
     ]
    }
   ],
   "source": [
    "# Функция Розенброка\n",
    "n = 8\n",
    "l = -10\n",
    "r = 10\n",
    "D = [[l, r]] * n\n",
    "p = [2] * n\n",
    "print_result1(7, D, p, 0.001, 0.001)"
   ]
  },
  {
   "cell_type": "code",
   "execution_count": 12,
   "metadata": {
    "collapsed": false,
    "pycharm": {
     "name": "#%%\n"
    }
   },
   "outputs": [
    {
     "name": "stdout",
     "output_type": "stream",
     "text": [
      "Результат тестирования:\n",
      "Golden Ratio: -156.6646589598015\n",
      "Moore-Skelboe: -156.66466281009914\n"
     ]
    }
   ],
   "source": [
    "# Функция Стыбинского-Танга\n",
    "n = 4\n",
    "l = -10\n",
    "r = 10\n",
    "D = [[l, r]] * n\n",
    "p = [2] * n\n",
    "print_result(12, D, p, 0.001, 0.001)"
   ]
  },
  {
   "cell_type": "code",
   "execution_count": 26,
   "metadata": {
    "collapsed": false,
    "pycharm": {
     "name": "#%%\n"
    }
   },
   "outputs": [
    {
     "ename": "ValueError",
     "evalue": "min() arg is an empty sequence",
     "output_type": "error",
     "traceback": [
      "\u001b[0;31m---------------------------------------------------------------------------\u001b[0m",
      "\u001b[0;31mValueError\u001b[0m                                Traceback (most recent call last)",
      "Cell \u001b[0;32mIn [26], line 7\u001b[0m\n\u001b[1;32m      5\u001b[0m D \u001b[39m=\u001b[39m [[l, r]] \u001b[39m*\u001b[39m n\n\u001b[1;32m      6\u001b[0m p \u001b[39m=\u001b[39m [\u001b[39m2\u001b[39m] \u001b[39m*\u001b[39m n\n\u001b[0;32m----> 7\u001b[0m print_result2(\u001b[39m15\u001b[39;49m, D, p, \u001b[39m0.001\u001b[39;49m, \u001b[39m0.001\u001b[39;49m)\n",
      "Cell \u001b[0;32mIn [25], line 2\u001b[0m, in \u001b[0;36mprint_result2\u001b[0;34m(func_num, D, p, e_d, e_f)\u001b[0m\n\u001b[1;32m      1\u001b[0m \u001b[39mdef\u001b[39;00m \u001b[39mprint_result2\u001b[39m(func_num, D, p, e_d, e_f):\n\u001b[0;32m----> 2\u001b[0m     p_2, v_2 \u001b[39m=\u001b[39m FastSearch(func_num, D, p, e_d, e_f, MooreSkelboe)  \u001b[39m# point of minimum\u001b[39;00m\n\u001b[1;32m      3\u001b[0m     \u001b[39mprint\u001b[39m(\u001b[39m\"\u001b[39m\u001b[39mРезультат тестирования:\u001b[39m\u001b[39m\"\u001b[39m)\n\u001b[1;32m      4\u001b[0m     \u001b[39mprint\u001b[39m(\u001b[39m\"\u001b[39m\u001b[39mMoore-Skelboe:\u001b[39m\u001b[39m\"\u001b[39m, v_2)\n",
      "Cell \u001b[0;32mIn [22], line 5\u001b[0m, in \u001b[0;36mFastSearch\u001b[0;34m(func_index, D, p, e_d, e_f, method)\u001b[0m\n\u001b[1;32m      3\u001b[0m p_0 \u001b[39m=\u001b[39m p\n\u001b[1;32m      4\u001b[0m \u001b[39mfor\u001b[39;00m index \u001b[39min\u001b[39;00m \u001b[39mrange\u001b[39m(\u001b[39mlen\u001b[39m(p)):\n\u001b[0;32m----> 5\u001b[0m     p \u001b[39m=\u001b[39m method(func_index, index, D[index][\u001b[39m0\u001b[39;49m], D[index][\u001b[39m1\u001b[39;49m], p, e_d, e_f)\n\u001b[1;32m      6\u001b[0m \u001b[39mif\u001b[39;00m (norm(p_0, p) \u001b[39m<\u001b[39m e_d) \u001b[39m&\u001b[39m (Functions[func_index \u001b[39m*\u001b[39m \u001b[39m2\u001b[39m](p_0) \u001b[39m-\u001b[39m Functions[func_index \u001b[39m*\u001b[39m \u001b[39m2\u001b[39m](p) \u001b[39m<\u001b[39m e_f):\n\u001b[1;32m      7\u001b[0m     \u001b[39mbreak\u001b[39;00m\n",
      "Cell \u001b[0;32mIn [21], line 23\u001b[0m, in \u001b[0;36mMooreSkelboe\u001b[0;34m(func_index, index, a, b, p, e_d, e_f)\u001b[0m\n\u001b[1;32m     21\u001b[0m interval_1_f \u001b[39m=\u001b[39m F(interval_1)\n\u001b[1;32m     22\u001b[0m interval_2[index] \u001b[39m=\u001b[39m interval[mid_p, right(best_interval[\u001b[39m0\u001b[39m][index])]\n\u001b[0;32m---> 23\u001b[0m interval_2_f \u001b[39m=\u001b[39m F(interval_2)\n\u001b[1;32m     24\u001b[0m U \u001b[39m=\u001b[39m \u001b[39mmin\u001b[39m(U, right(interval_1_f))\n\u001b[1;32m     25\u001b[0m U \u001b[39m=\u001b[39m \u001b[39mmin\u001b[39m(U, right(interval_2_f))\n",
      "File \u001b[0;32m~/PycharmProjects/global-optimization/functions.py:209\u001b[0m, in \u001b[0;36mF_15_i\u001b[0;34m(x)\u001b[0m\n\u001b[1;32m    206\u001b[0m     val_1 \u001b[39m+\u001b[39m\u001b[39m=\u001b[39m x[i] \u001b[39m*\u001b[39m\u001b[39m*\u001b[39m \u001b[39m2\u001b[39m\n\u001b[1;32m    207\u001b[0m     val_2 \u001b[39m+\u001b[39m\u001b[39m=\u001b[39m imath\u001b[39m.\u001b[39mcos(\u001b[39m2\u001b[39m \u001b[39m*\u001b[39m math\u001b[39m.\u001b[39mpi \u001b[39m*\u001b[39m x[i])\n\u001b[0;32m--> 209\u001b[0m \u001b[39mreturn\u001b[39;00m \u001b[39m20\u001b[39m \u001b[39m+\u001b[39m math\u001b[39m.\u001b[39me \u001b[39m-\u001b[39m \u001b[39m20\u001b[39m \u001b[39m*\u001b[39m imath\u001b[39m.\u001b[39mexp(\u001b[39m-\u001b[39m\u001b[39m0.2\u001b[39m \u001b[39m*\u001b[39m imath\u001b[39m.\u001b[39;49msqrt(val_1 \u001b[39m/\u001b[39;49m n)) \u001b[39m-\u001b[39m imath\u001b[39m.\u001b[39mexp(val_2 \u001b[39m/\u001b[39m n)\n",
      "File \u001b[0;32m/opt/homebrew/lib/python3.10/site-packages/interval/imath.py:92\u001b[0m, in \u001b[0;36msqrt\u001b[0;34m(x)\u001b[0m\n\u001b[1;32m     90\u001b[0m \u001b[39mdef\u001b[39;00m \u001b[39msqrt\u001b[39m(x):\n\u001b[1;32m     91\u001b[0m     \u001b[39m\"\u001b[39m\u001b[39mSquare root.\u001b[39m\u001b[39m\"\u001b[39m\n\u001b[0;32m---> 92\u001b[0m     \u001b[39mreturn\u001b[39;00m interval\u001b[39m.\u001b[39;49munion(\n\u001b[1;32m     93\u001b[0m         interval\u001b[39m.\u001b[39;49mhull(\n\u001b[1;32m     94\u001b[0m             exp(log(e) \u001b[39m/\u001b[39;49m \u001b[39m2\u001b[39;49m)\u001b[39m.\u001b[39;49mnewton(\u001b[39mlambda\u001b[39;49;00m z: z \u001b[39m*\u001b[39;49m\u001b[39m*\u001b[39;49m \u001b[39m2\u001b[39;49m \u001b[39m-\u001b[39;49m e, \u001b[39mlambda\u001b[39;49;00m z: \u001b[39m2\u001b[39;49m \u001b[39m*\u001b[39;49m z)\n\u001b[1;32m     95\u001b[0m             \u001b[39mfor\u001b[39;49;00m e \u001b[39min\u001b[39;49;00m c\u001b[39m.\u001b[39;49mextrema\u001b[39m.\u001b[39;49mcomponents)\n\u001b[1;32m     96\u001b[0m         \u001b[39mfor\u001b[39;49;00m c \u001b[39min\u001b[39;49;00m (x \u001b[39m&\u001b[39;49m interval[\u001b[39m0\u001b[39;49m, fpu\u001b[39m.\u001b[39;49minfinity])\u001b[39m.\u001b[39;49mcomponents)\n",
      "File \u001b[0;32m/opt/homebrew/lib/python3.10/site-packages/interval/__init__.py:185\u001b[0m, in \u001b[0;36minterval.union\u001b[0;34m(cls, intervals)\u001b[0m\n\u001b[1;32m    172\u001b[0m \u001b[39m@classmethod\u001b[39m\n\u001b[1;32m    173\u001b[0m \u001b[39mdef\u001b[39;00m \u001b[39munion\u001b[39m(\u001b[39mcls\u001b[39m, intervals):\n\u001b[1;32m    174\u001b[0m     \u001b[39m\"\"\"Return the union of the specified intervals.\u001b[39;00m\n\u001b[1;32m    175\u001b[0m \n\u001b[1;32m    176\u001b[0m \u001b[39m    This class method is equivalent to the repeated use of the | operator.\u001b[39;00m\n\u001b[0;32m   (...)\u001b[0m\n\u001b[1;32m    183\u001b[0m \n\u001b[1;32m    184\u001b[0m \u001b[39m    \"\"\"\u001b[39;00m\n\u001b[0;32m--> 185\u001b[0m     \u001b[39mreturn\u001b[39;00m \u001b[39mcls\u001b[39;49m\u001b[39m.\u001b[39;49m_canonical(c \u001b[39mfor\u001b[39;49;00m i \u001b[39min\u001b[39;49;00m intervals \u001b[39mfor\u001b[39;49;00m c \u001b[39min\u001b[39;49;00m i)\n",
      "File \u001b[0;32m/opt/homebrew/lib/python3.10/site-packages/interval/__init__.py:162\u001b[0m, in \u001b[0;36minterval._canonical\u001b[0;34m(cls, components)\u001b[0m\n\u001b[1;32m    159\u001b[0m \u001b[39m@classmethod\u001b[39m\n\u001b[1;32m    160\u001b[0m \u001b[39mdef\u001b[39;00m \u001b[39m_canonical\u001b[39m(\u001b[39mcls\u001b[39m, components):\n\u001b[1;32m    161\u001b[0m     \u001b[39mfrom\u001b[39;00m \u001b[39moperator\u001b[39;00m \u001b[39mimport\u001b[39;00m itemgetter\n\u001b[0;32m--> 162\u001b[0m     components \u001b[39m=\u001b[39m [c \u001b[39mfor\u001b[39;00m c \u001b[39min\u001b[39;00m components \u001b[39mif\u001b[39;00m c\u001b[39m.\u001b[39minf \u001b[39m<\u001b[39m\u001b[39m=\u001b[39m c\u001b[39m.\u001b[39msup]\n\u001b[1;32m    163\u001b[0m     components\u001b[39m.\u001b[39msort(key\u001b[39m=\u001b[39mitemgetter(\u001b[39m0\u001b[39m))\n\u001b[1;32m    164\u001b[0m     l \u001b[39m=\u001b[39m []\n",
      "File \u001b[0;32m/opt/homebrew/lib/python3.10/site-packages/interval/__init__.py:162\u001b[0m, in \u001b[0;36m<listcomp>\u001b[0;34m(.0)\u001b[0m\n\u001b[1;32m    159\u001b[0m \u001b[39m@classmethod\u001b[39m\n\u001b[1;32m    160\u001b[0m \u001b[39mdef\u001b[39;00m \u001b[39m_canonical\u001b[39m(\u001b[39mcls\u001b[39m, components):\n\u001b[1;32m    161\u001b[0m     \u001b[39mfrom\u001b[39;00m \u001b[39moperator\u001b[39;00m \u001b[39mimport\u001b[39;00m itemgetter\n\u001b[0;32m--> 162\u001b[0m     components \u001b[39m=\u001b[39m [c \u001b[39mfor\u001b[39;00m c \u001b[39min\u001b[39;00m components \u001b[39mif\u001b[39;00m c\u001b[39m.\u001b[39minf \u001b[39m<\u001b[39m\u001b[39m=\u001b[39m c\u001b[39m.\u001b[39msup]\n\u001b[1;32m    163\u001b[0m     components\u001b[39m.\u001b[39msort(key\u001b[39m=\u001b[39mitemgetter(\u001b[39m0\u001b[39m))\n\u001b[1;32m    164\u001b[0m     l \u001b[39m=\u001b[39m []\n",
      "File \u001b[0;32m/opt/homebrew/lib/python3.10/site-packages/interval/__init__.py:185\u001b[0m, in \u001b[0;36m<genexpr>\u001b[0;34m(.0)\u001b[0m\n\u001b[1;32m    172\u001b[0m \u001b[39m@classmethod\u001b[39m\n\u001b[1;32m    173\u001b[0m \u001b[39mdef\u001b[39;00m \u001b[39munion\u001b[39m(\u001b[39mcls\u001b[39m, intervals):\n\u001b[1;32m    174\u001b[0m     \u001b[39m\"\"\"Return the union of the specified intervals.\u001b[39;00m\n\u001b[1;32m    175\u001b[0m \n\u001b[1;32m    176\u001b[0m \u001b[39m    This class method is equivalent to the repeated use of the | operator.\u001b[39;00m\n\u001b[0;32m   (...)\u001b[0m\n\u001b[1;32m    183\u001b[0m \n\u001b[1;32m    184\u001b[0m \u001b[39m    \"\"\"\u001b[39;00m\n\u001b[0;32m--> 185\u001b[0m     \u001b[39mreturn\u001b[39;00m \u001b[39mcls\u001b[39m\u001b[39m.\u001b[39m_canonical(c \u001b[39mfor\u001b[39;00m i \u001b[39min\u001b[39;00m intervals \u001b[39mfor\u001b[39;00m c \u001b[39min\u001b[39;00m i)\n",
      "File \u001b[0;32m/opt/homebrew/lib/python3.10/site-packages/interval/imath.py:93\u001b[0m, in \u001b[0;36m<genexpr>\u001b[0;34m(.0)\u001b[0m\n\u001b[1;32m     90\u001b[0m \u001b[39mdef\u001b[39;00m \u001b[39msqrt\u001b[39m(x):\n\u001b[1;32m     91\u001b[0m     \u001b[39m\"\u001b[39m\u001b[39mSquare root.\u001b[39m\u001b[39m\"\u001b[39m\n\u001b[1;32m     92\u001b[0m     \u001b[39mreturn\u001b[39;00m interval\u001b[39m.\u001b[39munion(\n\u001b[0;32m---> 93\u001b[0m         interval\u001b[39m.\u001b[39;49mhull(\n\u001b[1;32m     94\u001b[0m             exp(log(e) \u001b[39m/\u001b[39;49m \u001b[39m2\u001b[39;49m)\u001b[39m.\u001b[39;49mnewton(\u001b[39mlambda\u001b[39;49;00m z: z \u001b[39m*\u001b[39;49m\u001b[39m*\u001b[39;49m \u001b[39m2\u001b[39;49m \u001b[39m-\u001b[39;49m e, \u001b[39mlambda\u001b[39;49;00m z: \u001b[39m2\u001b[39;49m \u001b[39m*\u001b[39;49m z)\n\u001b[1;32m     95\u001b[0m             \u001b[39mfor\u001b[39;49;00m e \u001b[39min\u001b[39;49;00m c\u001b[39m.\u001b[39;49mextrema\u001b[39m.\u001b[39;49mcomponents)\n\u001b[1;32m     96\u001b[0m         \u001b[39mfor\u001b[39;00m c \u001b[39min\u001b[39;00m (x \u001b[39m&\u001b[39m interval[\u001b[39m0\u001b[39m, fpu\u001b[39m.\u001b[39minfinity])\u001b[39m.\u001b[39mcomponents)\n",
      "File \u001b[0;32m/opt/homebrew/lib/python3.10/site-packages/interval/__init__.py:202\u001b[0m, in \u001b[0;36minterval.hull\u001b[0;34m(cls, intervals)\u001b[0m\n\u001b[1;32m    189\u001b[0m \u001b[39m\"\"\"Return the hull of the specified intervals.\u001b[39;00m\n\u001b[1;32m    190\u001b[0m \n\u001b[1;32m    191\u001b[0m \u001b[39mThe hull of a set of intervals is the smallest connected\u001b[39;00m\n\u001b[0;32m   (...)\u001b[0m\n\u001b[1;32m    199\u001b[0m \n\u001b[1;32m    200\u001b[0m \u001b[39m\"\"\"\u001b[39;00m\n\u001b[1;32m    201\u001b[0m components \u001b[39m=\u001b[39m [c \u001b[39mfor\u001b[39;00m i \u001b[39min\u001b[39;00m intervals \u001b[39mfor\u001b[39;00m c \u001b[39min\u001b[39;00m i]\n\u001b[0;32m--> 202\u001b[0m \u001b[39mreturn\u001b[39;00m \u001b[39mcls\u001b[39m\u001b[39m.\u001b[39mnew((\u001b[39mcls\u001b[39m\u001b[39m.\u001b[39mComponent(fpu\u001b[39m.\u001b[39;49mmin(c\u001b[39m.\u001b[39;49minf \u001b[39mfor\u001b[39;49;00m c \u001b[39min\u001b[39;49;00m components), fpu\u001b[39m.\u001b[39mmax(c\u001b[39m.\u001b[39msup \u001b[39mfor\u001b[39;00m c \u001b[39min\u001b[39;00m components)),))\n",
      "File \u001b[0;32m/opt/homebrew/lib/python3.10/site-packages/interval/fpu.py:132\u001b[0m, in \u001b[0;36mmin\u001b[0;34m(l)\u001b[0m\n\u001b[1;32m    130\u001b[0m \u001b[39m\"\u001b[39m\u001b[39mReturn the minimum of the elements in l, or nan if any element is nan.\u001b[39m\u001b[39m\"\u001b[39m\n\u001b[1;32m    131\u001b[0m \u001b[39mtry\u001b[39;00m:\n\u001b[0;32m--> 132\u001b[0m     \u001b[39mreturn\u001b[39;00m _min(ensure_nonan(x) \u001b[39mfor\u001b[39;49;00m x \u001b[39min\u001b[39;49;00m l)\n\u001b[1;32m    133\u001b[0m \u001b[39mexcept\u001b[39;00m NanException:\n\u001b[1;32m    134\u001b[0m     \u001b[39mreturn\u001b[39;00m nan\n",
      "\u001b[0;31mValueError\u001b[0m: min() arg is an empty sequence"
     ]
    }
   ],
   "source": [
    "# Функция Экли\n",
    "n = 5\n",
    "l = -10\n",
    "r = 10\n",
    "D = [[l, r]] * n\n",
    "p = [2] * n\n",
    "print_result2(15, D, p, 0.001, 0.001)"
   ]
  },
  {
   "cell_type": "code",
   "execution_count": 31,
   "metadata": {
    "collapsed": false,
    "pycharm": {
     "name": "#%%\n"
    }
   },
   "outputs": [
    {
     "name": "stdout",
     "output_type": "stream",
     "text": [
      "Результат тестирования:\n",
      "Golden Ratio: 0.009864698515380743\n"
     ]
    }
   ],
   "source": [
    "# Функция Гриванка\n",
    "n = 5\n",
    "l = -10\n",
    "r = 10\n",
    "D = [[l, r]] * n\n",
    "p = [2] * n\n",
    "print_result1(16, D, p, 0.001, 0.001)"
   ]
  },
  {
   "cell_type": "code",
   "execution_count": 32,
   "metadata": {
    "collapsed": false,
    "pycharm": {
     "name": "#%%\n"
    }
   },
   "outputs": [
    {
     "name": "stdout",
     "output_type": "stream",
     "text": [
      "Результат тестирования:\n",
      "Moore-Skelboe: 0.0007449817996270092\n"
     ]
    }
   ],
   "source": [
    "# Функция Растригина новгородская\n",
    "n = 5\n",
    "l = -10\n",
    "r = 10\n",
    "D = [[l, r]] * n\n",
    "p = [2] * n\n",
    "print_result2(17, D, p, 0.001, 0.001)"
   ]
  },
  {
   "cell_type": "code",
   "execution_count": 33,
   "metadata": {
    "collapsed": false,
    "pycharm": {
     "name": "#%%\n"
    }
   },
   "outputs": [
    {
     "name": "stdout",
     "output_type": "stream",
     "text": [
      "Результат тестирования:\n",
      "Golden Ratio: 236.8766946858181\n"
     ]
    }
   ],
   "source": [
    "# Функция Швефеля\n",
    "n = 2\n",
    "l = -500\n",
    "r = 500\n",
    "D = [[l, r]] * n\n",
    "p = [2] * n\n",
    "print_result1(18, D, p, 0.001, 0.001)"
   ]
  },
  {
   "cell_type": "markdown",
   "metadata": {
    "collapsed": false,
    "pycharm": {
     "name": "#%% md\n"
    }
   },
   "source": [
    "### Реализуем теперь градиентные алгоритмы"
   ]
  },
  {
   "cell_type": "code",
   "execution_count": 34,
   "metadata": {
    "collapsed": false,
    "pycharm": {
     "name": "#%%\n"
    }
   },
   "outputs": [],
   "source": [
    "def Gradient(D, p, f, step):\n",
    "    gradient = np.array([None] * len(p))\n",
    "    for i in range(len(p)):\n",
    "        p_ = p.copy()\n",
    "        p_[i] += step\n",
    "        gradient[i] = (f(p_) - f(p)) / step\n",
    "        if (abs(p[i] - D[i][0]) < step) & (p[i] < 0):\n",
    "            p[i] = 0\n",
    "        if (abs(p[i] - D[i][1]) < step) & (p[i] > 0):\n",
    "            p[i] = 0\n",
    "    return gradient"
   ]
  },
  {
   "cell_type": "code",
   "execution_count": 35,
   "metadata": {
    "collapsed": false,
    "pycharm": {
     "name": "#%%\n"
    }
   },
   "outputs": [],
   "source": [
    "def FastSearchG(func_index, D, p, e_d, e_f, method):  # F(function), D(set), p(start point), e(error)\n",
    "    F = Functions[func_index * 2]\n",
    "    gradient = Gradient(D, p, F, e_d)\n",
    "    while np.linalg.norm(gradient) > e_f:\n",
    "        p_0 = p\n",
    "        p = method(func_index, gradient, D, p, e_d, e_f)\n",
    "        gradient = Gradient(D, p, F, e_d)\n",
    "        if norm(p, p_0) < e_d:\n",
    "            break\n",
    "\n",
    "    best_point = p\n",
    "    best_value = Functions[func_index * 2](p)\n",
    "\n",
    "    return best_point, best_value"
   ]
  },
  {
   "cell_type": "code",
   "execution_count": 36,
   "metadata": {
    "collapsed": false,
    "pycharm": {
     "name": "#%%\n"
    }
   },
   "outputs": [],
   "source": [
    "def Borders(p, gradient, D):\n",
    "    max_t = math.inf\n",
    "    min_t = -math.inf\n",
    "    dir = gradient / np.linalg.norm(gradient)\n",
    "    for i in range(len(p)):\n",
    "        if dir[i] > 0:\n",
    "            max_t = min((D[i][1] - p[i]) / dir[i], max_t)\n",
    "            min_t = max((D[i][0] - p[i]) / dir[i], min_t)\n",
    "        elif dir[i] < 0:\n",
    "            min_t = max((D[i][1] - p[i]) / dir[i], min_t)\n",
    "            max_t = min((D[i][0] - p[i]) / dir[i], max_t)\n",
    "\n",
    "    borders = [p + dir * min_t, p + dir * max_t]\n",
    "    return borders"
   ]
  },
  {
   "cell_type": "code",
   "execution_count": 37,
   "metadata": {
    "collapsed": false,
    "pycharm": {
     "name": "#%%\n"
    }
   },
   "outputs": [],
   "source": [
    "def GoldenRatioG(func_index, gradient, D, p, e_d, e_f):  # f(function), i(index of direction),\n",
    "    # a(left border), b(right border), p(current point), e_d(error of d), e_f(error of f)\n",
    "    F = Functions[func_index * 2]\n",
    "    phi = (1 + math.sqrt(5)) / 2  # constant of golden ratio\n",
    "    a = Borders(p, gradient, D)[0]\n",
    "    b = Borders(p, gradient, D)[1]\n",
    "    x_1 = b - (b - a) / phi\n",
    "    x_2 = a + (b - a) / phi\n",
    "    p_1 = x_1\n",
    "    p_2 = x_2\n",
    "    f_1 = F(p_1)  # value in 1-st point\n",
    "    f_2 = F(p_2)  # value in 2-nd point\n",
    "    while (norm(b, a) > e_d) | (abs(f_1 - f_2) > e_f):  # termination criteria\n",
    "        if f_1 <= f_2:\n",
    "            b = x_2\n",
    "            x_2 = x_1\n",
    "            x_1 = b - (b - a) / phi\n",
    "\n",
    "            p_1 = x_1\n",
    "            p_2 = x_2\n",
    "\n",
    "            f_2 = f_1\n",
    "            f_1 = F(p_1)\n",
    "        else:\n",
    "            a = x_1\n",
    "            x_1 = x_2\n",
    "            x_2 = a + (b - a) / phi\n",
    "\n",
    "            p_1 = x_1\n",
    "            p_2 = x_2\n",
    "\n",
    "            f_1 = f_2\n",
    "            f_2 = F(p_2)\n",
    "\n",
    "    best_point = []\n",
    "    for i in range(len(p)):\n",
    "        best_point.append((p_1[i] + p_2[i]) / 2)\n",
    "\n",
    "    return best_point  # point of extremum with error e_d"
   ]
  },
  {
   "cell_type": "code",
   "execution_count": 38,
   "metadata": {
    "collapsed": false,
    "pycharm": {
     "name": "#%%\n"
    }
   },
   "outputs": [
    {
     "name": "stdout",
     "output_type": "stream",
     "text": [
      "([-0.00999749259584825, 0], 3.000049974929102)\n"
     ]
    }
   ],
   "source": [
    "print(FastSearchG(0, [[-10,10], [-10, 10]], [1, 1], 0.01, 0.01, GoldenRatioG))"
   ]
  },
  {
   "cell_type": "code",
   "execution_count": 39,
   "metadata": {
    "collapsed": false,
    "pycharm": {
     "name": "#%%\n"
    }
   },
   "outputs": [
    {
     "name": "stdout",
     "output_type": "stream",
     "text": [
      "([-0.0010696331036035857, -0.0010696331036035857], 0.004339463348134842)\n"
     ]
    }
   ],
   "source": [
    "print(FastSearchG(1, [[-10,10], [-10, 10]], [1, 1], 0.01, 0.01, GoldenRatioG))"
   ]
  },
  {
   "cell_type": "code",
   "execution_count": 40,
   "metadata": {
    "collapsed": false,
    "pycharm": {
     "name": "#%%\n"
    }
   },
   "outputs": [
    {
     "name": "stdout",
     "output_type": "stream",
     "text": [
      "([-0.09769963899210414, 3.184885152583509], 3.683754359610854)\n"
     ]
    }
   ],
   "source": [
    "print(FastSearchG(2, [[-10,10], [-10, 10]], [1, 1], 0.01, 0.01, GoldenRatioG))"
   ]
  },
  {
   "cell_type": "code",
   "execution_count": 41,
   "metadata": {
    "collapsed": false,
    "pycharm": {
     "name": "#%%\n"
    }
   },
   "outputs": [
    {
     "name": "stdout",
     "output_type": "stream",
     "text": [
      "([1.0005450029007914, 2.9988407577841043], 3.1500304218649655e-06)\n"
     ]
    }
   ],
   "source": [
    "print(FastSearchG(3, [[-10,10], [-10, 10]], [1, 1], 0.01, 0.01, GoldenRatioG))"
   ]
  }
 ],
 "metadata": {
  "kernelspec": {
   "display_name": "Python 3.10.9 64-bit",
   "language": "python",
   "name": "python3"
  },
  "language_info": {
   "codemirror_mode": {
    "name": "ipython",
    "version": 3
   },
   "file_extension": ".py",
   "mimetype": "text/x-python",
   "name": "python",
   "nbconvert_exporter": "python",
   "pygments_lexer": "ipython3",
   "version": "3.10.9"
  },
  "vscode": {
   "interpreter": {
    "hash": "b0fa6594d8f4cbf19f97940f81e996739fb7646882a419484c72d19e05852a7e"
   }
  }
 },
 "nbformat": 4,
 "nbformat_minor": 5
}
