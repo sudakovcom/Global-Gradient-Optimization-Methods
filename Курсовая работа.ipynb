{
 "cells": [
  {
   "cell_type": "code",
   "execution_count": 24,
   "id": "531b6fe9",
   "metadata": {
    "pycharm": {
     "name": "#%%\n"
    }
   },
   "outputs": [],
   "source": [
    "import numpy as np\n",
    "import math\n",
    "from interval import imath\n",
    "from interval import fpu\n",
    "from interval import interval"
   ]
  },
  {
   "cell_type": "markdown",
   "id": "ef1bd5e3",
   "metadata": {
    "pycharm": {
     "name": "#%% md\n"
    }
   },
   "source": [
    "Напишем алгоритм, который будет находить экстремум функции вдоль заданного направления.\n",
    "Алгоритм будет основываться на методе \"Золотого сечения\" так как является наиболее эффективным по стравнению с основными методами одномерной оптимизации."
   ]
  },
  {
   "cell_type": "code",
   "execution_count": 40,
   "id": "d21d3f7e",
   "metadata": {
    "pycharm": {
     "name": "#%%\n"
    }
   },
   "outputs": [],
   "source": [
    "def argmin(f, index, a, b, p, e):  #f(function), i(index of direction), a(left border), b(right border), p(current point), e(error)\n",
    "    phi = (1 + math.sqrt(5)) / 2  #constant of golden ratio\n",
    "    x_1 = b - (b - a) / phi\n",
    "    x_2 = a + (b - a) / phi\n",
    "    p_1 = p.copy()  #current point\n",
    "    p_2 = p.copy()  #current point\n",
    "    p_1[index] = x_1\n",
    "    p_2[index] = x_2\n",
    "    f_1 = f(p_1)  #value in 1-st point\n",
    "    f_2 = f(p_2)  #value in 2-nd point\n",
    "    while b - a > e:  #termination criteria\n",
    "        if f_1 <= f_2:\n",
    "            b = x_2\n",
    "            x_2 = x_1\n",
    "            x_1 = b - (b - a) / phi\n",
    "\n",
    "            p_1[index] = x_1\n",
    "            p_2[index] = x_2\n",
    "\n",
    "            f_2 = f_1\n",
    "            f_1 = f(p_1)\n",
    "        else:\n",
    "            a = x_1\n",
    "            x_1 = x_2\n",
    "            x_2 = a + (b - a) / phi\n",
    "\n",
    "            p_1[index] = x_1\n",
    "            p_2[index] = x_2\n",
    "\n",
    "            f_1 = f_2\n",
    "            f_2 = f(p_2)\n",
    "    mid = p_1\n",
    "    for i in range(len(mid)):\n",
    "        mid[i] = (p_1[i] + p_2[i]) / 2\n",
    "    return mid  #point of extremum with error e"
   ]
  },
  {
   "cell_type": "markdown",
   "source": [
    "Теперь реализуем алгоритм Moore-Skelboe"
   ],
   "metadata": {
    "collapsed": false,
    "pycharm": {
     "name": "#%% md\n"
    }
   }
  },
  {
   "cell_type": "code",
   "execution_count": 112,
   "outputs": [],
   "source": [
    "def Moore_Skelboe(f, index, a, b, p, e):\n",
    "    interval_d = [None] * len(p)\n",
    "    for i in range(len(p)):\n",
    "        interval_d[i] = interval[p[i], p[i]]\n",
    "    interval_d[index] = interval[a, b]\n",
    "\n",
    "    interval_e = f(interval_d)\n",
    "    list_of_intervals = [[interval_d, interval_e]]\n",
    "    U = fpu.max(interval_e)[1]\n",
    "    w = len(interval_e)\n",
    "    best_interval = list_of_intervals[0]\n",
    "    while w > e:\n",
    "        list_of_intervals.pop(0)\n",
    "        mid = (fpu.max(best_interval[0][index])[0] + fpu.max(best_interval[0][index])[1]) / 2\n",
    "        interval_1 = best_interval[0].copy()\n",
    "        interval_2 = best_interval[0].copy()\n",
    "        interval_1[index] = interval[fpu.max(best_interval[0][index])[0], mid]\n",
    "        interval_1e = f(interval_1)\n",
    "        interval_2[index] = interval[mid, fpu.max(best_interval[0][index])[1]]\n",
    "        interval_2e = f(interval_2)\n",
    "        U = min(U, fpu.max(interval_1e)[1])\n",
    "        U = min(U, fpu.max(interval_2e)[1])\n",
    "        list_of_intervals.append([interval_1, interval_1e])\n",
    "        list_of_intervals.append([interval_2, interval_2e])\n",
    "        for el in list_of_intervals:\n",
    "            if U < fpu.max(el[1])[0]:\n",
    "                list_of_intervals.remove(el)\n",
    "        list_of_intervals.sort(key=lambda item: fpu.max(item[1])[0])\n",
    "        best_interval = list_of_intervals[0]\n",
    "        w = fpu.max(best_interval[1])[1] - fpu.max(best_interval[1])[0]\n",
    "\n",
    "    point = [None] * len(p)\n",
    "    for i in range(len(p)):\n",
    "        point[i] = fpu.max(best_interval[0][i])[0]\n",
    "    return point"
   ],
   "metadata": {
    "collapsed": false,
    "pycharm": {
     "name": "#%%\n"
    }
   }
  },
  {
   "cell_type": "markdown",
   "id": "7111509c",
   "metadata": {
    "pycharm": {
     "name": "#%% md\n"
    }
   },
   "source": [
    "Функция вычисляющая евклидово расстояние между 2 точками (2,p норму)"
   ]
  },
  {
   "cell_type": "code",
   "execution_count": 113,
   "id": "7c0ce10a",
   "metadata": {
    "pycharm": {
     "name": "#%%\n"
    }
   },
   "outputs": [],
   "source": [
    "def r(p_1, p_2):\n",
    "    r_ = 0\n",
    "    for i in range(len(p_1)):\n",
    "        r_ += (p_1[i] - p_2[i]) ** 2\n",
    "    return math.sqrt(r_)"
   ]
  },
  {
   "cell_type": "markdown",
   "id": "6cbe0607",
   "metadata": {
    "pycharm": {
     "name": "#%% md\n"
    }
   },
   "source": [
    "Функция принимающая функцию, множество определения и начальную точку.\n",
    "Она раелизует метод наискорейшего спуска, последовательно ищет минимум вдоль направлений параллельных координатным осям и останавливается когда улучшение точности становится малым."
   ]
  },
  {
   "cell_type": "code",
   "execution_count": 114,
   "id": "357a84d7",
   "metadata": {
    "pycharm": {
     "name": "#%%\n"
    }
   },
   "outputs": [],
   "source": [
    "def fast_search(f, D, p, e, e_n, method):  #f(function), D(set), p(start point), e(error)\n",
    "    dimension = len(p)\n",
    "\n",
    "    while True:\n",
    "        p_0 = p\n",
    "        for i in range(dimension):\n",
    "            p = method(f, i, D[i][0], D[i][1], p, e)\n",
    "        if r(p_0, p) < e_n:\n",
    "            break\n",
    "    return p"
   ]
  },
  {
   "cell_type": "markdown",
   "id": "c9359b88",
   "metadata": {
    "pycharm": {
     "name": "#%% md\n"
    }
   },
   "source": [
    "Рассмотрим пример работы функции на примере:"
   ]
  },
  {
   "cell_type": "code",
   "execution_count": 115,
   "id": "2414155c",
   "metadata": {
    "pycharm": {
     "name": "#%%\n"
    }
   },
   "outputs": [
    {
     "name": "stdout",
     "output_type": "stream",
     "text": [
      "[-0.002800335820726037, -9.995468961462151]\n",
      "-21.977346018947962\n"
     ]
    }
   ],
   "source": [
    "def F(x):\n",
    "    return (x[0] ** 2) / 2 - (x[1] ** 2) / 4 + 3\n",
    "\n",
    "\n",
    "p = fast_search(F, [[-10, 10], [-10, 10]], [1, 1], 0.01, 0.001, argmin)  #point of minimum\n",
    "y = F(p)  #minimum value\n",
    "print(p)\n",
    "print(y)"
   ]
  },
  {
   "cell_type": "markdown",
   "id": "a84185f0",
   "metadata": {
    "pycharm": {
     "name": "#%% md\n"
    }
   },
   "source": [
    "Попробуем теперь применить тут алгоритм Moore-Skelboe для поиска минимума вдоль направления:"
   ]
  },
  {
   "cell_type": "code",
   "execution_count": 116,
   "outputs": [
    {
     "name": "stdout",
     "output_type": "stream",
     "text": [
      "[-0.078125, -10.0]\n",
      "-21.9969482421875\n"
     ]
    }
   ],
   "source": [
    "p = fast_search(F, [[-10, 10], [-10, 10]], [1, 1], 0.01, 0.001, Moore_Skelboe)  #point of minimum\n",
    "y = F(p)  #minimum value\n",
    "print(p)\n",
    "print(y)"
   ],
   "metadata": {
    "collapsed": false,
    "pycharm": {
     "name": "#%%\n"
    }
   }
  },
  {
   "cell_type": "markdown",
   "source": [
    "Приведем функции на которых можно протестировать работу алгоритмов"
   ],
   "metadata": {
    "collapsed": false,
    "pycharm": {
     "name": "#%% md\n"
    }
   }
  },
  {
   "cell_type": "code",
   "execution_count": 117,
   "outputs": [],
   "source": [
    "def print_result(F, D, p, e):\n",
    "    p_1 = fast_search(F, [[-10, 10], [-10, 10]], [5, 5], 0.0001, 0.0001, Moore_Skelboe)  #point of minimum\n",
    "    y_1 = F(p_1)  #minimum value\n",
    "\n",
    "    p_2 = fast_search(F, [[-10, 10], [-10, 10]], [5, 5], 0.0001, 0.0001, argmin)  #point of minimum\n",
    "    y_2 = F(p_2)  #minimum value\n",
    "\n",
    "    print(\"min of Moore-Skelboe:\", y_1, p_1)\n",
    "    print(\"min of Golden Ratio:\", y_2, p_2)\n"
   ],
   "metadata": {
    "collapsed": false,
    "pycharm": {
     "name": "#%%\n"
    }
   }
  },
  {
   "cell_type": "code",
   "execution_count": 118,
   "outputs": [
    {
     "name": "stdout",
     "output_type": "stream",
     "text": [
      "min of Moore-Skelboe: interval([0.00030548577621658524, 0.0003054857762272434]) [-7.62939453125e-05, -7.62939453125e-05]\n",
      "min of Golden Ratio: interval([5.629728137179768e-05, 5.629728138245582e-05]) [1.4071683972352783e-05, -1.4071683972688272e-05]\n"
     ]
    }
   ],
   "source": [
    "print_result(F_1, [[-10, 10], [-10, 10]], [1, 1], 0.0001)"
   ],
   "metadata": {
    "collapsed": false,
    "pycharm": {
     "name": "#%%\n"
    }
   }
  },
  {
   "cell_type": "code",
   "execution_count": 137,
   "outputs": [],
   "source": [
    "def F_1(x):\n",
    "    return -20 * imath.exp(-0.2 * imath.sqrt(0.5 * (x[0] * x[0] + x[1] * x[1]))) - imath.exp(\n",
    "        0.5 * (imath.cos(2 * math.pi * x[0]) + imath.cos(2 * math.pi * x[1]))) + math.exp(1) + 20\n",
    "\n",
    "\n",
    "def F_2(x):\n",
    "    return (1.5 - x[0] + x[0] * x[1]) * (1.5 - x[0] + x[0] * x[1]) + (2.25 - x[0] + x[0] * x[1] * x[1]) * (2.25 - x[0] + x[0] * x[1] * x[1]) + (\n",
    "            2.625 - x[0] + x[0] * x[1] * x[1] * x[1]) * (2.625 - x[0] + x[0] * x[1] * x[1] * x[1])\n",
    "\n",
    "\n",
    "def F_3(x):\n",
    "    return (x[0] + 2 * x[1] - 7) ** 2 + (2 * x[0] + x[1] - 5) ** 2\n",
    "\n",
    "\n",
    "def F_4(x):\n",
    "    return 0.26 * (x[0] ** 2 + x[1] ** 2) - 0.48 * x[0] * x[1]"
   ],
   "metadata": {
    "collapsed": false,
    "pycharm": {
     "name": "#%%\n"
    }
   }
  },
  {
   "cell_type": "code",
   "execution_count": 143,
   "outputs": [
    {
     "name": "stdout",
     "output_type": "stream",
     "text": [
      "min of Moore-Skelboe: 1.52587890625e-05 [0.01953125, 0.01953125]\n",
      "min of Golden Ratio: 2.4938395326222654e-09 [0.0002496917866401629, 0.0002496917866401629]\n",
      "1.52587890625e-05\n"
     ]
    }
   ],
   "source": [
    "# print_result(F_4, [[-10, 10], [-10, 10]], [1, 1], 0.01)\n",
    "\n",
    "p_1 = fast_search(F_4, [[-4, 4], [-4, 4]], [1, 1], 0.0001, 0.0001, Moore_Skelboe)  #point of minimum\n",
    "y_1 = F_4(p_1)  #minimum value\n",
    "\n",
    "p_2 = fast_search(F_4, [[-4, 4], [-4,4]], [1, 1], 0.0001, 0.0001, argmin)  #point of minimum\n",
    "y_2 = F_4(p_2)  #minimum value\n",
    "\n",
    "print(\"min of Moore-Skelboe:\", y_1, p_1)\n",
    "print(\"min of Golden Ratio:\", y_2, p_2)\n",
    "\n",
    "print(F_4([0.01953125, 0.01953125]))\n",
    "\n",
    "\n",
    "\n"
   ],
   "metadata": {
    "collapsed": false,
    "pycharm": {
     "name": "#%%\n"
    }
   }
  },
  {
   "cell_type": "code",
   "execution_count": null,
   "outputs": [],
   "source": [],
   "metadata": {
    "collapsed": false,
    "pycharm": {
     "name": "#%%\n"
    }
   }
  }
 ],
 "metadata": {
  "kernelspec": {
   "display_name": "Python 3 (ipykernel)",
   "language": "python",
   "name": "python3"
  },
  "language_info": {
   "codemirror_mode": {
    "name": "ipython",
    "version": 3
   },
   "file_extension": ".py",
   "mimetype": "text/x-python",
   "name": "python",
   "nbconvert_exporter": "python",
   "pygments_lexer": "ipython3",
   "version": "3.9.15"
  }
 },
 "nbformat": 4,
 "nbformat_minor": 5
}