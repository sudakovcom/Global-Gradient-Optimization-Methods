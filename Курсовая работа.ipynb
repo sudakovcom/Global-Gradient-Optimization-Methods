{
 "cells": [
  {
   "cell_type": "code",
   "execution_count": 24,
   "id": "531b6fe9",
   "metadata": {
    "pycharm": {
     "name": "#%%\n"
    }
   },
   "outputs": [],
   "source": [
    "import numpy as np\n",
    "import math\n",
    "from interval import imath\n",
    "from interval import fpu\n",
    "from interval import interval"
   ]
  },
  {
   "cell_type": "markdown",
   "id": "ef1bd5e3",
   "metadata": {
    "pycharm": {
     "name": "#%% md\n"
    }
   },
   "source": [
    "Напишем алгоритм, который будет находить экстремум функции вдоль заданного направления.\n",
    "Алгоритм будет основываться на методе \"Золотого сечения\" так как является наиболее эффективным по стравнению с основными методами одномерной оптимизации."
   ]
  },
  {
   "cell_type": "code",
   "execution_count": 25,
   "id": "d21d3f7e",
   "metadata": {
    "pycharm": {
     "name": "#%%\n"
    }
   },
   "outputs": [],
   "source": [
    "def argmin(f, index, a, b, p, e):  #f(function), i(index of direction), a(left border), b(right border), p(current point), e(error)\n",
    "    phi = (1 + math.sqrt(5)) / 2  #constant of golden ratio\n",
    "    x_1 = b - (b - a) / phi\n",
    "    x_2 = a + (b - a) / phi\n",
    "    p_1 = p.copy()  #current point\n",
    "    p_2 = p.copy()  #current point\n",
    "    p_1[index] = x_1\n",
    "    p_2[index] = x_2\n",
    "    f_1 = f(p_1)  #value in 1-st point\n",
    "    f_2 = f(p_2)  #value in 2-nd point\n",
    "    while b - a > e:  #termination criteria\n",
    "        if f_1 <= f_2:\n",
    "            b = x_2\n",
    "            x_2 = x_1\n",
    "            x_1 = b - (b - a) / phi\n",
    "\n",
    "            p_1[index] = x_1\n",
    "            p_2[index] = x_2\n",
    "\n",
    "            f_2 = f_1\n",
    "            f_1 = f(p_1)\n",
    "        else:\n",
    "            a = x_1\n",
    "            x_1 = x_2\n",
    "            x_2 = a + (b - a) / phi\n",
    "\n",
    "            p_1[index] = x_1\n",
    "            p_2[index] = x_2\n",
    "\n",
    "            f_1 = f_2\n",
    "            f_2 = f(p_2)\n",
    "    mid = p_1\n",
    "    for i in range(len(mid)):\n",
    "        mid[i] = (p_1[i] + p_2[i]) / 2\n",
    "    return mid  #point of extremum with error e"
   ]
  },
  {
   "cell_type": "markdown",
   "id": "7111509c",
   "metadata": {
    "pycharm": {
     "name": "#%% md\n"
    }
   },
   "source": [
    "Функция вычисляющая евклидово расстояние между 2 точками"
   ]
  },
  {
   "cell_type": "code",
   "execution_count": 26,
   "id": "7c0ce10a",
   "metadata": {
    "pycharm": {
     "name": "#%%\n"
    }
   },
   "outputs": [],
   "source": [
    "def r(p_1, p_2):\n",
    "    r_ = 0\n",
    "    for i in range(len(p_1)):\n",
    "        r_ += (p_1[i] - p_2[i]) ** 2\n",
    "    return math.sqrt(r_)"
   ]
  },
  {
   "cell_type": "markdown",
   "id": "6cbe0607",
   "metadata": {
    "pycharm": {
     "name": "#%% md\n"
    }
   },
   "source": [
    "Функция принимающая функцию, множество определения и начальную точку.\n",
    "Она раелизует метод наискорейшего спуска, последовательно ищет минимум вдоль направлений параллельных координатным осям и останавливается когда улучшение точности становится малым."
   ]
  },
  {
   "cell_type": "code",
   "execution_count": 35,
   "id": "357a84d7",
   "metadata": {
    "pycharm": {
     "name": "#%%\n"
    }
   },
   "outputs": [],
   "source": [
    "def fast_search(f, D, p, e, e_n, method):  #f(function), D(set), p(start point), e(error)\n",
    "    dimension = len(p)\n",
    "\n",
    "    while True:\n",
    "        p_0 = p\n",
    "        for i in range(dimension):\n",
    "            p = method(f, i, D[i][0], D[i][1], p, e)\n",
    "        if r(p_0, p) < e_n:\n",
    "            break\n",
    "    return p"
   ]
  },
  {
   "cell_type": "markdown",
   "id": "c9359b88",
   "metadata": {
    "pycharm": {
     "name": "#%% md\n"
    }
   },
   "source": [
    "Рассмотрим пример работы функции на примере:"
   ]
  },
  {
   "cell_type": "code",
   "execution_count": 36,
   "id": "2414155c",
   "metadata": {
    "pycharm": {
     "name": "#%%\n"
    }
   },
   "outputs": [
    {
     "name": "stdout",
     "output_type": "stream",
     "text": [
      "[-0.002800335820726037, -9.995468961462151]\n",
      "-21.977346018947962\n"
     ]
    }
   ],
   "source": [
    "def F(x):\n",
    "    return (x[0] ** 2) / 2 - (x[1] ** 2) / 4 + 3\n",
    "\n",
    "\n",
    "p = fast_search(F, [[-10, 10], [-10, 10]], [1, 1], 0.01, 0.001, argmin)  #point of minimum\n",
    "y = F(p)  #minimum value\n",
    "print(p)\n",
    "print(y)"
   ]
  },
  {
   "cell_type": "markdown",
   "id": "a84185f0",
   "metadata": {
    "pycharm": {
     "name": "#%% md\n"
    }
   },
   "source": [
    "Попробуем теперь применить тут алгоритм Moore-Skelboe для поиска минимума вдоль направления:"
   ]
  },
  {
   "cell_type": "code",
   "execution_count": 38,
   "id": "bbdd2a5a",
   "metadata": {
    "pycharm": {
     "name": "#%%\n"
    }
   },
   "outputs": [],
   "source": [
    "def Moore_Skelboe(f, index, a, b, p, e):\n",
    "    interval_d = [None] * len(p)\n",
    "    for i in range(len(p)):\n",
    "        interval_d[i] = interval[p[i], p[i]]\n",
    "    interval_d[index] = interval[a, b]\n",
    "\n",
    "    interval_e = f(interval_d)\n",
    "    list_of_intervals = [[interval_d, interval_e]]\n",
    "    U = fpu.max(interval_e)[1]\n",
    "    w = len(interval_e)\n",
    "    best_interval = list_of_intervals[0]\n",
    "    while w > e:\n",
    "        list_of_intervals.pop(0)\n",
    "        mid = (fpu.max(best_interval[0][index])[0] + fpu.max(best_interval[0][index])[1]) / 2\n",
    "        interval_1 = best_interval[0].copy()\n",
    "        interval_2 = best_interval[0].copy()\n",
    "        interval_1[index] = interval[fpu.max(best_interval[0][index])[0], mid]\n",
    "        interval_1e = f(interval_1)\n",
    "        interval_2[index] = interval[mid, fpu.max(best_interval[0][index])[1]]\n",
    "        interval_2e = f(interval_2)\n",
    "        U = min(U, fpu.max(interval_1e)[1])\n",
    "        U = min(U, fpu.max(interval_2e)[1])\n",
    "        list_of_intervals.append([interval_1, interval_1e])\n",
    "        list_of_intervals.append([interval_2, interval_2e])\n",
    "        for el in list_of_intervals:\n",
    "            if U < fpu.max(el[1])[0]:\n",
    "                list_of_intervals.remove(el)\n",
    "        list_of_intervals.sort(key=lambda item: fpu.max(item[1])[0])\n",
    "        best_interval = list_of_intervals[0]\n",
    "        w = fpu.max(best_interval[0][index])[1] - fpu.max(best_interval[0][index])[0]\n",
    "\n",
    "    point = [None] * len(p)\n",
    "    for i in range(len(p)):\n",
    "        point[i] = fpu.max(best_interval[0][i])[0]\n",
    "    return point"
   ]
  },
  {
   "cell_type": "code",
   "execution_count": 39,
   "id": "44ee11e8",
   "metadata": {
    "pycharm": {
     "name": "#%%\n"
    }
   },
   "outputs": [
    {
     "name": "stdout",
     "output_type": "stream",
     "text": [
      "[-0.0006103515625, -10.0]\n",
      "-21.999999813735485\n"
     ]
    }
   ],
   "source": [
    "p = fast_search(F, [[-10, 10], [-10, 10]], [1, 1], 0.001, 0.001, Moore_Skelboe)\n",
    "y = F(p)\n",
    "print(p)\n",
    "print(y)"
   ]
  },
  {
   "cell_type": "code",
   "execution_count": null,
   "id": "28fca2ed",
   "metadata": {
    "pycharm": {
     "name": "#%%\n"
    }
   },
   "outputs": [],
   "source": []
  }
 ],
 "metadata": {
  "kernelspec": {
   "display_name": "Python 3 (ipykernel)",
   "language": "python",
   "name": "python3"
  },
  "language_info": {
   "codemirror_mode": {
    "name": "ipython",
    "version": 3
   },
   "file_extension": ".py",
   "mimetype": "text/x-python",
   "name": "python",
   "nbconvert_exporter": "python",
   "pygments_lexer": "ipython3",
   "version": "3.9.15"
  }
 },
 "nbformat": 4,
 "nbformat_minor": 5
}