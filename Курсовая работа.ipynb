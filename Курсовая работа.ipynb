{
 "cells": [
  {
   "cell_type": "code",
   "execution_count": 1,
   "id": "531b6fe9",
   "metadata": {
    "pycharm": {
     "name": "#%%\n"
    }
   },
   "outputs": [],
   "source": [
    "import numpy as np\n",
    "import math\n",
    "from sympy import *\n",
    "from sympy.abc import x\n",
    "from interval import imath\n",
    "from interval import fpu\n",
    "from interval import interval"
   ]
  },
  {
   "cell_type": "markdown",
   "id": "ef1bd5e3",
   "metadata": {
    "pycharm": {
     "name": "#%% md\n"
    }
   },
   "source": [
    "Напишем алгоритм, который будет находить экстремум функции вдоль заданного направления.\n",
    "Алгоритм будет основываться на методе \"Золотого сечения\" так как является наиболее эффективным по стравнению с основными методами одномерной оптимизации."
   ]
  },
  {
   "cell_type": "code",
   "execution_count": 2,
   "id": "d21d3f7e",
   "metadata": {
    "pycharm": {
     "name": "#%%\n"
    }
   },
   "outputs": [],
   "source": [
    "def argmin(f, i, D, p):\n",
    "    d = D[i]\n",
    "    a = d[0]\n",
    "    b = d[1]\n",
    "    phi = (1 + math.sqrt(5)) / 2\n",
    "    x_1 = b - (b - a) / phi\n",
    "    x_2 = a + (b - a) / phi\n",
    "    p_1 = p.copy()\n",
    "    p_2 = p.copy()\n",
    "    p_1[i] = x_1\n",
    "    p_2[i] = x_2\n",
    "    f_1 = f(p_1)\n",
    "    f_2 = f(p_2)\n",
    "    while b - a > 0.001:\n",
    "        if f_1 <= f_2:\n",
    "            b = x_2\n",
    "            x_2 = x_1\n",
    "            x_1 = b - (b - a) / phi\n",
    "\n",
    "            p_1[i] = x_1\n",
    "            p_2[i] = x_2\n",
    "\n",
    "            f_2 = f_1\n",
    "            f_1 = f(p_1)\n",
    "        else:\n",
    "            a = x_1\n",
    "            x_1 = x_2\n",
    "            x_2 = a + (b - a) / phi\n",
    "\n",
    "            p_1[i] = x_1\n",
    "            p_2[i] = x_2\n",
    "\n",
    "            f_1 = f_2\n",
    "            f_2 = f(p_2)\n",
    "    p_ = p_1\n",
    "    for i in range(len(p_)):\n",
    "        p_[i] = (p_1[i] + p_2[i]) / 2\n",
    "    return p_"
   ]
  },
  {
   "cell_type": "markdown",
   "id": "7111509c",
   "metadata": {
    "pycharm": {
     "name": "#%% md\n"
    }
   },
   "source": [
    "Функция вычисляющая евклидово расстояние между 2 точками"
   ]
  },
  {
   "cell_type": "code",
   "execution_count": 3,
   "id": "7c0ce10a",
   "metadata": {
    "pycharm": {
     "name": "#%%\n"
    }
   },
   "outputs": [],
   "source": [
    "def r(p_1, p_2):\n",
    "    r_ = 0\n",
    "    for i in range(len(p_1)):\n",
    "        r_ += (p_1[i] - p_2[i]) ** 2\n",
    "    return math.sqrt(r_)"
   ]
  },
  {
   "cell_type": "markdown",
   "id": "6cbe0607",
   "metadata": {
    "pycharm": {
     "name": "#%% md\n"
    }
   },
   "source": [
    "Функция принимающая функцию, множество определения и начальную точку.\n",
    "Она раелизует метод наискорейшего спуска, последовательно ищет минимум вдоль направлений параллельных координатным осям и останавливается когда улучшение точности становится малым."
   ]
  },
  {
   "cell_type": "code",
   "execution_count": 4,
   "id": "357a84d7",
   "metadata": {
    "pycharm": {
     "name": "#%%\n"
    }
   },
   "outputs": [],
   "source": [
    "def fast_search(f, D, p):\n",
    "    dimension = len(D)\n",
    "\n",
    "    while True:\n",
    "        p_0 = p\n",
    "        for i in range(dimension):\n",
    "            p = argmin(f, i, D, p)\n",
    "        if r(p_0, p) < 0.01:\n",
    "            break\n",
    "    return p"
   ]
  },
  {
   "cell_type": "markdown",
   "id": "c9359b88",
   "metadata": {
    "pycharm": {
     "name": "#%% md\n"
    }
   },
   "source": [
    "Рассмотрим пример работы функции на примере:"
   ]
  },
  {
   "cell_type": "code",
   "execution_count": 5,
   "id": "2414155c",
   "metadata": {
    "pycharm": {
     "name": "#%%\n"
    }
   },
   "outputs": [
    {
     "name": "stdout",
     "output_type": "stream",
     "text": [
      "[-2.163525435194824e-16, -9.999591436509917]\n",
      "-21.997957224280615\n"
     ]
    }
   ],
   "source": [
    "def F(x):\n",
    "    return (x[0] ** 2) / 2 - (x[1] ** 2) / 4 + 3\n",
    "\n",
    "p = fast_search(F, [[-10, 10], [-10, 10]], [1, 1])\n",
    "y = F(p)\n",
    "print(p)\n",
    "print(y)"
   ]
  },
  {
   "cell_type": "markdown",
   "id": "a84185f0",
   "metadata": {
    "pycharm": {
     "name": "#%% md\n"
    }
   },
   "source": [
    "Попробуем теперь применить тут алгоритм Moore-Skelboe для поиска минимума вдоль направления:"
   ]
  },
  {
   "cell_type": "code",
   "execution_count": 6,
   "id": "9bda8094",
   "metadata": {
    "pycharm": {
     "name": "#%%\n"
    }
   },
   "outputs": [],
   "source": [
    "def fast_search1(f, D, p):\n",
    "    dimension = len(D)\n",
    "\n",
    "    while True:\n",
    "        p_0 = p\n",
    "        for i in range(dimension):\n",
    "            p = Moore_Skelboe(f, i, D, p)\n",
    "        if r(p_0, p) < 0.01:\n",
    "            break\n",
    "    return p"
   ]
  },
  {
   "cell_type": "code",
   "execution_count": 7,
   "id": "bbdd2a5a",
   "metadata": {
    "pycharm": {
     "name": "#%%\n"
    }
   },
   "outputs": [],
   "source": [
    "def Moore_Skelboe(f, index, D, p):\n",
    "    e = 0.001\n",
    "    interval_d = D.copy()\n",
    "    for i in range(len(p)):\n",
    "        interval_d[i] = interval[p[i], p[i]]\n",
    "    interval_d[index] = D[index]\n",
    "\n",
    "    interval_e = f(interval_d)\n",
    "    list_of_intervals = [[interval_d, interval_e]]\n",
    "    U = fpu.max(interval_e)[1]\n",
    "    w = len(interval_e)\n",
    "    best_interval = list_of_intervals[0]\n",
    "    while w > e:\n",
    "        list_of_intervals.pop(0)\n",
    "        mid = (fpu.max(best_interval[0][index])[0] + fpu.max(best_interval[0][index])[1]) / 2\n",
    "        interval_1 = best_interval[0].copy()\n",
    "        interval_2 = best_interval[0].copy()\n",
    "        interval_1[index] = interval[fpu.max(best_interval[0][index])[0], mid]\n",
    "        interval_1e = f(interval_1)\n",
    "        interval_2[index] = interval[mid, fpu.max(best_interval[0][index])[1]]\n",
    "        interval_2e = f(interval_2)\n",
    "        U = min(U, fpu.max(interval_1e)[1])\n",
    "        U = min(U, fpu.max(interval_2e)[1])\n",
    "        list_of_intervals.append([interval_1, interval_1e])\n",
    "        list_of_intervals.append([interval_2, interval_2e])\n",
    "        for el in list_of_intervals:\n",
    "            if U < fpu.max(el[1])[0]:\n",
    "                list_of_intervals.remove(el)\n",
    "        list_of_intervals.sort(key=lambda item: fpu.max(item[1])[0])\n",
    "        best_interval = list_of_intervals[0]\n",
    "        w = fpu.max(best_interval[0][index])[1] - fpu.max(best_interval[0][index])[0]\n",
    "    return fpu.max(list_of_intervals[0][1])[0]"
   ]
  },
  {
   "cell_type": "code",
   "execution_count": 8,
   "id": "44ee11e8",
   "metadata": {
    "pycharm": {
     "name": "#%%\n"
    }
   },
   "outputs": [
    {
     "ename": "TypeError",
     "evalue": "unsupported operand type(s) for ** or pow(): 'list' and 'int'",
     "output_type": "error",
     "traceback": [
      "\u001B[0;31m---------------------------------------------------------------------------\u001B[0m",
      "\u001B[0;31mTypeError\u001B[0m                                 Traceback (most recent call last)",
      "Cell \u001B[0;32mIn[8], line 1\u001B[0m\n\u001B[0;32m----> 1\u001B[0m p \u001B[38;5;241m=\u001B[39m \u001B[43mfast_search1\u001B[49m\u001B[43m(\u001B[49m\u001B[43mF\u001B[49m\u001B[43m,\u001B[49m\u001B[43m \u001B[49m\u001B[43m[\u001B[49m\u001B[43m[\u001B[49m\u001B[38;5;241;43m-\u001B[39;49m\u001B[38;5;241;43m10\u001B[39;49m\u001B[43m,\u001B[49m\u001B[43m \u001B[49m\u001B[38;5;241;43m10\u001B[39;49m\u001B[43m]\u001B[49m\u001B[43m,\u001B[49m\u001B[43m \u001B[49m\u001B[43m[\u001B[49m\u001B[38;5;241;43m-\u001B[39;49m\u001B[38;5;241;43m10\u001B[39;49m\u001B[43m,\u001B[49m\u001B[43m \u001B[49m\u001B[38;5;241;43m10\u001B[39;49m\u001B[43m]\u001B[49m\u001B[43m]\u001B[49m\u001B[43m,\u001B[49m\u001B[43m \u001B[49m\u001B[43m[\u001B[49m\u001B[38;5;241;43m1\u001B[39;49m\u001B[43m,\u001B[49m\u001B[43m \u001B[49m\u001B[38;5;241;43m1\u001B[39;49m\u001B[43m]\u001B[49m\u001B[43m)\u001B[49m\n\u001B[1;32m      2\u001B[0m y \u001B[38;5;241m=\u001B[39m F(p)\n\u001B[1;32m      3\u001B[0m \u001B[38;5;28mprint\u001B[39m(p)\n",
      "Cell \u001B[0;32mIn[6], line 7\u001B[0m, in \u001B[0;36mfast_search1\u001B[0;34m(f, D, p)\u001B[0m\n\u001B[1;32m      5\u001B[0m p_0 \u001B[38;5;241m=\u001B[39m p\n\u001B[1;32m      6\u001B[0m \u001B[38;5;28;01mfor\u001B[39;00m i \u001B[38;5;129;01min\u001B[39;00m \u001B[38;5;28mrange\u001B[39m(dimension):\n\u001B[0;32m----> 7\u001B[0m     p \u001B[38;5;241m=\u001B[39m \u001B[43mMoore_Skelboe\u001B[49m\u001B[43m(\u001B[49m\u001B[43mf\u001B[49m\u001B[43m,\u001B[49m\u001B[43m \u001B[49m\u001B[43mi\u001B[49m\u001B[43m,\u001B[49m\u001B[43m \u001B[49m\u001B[43mD\u001B[49m\u001B[43m,\u001B[49m\u001B[43m \u001B[49m\u001B[43mp\u001B[49m\u001B[43m)\u001B[49m\n\u001B[1;32m      8\u001B[0m \u001B[38;5;28;01mif\u001B[39;00m r(p_0, p) \u001B[38;5;241m<\u001B[39m \u001B[38;5;241m0.01\u001B[39m:\n\u001B[1;32m      9\u001B[0m     \u001B[38;5;28;01mbreak\u001B[39;00m\n",
      "Cell \u001B[0;32mIn[7], line 8\u001B[0m, in \u001B[0;36mMoore_Skelboe\u001B[0;34m(f, index, D, p)\u001B[0m\n\u001B[1;32m      5\u001B[0m     interval_d[i] \u001B[38;5;241m=\u001B[39m interval[p[i], p[i]]\n\u001B[1;32m      6\u001B[0m interval_d[index] \u001B[38;5;241m=\u001B[39m D[index]\n\u001B[0;32m----> 8\u001B[0m interval_e \u001B[38;5;241m=\u001B[39m \u001B[43mf\u001B[49m\u001B[43m(\u001B[49m\u001B[43minterval_d\u001B[49m\u001B[43m)\u001B[49m\n\u001B[1;32m      9\u001B[0m list_of_intervals \u001B[38;5;241m=\u001B[39m [[interval_d, interval_e]]\n\u001B[1;32m     10\u001B[0m U \u001B[38;5;241m=\u001B[39m fpu\u001B[38;5;241m.\u001B[39mmax(interval_e)[\u001B[38;5;241m1\u001B[39m]\n",
      "Cell \u001B[0;32mIn[5], line 2\u001B[0m, in \u001B[0;36mF\u001B[0;34m(x)\u001B[0m\n\u001B[1;32m      1\u001B[0m \u001B[38;5;28;01mdef\u001B[39;00m \u001B[38;5;21mF\u001B[39m(x):\n\u001B[0;32m----> 2\u001B[0m     \u001B[38;5;28;01mreturn\u001B[39;00m (\u001B[43mx\u001B[49m\u001B[43m[\u001B[49m\u001B[38;5;241;43m0\u001B[39;49m\u001B[43m]\u001B[49m\u001B[43m \u001B[49m\u001B[38;5;241;43m*\u001B[39;49m\u001B[38;5;241;43m*\u001B[39;49m\u001B[43m \u001B[49m\u001B[38;5;241;43m2\u001B[39;49m) \u001B[38;5;241m/\u001B[39m \u001B[38;5;241m2\u001B[39m \u001B[38;5;241m-\u001B[39m (x[\u001B[38;5;241m1\u001B[39m] \u001B[38;5;241m*\u001B[39m\u001B[38;5;241m*\u001B[39m \u001B[38;5;241m2\u001B[39m) \u001B[38;5;241m/\u001B[39m \u001B[38;5;241m4\u001B[39m \u001B[38;5;241m+\u001B[39m \u001B[38;5;241m3\u001B[39m\n",
      "\u001B[0;31mTypeError\u001B[0m: unsupported operand type(s) for ** or pow(): 'list' and 'int'"
     ]
    }
   ],
   "source": [
    "p = fast_search1(F, [[-10, 10], [-10, 10]], [1, 1])\n",
    "y = F(p)\n",
    "print(p)\n",
    "print(y)"
   ]
  },
  {
   "cell_type": "code",
   "execution_count": null,
   "id": "28fca2ed",
   "metadata": {
    "pycharm": {
     "name": "#%%\n"
    }
   },
   "outputs": [],
   "source": []
  }
 ],
 "metadata": {
  "kernelspec": {
   "display_name": "Python 3 (ipykernel)",
   "language": "python",
   "name": "python3"
  },
  "language_info": {
   "codemirror_mode": {
    "name": "ipython",
    "version": 3
   },
   "file_extension": ".py",
   "mimetype": "text/x-python",
   "name": "python",
   "nbconvert_exporter": "python",
   "pygments_lexer": "ipython3",
   "version": "3.9.15"
  }
 },
 "nbformat": 4,
 "nbformat_minor": 5
}